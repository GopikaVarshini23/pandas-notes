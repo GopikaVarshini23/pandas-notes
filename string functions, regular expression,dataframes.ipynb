{
 "cells": [
  {
   "cell_type": "markdown",
   "id": "ce8a6e27",
   "metadata": {},
   "source": [
    "# string functions"
   ]
  },
  {
   "cell_type": "markdown",
   "id": "8f4a4b59",
   "metadata": {},
   "source": [
    "If you have been using the pandas library in python you may have noticed that a lot of data comes in textual form instead of pure numbers as some people may imagine. \n",
    "\n",
    "\n",
    "This means there is a need to clean and preprocess string so it can be analyzed, consumed by algorithms, or shown to the public. Luckily pandas library has its own part that deals with string processing. \n",
    "\n",
    "\n",
    "In this article, we will walk you through this part of the pandas' library and show you the most useful pandas string processing functions. You will learn how to use"
   ]
  },
  {
   "cell_type": "markdown",
   "id": "02a6ef92",
   "metadata": {},
   "source": [
    "### isnumeric():"
   ]
  },
  {
   "cell_type": "markdown",
   "id": "03637a3b",
   "metadata": {},
   "source": [
    "pandas.Series.str.isnumeric to Check whether all characters in each string are numeric."
   ]
  },
  {
   "cell_type": "code",
   "execution_count": 1,
   "id": "089cc387",
   "metadata": {},
   "outputs": [
    {
     "data": {
      "text/plain": [
       "0     True\n",
       "1     True\n",
       "2     True\n",
       "3    False\n",
       "dtype: bool"
      ]
     },
     "execution_count": 1,
     "metadata": {},
     "output_type": "execute_result"
    }
   ],
   "source": [
    "import pandas as pd\n",
    "s3 = pd.Series(['23', '4', '⅕', ''])\n",
    "s3.str.isnumeric()"
   ]
  },
  {
   "cell_type": "code",
   "execution_count": 22,
   "id": "b167c89b",
   "metadata": {},
   "outputs": [
    {
     "data": {
      "text/plain": [
       "0     True\n",
       "1     True\n",
       "2    False\n",
       "3    False\n",
       "dtype: bool"
      ]
     },
     "execution_count": 22,
     "metadata": {},
     "output_type": "execute_result"
    }
   ],
   "source": [
    "import pandas as pd\n",
    "s1=pd.Series(['1','3','t','happy'])\n",
    "s1.str.isnumeric()"
   ]
  },
  {
   "cell_type": "markdown",
   "id": "de9f748f",
   "metadata": {},
   "source": [
    "### isdigit() "
   ]
  },
  {
   "cell_type": "markdown",
   "id": "066c41f9",
   "metadata": {},
   "source": [
    "isdigit() Function in pandas is used how to check for the presence of numeric digit in a column of dataframe in python. "
   ]
  },
  {
   "cell_type": "code",
   "execution_count": 25,
   "id": "3a206522",
   "metadata": {},
   "outputs": [
    {
     "data": {
      "text/plain": [
       "0     True\n",
       "1     True\n",
       "2    False\n",
       "3    False\n",
       "dtype: bool"
      ]
     },
     "execution_count": 25,
     "metadata": {},
     "output_type": "execute_result"
    }
   ],
   "source": [
    "s1.str.isdigit()"
   ]
  },
  {
   "cell_type": "markdown",
   "id": "d332cb22",
   "metadata": {},
   "source": [
    "### len():"
   ]
  },
  {
   "cell_type": "markdown",
   "id": "107148e4",
   "metadata": {},
   "source": [
    "With the help of len() we can compute the length of each string in DataFrame & if there is empty data in DataFrame, it returns NaN."
   ]
  },
  {
   "cell_type": "code",
   "execution_count": 26,
   "id": "60120163",
   "metadata": {},
   "outputs": [
    {
     "data": {
      "text/plain": [
       "0    1\n",
       "1    1\n",
       "2    1\n",
       "3    5\n",
       "dtype: int64"
      ]
     },
     "execution_count": 26,
     "metadata": {},
     "output_type": "execute_result"
    }
   ],
   "source": [
    "s1.str.len()"
   ]
  },
  {
   "cell_type": "markdown",
   "id": "e8f3031d",
   "metadata": {},
   "source": [
    "### upper(): "
   ]
  },
  {
   "cell_type": "markdown",
   "id": "150ffbe8",
   "metadata": {},
   "source": [
    "Converts all lowercase characters in strings in the DataFrame to upper case and returns the uppercase strings in result."
   ]
  },
  {
   "cell_type": "code",
   "execution_count": 27,
   "id": "ddd567c1",
   "metadata": {},
   "outputs": [
    {
     "data": {
      "text/plain": [
       "0        1\n",
       "1        3\n",
       "2        T\n",
       "3    HAPPY\n",
       "dtype: object"
      ]
     },
     "execution_count": 27,
     "metadata": {},
     "output_type": "execute_result"
    }
   ],
   "source": [
    "s1.str.upper()"
   ]
  },
  {
   "cell_type": "markdown",
   "id": "7fe498d7",
   "metadata": {},
   "source": [
    "### lower(): "
   ]
  },
  {
   "cell_type": "markdown",
   "id": "54822b28",
   "metadata": {},
   "source": [
    "Converts all uppercase characters in strings in the DataFrame to lower case and returns the lowercase strings in the result."
   ]
  },
  {
   "cell_type": "code",
   "execution_count": 8,
   "id": "5adcf95f",
   "metadata": {},
   "outputs": [
    {
     "data": {
      "text/plain": [
       "0        1\n",
       "1        3\n",
       "2        t\n",
       "3    happy\n",
       "dtype: object"
      ]
     },
     "execution_count": 8,
     "metadata": {},
     "output_type": "execute_result"
    }
   ],
   "source": [
    "s1.str.lower()"
   ]
  },
  {
   "cell_type": "markdown",
   "id": "c7d08f9a",
   "metadata": {},
   "source": [
    "### strip():"
   ]
  },
  {
   "cell_type": "markdown",
   "id": "b52bf0ef",
   "metadata": {},
   "source": [
    "If there are spaces at the beginning or end of a string, we should trim the strings to eliminate spaces using strip() or remove the extra spaces contained by a string in DataFrame.\n"
   ]
  },
  {
   "cell_type": "code",
   "execution_count": 9,
   "id": "fd28754c",
   "metadata": {},
   "outputs": [
    {
     "data": {
      "text/plain": [
       "0        1\n",
       "1        3\n",
       "2        t\n",
       "3    happy\n",
       "dtype: object"
      ]
     },
     "execution_count": 9,
     "metadata": {},
     "output_type": "execute_result"
    }
   ],
   "source": [
    "s1.str.strip()"
   ]
  },
  {
   "cell_type": "markdown",
   "id": "03c8645a",
   "metadata": {},
   "source": [
    "### islower():"
   ]
  },
  {
   "cell_type": "markdown",
   "id": "beb95d43",
   "metadata": {},
   "source": [
    " It checks whether all characters in each string in the Index of the Data-Frame in lower case or not, and returns a Boolean value."
   ]
  },
  {
   "cell_type": "code",
   "execution_count": 5,
   "id": "284ae43d",
   "metadata": {},
   "outputs": [
    {
     "data": {
      "text/plain": [
       "0    False\n",
       "1    False\n",
       "2     True\n",
       "3     True\n",
       "dtype: bool"
      ]
     },
     "execution_count": 5,
     "metadata": {},
     "output_type": "execute_result"
    }
   ],
   "source": [
    "import pandas as pd\n",
    "s1=pd.Series(['1','3','t','happy'])\n",
    "s1.str.islower()"
   ]
  },
  {
   "cell_type": "markdown",
   "id": "43ef4c1b",
   "metadata": {},
   "source": [
    "### isupper(): "
   ]
  },
  {
   "cell_type": "markdown",
   "id": "c648e869",
   "metadata": {},
   "source": [
    "It checks whether all characters in each string in the Index of the Data-Frame in upper case or not, and returns a Boolean value."
   ]
  },
  {
   "cell_type": "code",
   "execution_count": 73,
   "id": "b35e3ebf",
   "metadata": {},
   "outputs": [
    {
     "data": {
      "text/plain": [
       "0    False\n",
       "1    False\n",
       "2    False\n",
       "3    False\n",
       "dtype: bool"
      ]
     },
     "execution_count": 73,
     "metadata": {},
     "output_type": "execute_result"
    }
   ],
   "source": [
    "s1.str.isupper()"
   ]
  },
  {
   "cell_type": "markdown",
   "id": "5dbc37f5",
   "metadata": {},
   "source": [
    "### Capitalize()"
   ]
  },
  {
   "cell_type": "markdown",
   "id": "0cde49ea",
   "metadata": {},
   "source": [
    "Capitalize() Function in python is used to capitalize the First character of the string or first character of the column in dataframe."
   ]
  },
  {
   "cell_type": "code",
   "execution_count": 32,
   "id": "fe450132",
   "metadata": {},
   "outputs": [
    {
     "data": {
      "text/plain": [
       "0        1\n",
       "1        3\n",
       "2        T\n",
       "3    Happy\n",
       "dtype: object"
      ]
     },
     "execution_count": 32,
     "metadata": {},
     "output_type": "execute_result"
    }
   ],
   "source": [
    "s1.str.capitalize()"
   ]
  },
  {
   "cell_type": "markdown",
   "id": "0934337c",
   "metadata": {},
   "source": [
    "### swapcase(): "
   ]
  },
  {
   "cell_type": "markdown",
   "id": "60c9de3e",
   "metadata": {},
   "source": [
    "It swaps the case lower to upper and vice-versa. Like in the example below, it converts all uppercase characters in each string into lowercase and vice-versa (lowercase -> uppercase)."
   ]
  },
  {
   "cell_type": "code",
   "execution_count": 33,
   "id": "d44ac1f4",
   "metadata": {},
   "outputs": [
    {
     "data": {
      "text/plain": [
       "0        1\n",
       "1        3\n",
       "2        T\n",
       "3    HAPPY\n",
       "dtype: object"
      ]
     },
     "execution_count": 33,
     "metadata": {},
     "output_type": "execute_result"
    }
   ],
   "source": [
    "s1.str.swapcase()"
   ]
  },
  {
   "cell_type": "markdown",
   "id": "c9d7c938",
   "metadata": {},
   "source": [
    "### title():"
   ]
  },
  {
   "cell_type": "markdown",
   "id": "5a3cc6be",
   "metadata": {},
   "source": [
    "title() function is used to convert strings in the Series/Index to titlecase. The function is equivalent to str. title()"
   ]
  },
  {
   "cell_type": "code",
   "execution_count": 34,
   "id": "eaaf948c",
   "metadata": {},
   "outputs": [
    {
     "data": {
      "text/plain": [
       "0        1\n",
       "1        3\n",
       "2        T\n",
       "3    Happy\n",
       "dtype: object"
      ]
     },
     "execution_count": 34,
     "metadata": {},
     "output_type": "execute_result"
    }
   ],
   "source": [
    "s1.str.title()"
   ]
  },
  {
   "cell_type": "markdown",
   "id": "35b757f9",
   "metadata": {},
   "source": [
    "### split(‘ ‘): "
   ]
  },
  {
   "cell_type": "markdown",
   "id": "8674fdb6",
   "metadata": {},
   "source": [
    "Splits each string with the given pattern. Strings are split and the new elements after the performed split operation, are stored in a list.\n",
    "***** split(pattern)"
   ]
  },
  {
   "cell_type": "code",
   "execution_count": 35,
   "id": "ed996364",
   "metadata": {},
   "outputs": [
    {
     "data": {
      "text/plain": [
       "0        [1]\n",
       "1        [3]\n",
       "2        [t]\n",
       "3    [happy]\n",
       "dtype: object"
      ]
     },
     "execution_count": 35,
     "metadata": {},
     "output_type": "execute_result"
    }
   ],
   "source": [
    "s1.str.split()"
   ]
  },
  {
   "cell_type": "markdown",
   "id": "78e3afc3",
   "metadata": {},
   "source": [
    "### cat(sep=’ ‘): "
   ]
  },
  {
   "cell_type": "markdown",
   "id": "0a6542ea",
   "metadata": {},
   "source": [
    "It concatenates the data-frame index elements or each string in DataFrame with given separator."
   ]
  },
  {
   "cell_type": "code",
   "execution_count": 36,
   "id": "68b85272",
   "metadata": {},
   "outputs": [
    {
     "data": {
      "text/plain": [
       "'13thappy'"
      ]
     },
     "execution_count": 36,
     "metadata": {},
     "output_type": "execute_result"
    }
   ],
   "source": [
    "s1.str.cat()"
   ]
  },
  {
   "cell_type": "code",
   "execution_count": 10,
   "id": "96893a7d",
   "metadata": {},
   "outputs": [
    {
     "data": {
      "text/plain": [
       "0            11\n",
       "1            33\n",
       "2            tt\n",
       "3    happyhappy\n",
       "dtype: object"
      ]
     },
     "execution_count": 10,
     "metadata": {},
     "output_type": "execute_result"
    }
   ],
   "source": [
    "s1.str.cat(s1)"
   ]
  },
  {
   "cell_type": "code",
   "execution_count": 11,
   "id": "adbf3be5",
   "metadata": {},
   "outputs": [
    {
     "data": {
      "text/plain": [
       "'1:3:t:happy'"
      ]
     },
     "execution_count": 11,
     "metadata": {},
     "output_type": "execute_result"
    }
   ],
   "source": [
    "s1.str.cat(sep=':')"
   ]
  },
  {
   "cell_type": "code",
   "execution_count": 12,
   "id": "b119159d",
   "metadata": {},
   "outputs": [
    {
     "data": {
      "text/plain": [
       "0        1@\n",
       "1        3#\n",
       "2        t%\n",
       "3    happy&\n",
       "dtype: object"
      ]
     },
     "execution_count": 12,
     "metadata": {},
     "output_type": "execute_result"
    }
   ],
   "source": [
    "s1.str.cat(['@','#','%','&'])"
   ]
  },
  {
   "cell_type": "markdown",
   "id": "dd48f385",
   "metadata": {},
   "source": [
    "### join():"
   ]
  },
  {
   "cell_type": "markdown",
   "id": "d5bb06b3",
   "metadata": {},
   "source": [
    "join() method is used to join all elements in list present in a series with passed delimiter"
   ]
  },
  {
   "cell_type": "code",
   "execution_count": 6,
   "id": "49f3cf12",
   "metadata": {},
   "outputs": [
    {
     "data": {
      "text/plain": [
       "0            1\n",
       "1            3\n",
       "2            t\n",
       "3    h#a#p#p#y\n",
       "dtype: object"
      ]
     },
     "execution_count": 6,
     "metadata": {},
     "output_type": "execute_result"
    }
   ],
   "source": [
    "s1.str.join('#')"
   ]
  },
  {
   "cell_type": "code",
   "execution_count": 39,
   "id": "a2033ad3",
   "metadata": {},
   "outputs": [
    {
     "data": {
      "text/plain": [
       "0            1\n",
       "1            3\n",
       "2            t\n",
       "3    h;a;p;p;y\n",
       "dtype: object"
      ]
     },
     "execution_count": 39,
     "metadata": {},
     "output_type": "execute_result"
    }
   ],
   "source": [
    "s1.str.join(';')"
   ]
  },
  {
   "cell_type": "markdown",
   "id": "4e698ba9",
   "metadata": {},
   "source": [
    "### replace(a,b):"
   ]
  },
  {
   "cell_type": "markdown",
   "id": "d3fd7934",
   "metadata": {},
   "source": [
    " It replaces the value a with the value b like below in example ‘Geeks’ is being replaced by ‘Gulshan’."
   ]
  },
  {
   "cell_type": "code",
   "execution_count": 47,
   "id": "a8dbb547",
   "metadata": {},
   "outputs": [
    {
     "data": {
      "text/plain": [
       "0        1\n",
       "1        3\n",
       "2        t\n",
       "3    %appy\n",
       "dtype: object"
      ]
     },
     "execution_count": 47,
     "metadata": {},
     "output_type": "execute_result"
    }
   ],
   "source": [
    "s1.str.replace('h','%')"
   ]
  },
  {
   "cell_type": "markdown",
   "id": "d12d01b0",
   "metadata": {},
   "source": [
    "### contains(''):"
   ]
  },
  {
   "cell_type": "markdown",
   "id": "75ede9e6",
   "metadata": {},
   "source": [
    "str. contains() function is used to test if pattern or regex is contained within a string of a Series or Index"
   ]
  },
  {
   "cell_type": "code",
   "execution_count": 53,
   "id": "e27f7b90",
   "metadata": {},
   "outputs": [
    {
     "data": {
      "text/plain": [
       "0    False\n",
       "1    False\n",
       "2    False\n",
       "3     True\n",
       "dtype: bool"
      ]
     },
     "execution_count": 53,
     "metadata": {},
     "output_type": "execute_result"
    }
   ],
   "source": [
    "s1.str.contains('a')"
   ]
  },
  {
   "cell_type": "code",
   "execution_count": 18,
   "id": "c7e727a7",
   "metadata": {},
   "outputs": [
    {
     "data": {
      "text/plain": [
       "0    False\n",
       "1    False\n",
       "2    False\n",
       "3     True\n",
       "dtype: bool"
      ]
     },
     "execution_count": 18,
     "metadata": {},
     "output_type": "execute_result"
    }
   ],
   "source": [
    "s1.str.contains('h')"
   ]
  },
  {
   "cell_type": "markdown",
   "id": "0bba3304",
   "metadata": {},
   "source": [
    "### isalnum():"
   ]
  },
  {
   "cell_type": "markdown",
   "id": "84a5b9f8",
   "metadata": {},
   "source": [
    "isalnum() function is used to check whether all characters in each string are alphanumeric or not"
   ]
  },
  {
   "cell_type": "code",
   "execution_count": 57,
   "id": "d94543d2",
   "metadata": {},
   "outputs": [
    {
     "data": {
      "text/plain": [
       "0    True\n",
       "1    True\n",
       "2    True\n",
       "3    True\n",
       "dtype: bool"
      ]
     },
     "execution_count": 57,
     "metadata": {},
     "output_type": "execute_result"
    }
   ],
   "source": [
    "s1.str.isalnum()"
   ]
  },
  {
   "cell_type": "markdown",
   "id": "c9e165bb",
   "metadata": {},
   "source": [
    "### count(pattern):"
   ]
  },
  {
   "cell_type": "markdown",
   "id": "bab4fabd",
   "metadata": {},
   "source": [
    " It returns the count of the appearance of pattern in each element in Data-Frame like below in example it counts ‘n’ in each string of DataFrame and returns the total counts of ‘n’ in each string"
   ]
  },
  {
   "cell_type": "code",
   "execution_count": 60,
   "id": "c26be19a",
   "metadata": {},
   "outputs": [
    {
     "data": {
      "text/plain": [
       "0    0\n",
       "1    0\n",
       "2    0\n",
       "3    1\n",
       "dtype: int64"
      ]
     },
     "execution_count": 60,
     "metadata": {},
     "output_type": "execute_result"
    }
   ],
   "source": [
    "s1.str.count('a')"
   ]
  },
  {
   "cell_type": "code",
   "execution_count": 19,
   "id": "2ad17f51",
   "metadata": {},
   "outputs": [
    {
     "data": {
      "text/plain": [
       "0    0\n",
       "1    0\n",
       "2    0\n",
       "3    1\n",
       "dtype: int64"
      ]
     },
     "execution_count": 19,
     "metadata": {},
     "output_type": "execute_result"
    }
   ],
   "source": [
    "s1.str.count('h')"
   ]
  },
  {
   "cell_type": "code",
   "execution_count": 20,
   "id": "696eb8c5",
   "metadata": {},
   "outputs": [
    {
     "data": {
      "text/plain": [
       "0    0\n",
       "1    0\n",
       "2    0\n",
       "3    2\n",
       "dtype: int64"
      ]
     },
     "execution_count": 20,
     "metadata": {},
     "output_type": "execute_result"
    }
   ],
   "source": [
    "s1.str.count('p')"
   ]
  },
  {
   "cell_type": "markdown",
   "id": "96cbb9af",
   "metadata": {},
   "source": [
    "### findall(pattern):"
   ]
  },
  {
   "cell_type": "markdown",
   "id": "a9f37107",
   "metadata": {},
   "source": [
    " It returns a list of all occurrences of the pattern. As we can see in below, there is a returned list consisting n as it appears only once in the string."
   ]
  },
  {
   "cell_type": "code",
   "execution_count": 66,
   "id": "40056d8a",
   "metadata": {},
   "outputs": [
    {
     "data": {
      "text/plain": [
       "0     []\n",
       "1     []\n",
       "2     []\n",
       "3    [h]\n",
       "dtype: object"
      ]
     },
     "execution_count": 66,
     "metadata": {},
     "output_type": "execute_result"
    }
   ],
   "source": [
    "s1.str.findall('h')"
   ]
  },
  {
   "cell_type": "markdown",
   "id": "a52c938d",
   "metadata": {},
   "source": [
    "### find(pattern):"
   ]
  },
  {
   "cell_type": "markdown",
   "id": "3496f240",
   "metadata": {},
   "source": [
    "It returns the first position of the first occurrence of the pattern. We can see in the example below, that it returns the index value of appearance of character ‘n’ in each string throughout the DataFrame"
   ]
  },
  {
   "cell_type": "code",
   "execution_count": 69,
   "id": "7d803f7a",
   "metadata": {},
   "outputs": [
    {
     "data": {
      "text/plain": [
       "0   -1\n",
       "1   -1\n",
       "2   -1\n",
       "3    2\n",
       "dtype: int64"
      ]
     },
     "execution_count": 69,
     "metadata": {},
     "output_type": "execute_result"
    }
   ],
   "source": [
    "s1.str.find('p')"
   ]
  },
  {
   "cell_type": "code",
   "execution_count": 16,
   "id": "48a10323",
   "metadata": {},
   "outputs": [
    {
     "data": {
      "text/plain": [
       "0   -1\n",
       "1   -1\n",
       "2   -1\n",
       "3    0\n",
       "dtype: int64"
      ]
     },
     "execution_count": 16,
     "metadata": {},
     "output_type": "execute_result"
    }
   ],
   "source": [
    "s1.str.find('h')"
   ]
  },
  {
   "cell_type": "markdown",
   "id": "87071a74",
   "metadata": {},
   "source": [
    "### startswith():"
   ]
  },
  {
   "cell_type": "markdown",
   "id": "eaca612b",
   "metadata": {},
   "source": [
    "Pandas startswith() is yet another method to search and filter text data in Series or Data Frame"
   ]
  },
  {
   "cell_type": "code",
   "execution_count": 71,
   "id": "19eaffc2",
   "metadata": {},
   "outputs": [
    {
     "data": {
      "text/plain": [
       "0    False\n",
       "1    False\n",
       "2    False\n",
       "3     True\n",
       "dtype: bool"
      ]
     },
     "execution_count": 71,
     "metadata": {},
     "output_type": "execute_result"
    }
   ],
   "source": [
    "s1.str.startswith('h')"
   ]
  },
  {
   "cell_type": "markdown",
   "id": "240b9426",
   "metadata": {},
   "source": [
    "### endswith(pattern): "
   ]
  },
  {
   "cell_type": "markdown",
   "id": "4d08c349",
   "metadata": {},
   "source": [
    "It returns true if the element or string in the DataFrame Index ends with the pattern."
   ]
  },
  {
   "cell_type": "code",
   "execution_count": 72,
   "id": "67fc3fcb",
   "metadata": {},
   "outputs": [
    {
     "data": {
      "text/plain": [
       "0    False\n",
       "1    False\n",
       "2    False\n",
       "3     True\n",
       "dtype: bool"
      ]
     },
     "execution_count": 72,
     "metadata": {},
     "output_type": "execute_result"
    }
   ],
   "source": [
    "s1.str.startswith('h')"
   ]
  },
  {
   "cell_type": "code",
   "execution_count": 7,
   "id": "7ad4d0e9",
   "metadata": {},
   "outputs": [
    {
     "data": {
      "text/plain": [
       "0    False\n",
       "1    False\n",
       "2    False\n",
       "3    False\n",
       "dtype: bool"
      ]
     },
     "execution_count": 7,
     "metadata": {},
     "output_type": "execute_result"
    }
   ],
   "source": [
    "s1.str.endswith('h')"
   ]
  },
  {
   "cell_type": "markdown",
   "id": "f7b0fe29",
   "metadata": {},
   "source": [
    "### get_dummies(): "
   ]
  },
  {
   "cell_type": "markdown",
   "id": "2b4221f3",
   "metadata": {},
   "source": [
    "It returns the DataFrame with One-Hot Encoded values like we can see that it returns boolean value 1 if it exists in relative index or 0 if not exists."
   ]
  },
  {
   "cell_type": "code",
   "execution_count": 76,
   "id": "5bd2142b",
   "metadata": {},
   "outputs": [
    {
     "data": {
      "text/html": [
       "<div>\n",
       "<style scoped>\n",
       "    .dataframe tbody tr th:only-of-type {\n",
       "        vertical-align: middle;\n",
       "    }\n",
       "\n",
       "    .dataframe tbody tr th {\n",
       "        vertical-align: top;\n",
       "    }\n",
       "\n",
       "    .dataframe thead th {\n",
       "        text-align: right;\n",
       "    }\n",
       "</style>\n",
       "<table border=\"1\" class=\"dataframe\">\n",
       "  <thead>\n",
       "    <tr style=\"text-align: right;\">\n",
       "      <th></th>\n",
       "      <th>1</th>\n",
       "      <th>3</th>\n",
       "      <th>happy</th>\n",
       "      <th>t</th>\n",
       "    </tr>\n",
       "  </thead>\n",
       "  <tbody>\n",
       "    <tr>\n",
       "      <th>0</th>\n",
       "      <td>1</td>\n",
       "      <td>0</td>\n",
       "      <td>0</td>\n",
       "      <td>0</td>\n",
       "    </tr>\n",
       "    <tr>\n",
       "      <th>1</th>\n",
       "      <td>0</td>\n",
       "      <td>1</td>\n",
       "      <td>0</td>\n",
       "      <td>0</td>\n",
       "    </tr>\n",
       "    <tr>\n",
       "      <th>2</th>\n",
       "      <td>0</td>\n",
       "      <td>0</td>\n",
       "      <td>0</td>\n",
       "      <td>1</td>\n",
       "    </tr>\n",
       "    <tr>\n",
       "      <th>3</th>\n",
       "      <td>0</td>\n",
       "      <td>0</td>\n",
       "      <td>1</td>\n",
       "      <td>0</td>\n",
       "    </tr>\n",
       "  </tbody>\n",
       "</table>\n",
       "</div>"
      ],
      "text/plain": [
       "   1  3  happy  t\n",
       "0  1  0      0  0\n",
       "1  0  1      0  0\n",
       "2  0  0      0  1\n",
       "3  0  0      1  0"
      ]
     },
     "execution_count": 76,
     "metadata": {},
     "output_type": "execute_result"
    }
   ],
   "source": [
    "s1.str.get_dummies()"
   ]
  },
  {
   "cell_type": "code",
   "execution_count": 79,
   "id": "666cb5fc",
   "metadata": {},
   "outputs": [
    {
     "data": {
      "text/html": [
       "<div>\n",
       "<style scoped>\n",
       "    .dataframe tbody tr th:only-of-type {\n",
       "        vertical-align: middle;\n",
       "    }\n",
       "\n",
       "    .dataframe tbody tr th {\n",
       "        vertical-align: top;\n",
       "    }\n",
       "\n",
       "    .dataframe thead th {\n",
       "        text-align: right;\n",
       "    }\n",
       "</style>\n",
       "<table border=\"1\" class=\"dataframe\">\n",
       "  <thead>\n",
       "    <tr style=\"text-align: right;\">\n",
       "      <th></th>\n",
       "      <th>3</th>\n",
       "      <th>happy</th>\n",
       "      <th>t</th>\n",
       "    </tr>\n",
       "  </thead>\n",
       "  <tbody>\n",
       "    <tr>\n",
       "      <th>0</th>\n",
       "      <td>0</td>\n",
       "      <td>0</td>\n",
       "      <td>0</td>\n",
       "    </tr>\n",
       "    <tr>\n",
       "      <th>1</th>\n",
       "      <td>1</td>\n",
       "      <td>0</td>\n",
       "      <td>0</td>\n",
       "    </tr>\n",
       "    <tr>\n",
       "      <th>2</th>\n",
       "      <td>0</td>\n",
       "      <td>0</td>\n",
       "      <td>1</td>\n",
       "    </tr>\n",
       "    <tr>\n",
       "      <th>3</th>\n",
       "      <td>0</td>\n",
       "      <td>1</td>\n",
       "      <td>0</td>\n",
       "    </tr>\n",
       "  </tbody>\n",
       "</table>\n",
       "</div>"
      ],
      "text/plain": [
       "   3  happy  t\n",
       "0  0      0  0\n",
       "1  1      0  0\n",
       "2  0      0  1\n",
       "3  0      1  0"
      ]
     },
     "execution_count": 79,
     "metadata": {},
     "output_type": "execute_result"
    }
   ],
   "source": [
    "s1.str.get_dummies('1')"
   ]
  },
  {
   "cell_type": "code",
   "execution_count": 80,
   "id": "0f9236c8",
   "metadata": {},
   "outputs": [
    {
     "data": {
      "text/html": [
       "<div>\n",
       "<style scoped>\n",
       "    .dataframe tbody tr th:only-of-type {\n",
       "        vertical-align: middle;\n",
       "    }\n",
       "\n",
       "    .dataframe tbody tr th {\n",
       "        vertical-align: top;\n",
       "    }\n",
       "\n",
       "    .dataframe thead th {\n",
       "        text-align: right;\n",
       "    }\n",
       "</style>\n",
       "<table border=\"1\" class=\"dataframe\">\n",
       "  <thead>\n",
       "    <tr style=\"text-align: right;\">\n",
       "      <th></th>\n",
       "      <th>1</th>\n",
       "      <th>3</th>\n",
       "      <th>happy</th>\n",
       "    </tr>\n",
       "  </thead>\n",
       "  <tbody>\n",
       "    <tr>\n",
       "      <th>0</th>\n",
       "      <td>1</td>\n",
       "      <td>0</td>\n",
       "      <td>0</td>\n",
       "    </tr>\n",
       "    <tr>\n",
       "      <th>1</th>\n",
       "      <td>0</td>\n",
       "      <td>1</td>\n",
       "      <td>0</td>\n",
       "    </tr>\n",
       "    <tr>\n",
       "      <th>2</th>\n",
       "      <td>0</td>\n",
       "      <td>0</td>\n",
       "      <td>0</td>\n",
       "    </tr>\n",
       "    <tr>\n",
       "      <th>3</th>\n",
       "      <td>0</td>\n",
       "      <td>0</td>\n",
       "      <td>1</td>\n",
       "    </tr>\n",
       "  </tbody>\n",
       "</table>\n",
       "</div>"
      ],
      "text/plain": [
       "   1  3  happy\n",
       "0  1  0      0\n",
       "1  0  1      0\n",
       "2  0  0      0\n",
       "3  0  0      1"
      ]
     },
     "execution_count": 80,
     "metadata": {},
     "output_type": "execute_result"
    }
   ],
   "source": [
    "s1.str.get_dummies('t')"
   ]
  },
  {
   "cell_type": "markdown",
   "id": "237b775f",
   "metadata": {},
   "source": [
    "### encode():"
   ]
  },
  {
   "cell_type": "markdown",
   "id": "89ca27b2",
   "metadata": {},
   "source": [
    "encode() function to encode the character strings present in the underlying data of the given series object"
   ]
  },
  {
   "cell_type": "code",
   "execution_count": 93,
   "id": "0a47697a",
   "metadata": {},
   "outputs": [
    {
     "data": {
      "text/plain": [
       "0                    b'\\xf1'\n",
       "1                    b'\\xf3'\n",
       "2                    b'\\xa3'\n",
       "3    b'\\x88\\x81\\x97\\x97\\xa8'\n",
       "dtype: object"
      ]
     },
     "execution_count": 93,
     "metadata": {},
     "output_type": "execute_result"
    }
   ],
   "source": [
    "s1.str.encode('CP500')"
   ]
  },
  {
   "cell_type": "markdown",
   "id": "002869d6",
   "metadata": {},
   "source": [
    "### decode():"
   ]
  },
  {
   "cell_type": "markdown",
   "id": "d332876a",
   "metadata": {},
   "source": [
    "str. decode() function is used to decode character string in the Series/Index using indicated encoding"
   ]
  },
  {
   "cell_type": "code",
   "execution_count": 95,
   "id": "2dccfd65",
   "metadata": {},
   "outputs": [
    {
     "data": {
      "text/plain": [
       "0   NaN\n",
       "1   NaN\n",
       "2   NaN\n",
       "3   NaN\n",
       "dtype: float64"
      ]
     },
     "execution_count": 95,
     "metadata": {},
     "output_type": "execute_result"
    }
   ],
   "source": [
    "s1.str.decode('CP500')"
   ]
  },
  {
   "cell_type": "markdown",
   "id": "acdf37ef",
   "metadata": {},
   "source": [
    "### encode and decode"
   ]
  },
  {
   "cell_type": "code",
   "execution_count": 100,
   "id": "0164faa4",
   "metadata": {},
   "outputs": [
    {
     "name": "stdout",
     "output_type": "stream",
     "text": [
      "0        alicesmith\n",
      "1          bobjones\n",
      "2    charliejoneson\n",
      "3        daisywhite\n",
      "dtype: object\n",
      "0   NaN\n",
      "1   NaN\n",
      "2   NaN\n",
      "3   NaN\n",
      "dtype: float64\n"
     ]
    }
   ],
   "source": [
    "s3=pd.Series(['alicesmith','bobjones','charliejoneson','daisywhite'])\n",
    "print(s3)\n",
    "print(s3.str.decode(encoding='UTF8'))"
   ]
  },
  {
   "cell_type": "markdown",
   "id": "aea8e6ee",
   "metadata": {},
   "source": [
    "# 7-5-22"
   ]
  },
  {
   "cell_type": "markdown",
   "id": "ae5cf93a",
   "metadata": {},
   "source": [
    "## regular expression"
   ]
  },
  {
   "cell_type": "markdown",
   "id": "cd2d157a",
   "metadata": {},
   "source": [
    "split() , count() , match() "
   ]
  },
  {
   "cell_type": "markdown",
   "id": "a9f94802",
   "metadata": {},
   "source": [
    "we can use\n",
    "* (r'(^a)')\n",
    "* (r'(^a*)')\n",
    "* (r'(^a.*)')\n",
    "* (r'(^a),*')\n",
    "* (r'^(f,F)')\n",
    "* (r'(^f)')\n",
    "contains\n",
    "* (r'([/f])')\n",
    "* (r'(^[f,m,s].*)')\n",
    "* (r'(^f.*)')\n",
    "* (r'([a]$.*)')\n",
    "* (r'([a,d]$.*)')\n",
    "* (r'([/m].*)')\n",
    "findall\n",
    "* (r'(^M)') --->get letter starts with M [M] for mumbai\n",
    "* (r'(^M.*)') --->[mumbai]\n",
    "* (r'(^M)*') --->[M,,,,,]\n",
    "* (r'(^M).*') ----->[][][][][]\n",
    "split\n",
    "* (r'(^F)') ----> [,F,inland][,F,lorida]\n",
    "* (r'(^F.*)') ---->[,Finland,][,Florida,]\n",
    "* (r'(^F*)') ---->[,F,inland][,F,lorida]\n",
    "* (r'(^F).*)') ---->[,F,][,F,]"
   ]
  },
  {
   "cell_type": "markdown",
   "id": "ada518ef",
   "metadata": {},
   "source": [
    "### countains"
   ]
  },
  {
   "cell_type": "code",
   "execution_count": 3,
   "id": "4a77d92c",
   "metadata": {},
   "outputs": [
    {
     "name": "stdout",
     "output_type": "stream",
     "text": [
      "0    puerto rico\n",
      "1        finland\n",
      "2       colombia\n",
      "3        florida\n",
      "4          japan\n",
      "5       portland\n",
      "6          india\n",
      "7         mumbai\n",
      "8        moulali\n",
      "dtype: object\n"
     ]
    }
   ],
   "source": [
    "import pandas as pd\n",
    "list = ['puerto rico','finland','colombia','florida','japan','portland','india','mumbai','moulali']\n",
    "ser = pd.Series(list)\n",
    "print(ser)"
   ]
  },
  {
   "cell_type": "code",
   "execution_count": 8,
   "id": "0e16eafc",
   "metadata": {},
   "outputs": [
    {
     "data": {
      "text/plain": [
       "0    False\n",
       "1    False\n",
       "2     True\n",
       "3    False\n",
       "4    False\n",
       "5    False\n",
       "6    False\n",
       "7    False\n",
       "8    False\n",
       "dtype: bool"
      ]
     },
     "execution_count": 8,
     "metadata": {},
     "output_type": "execute_result"
    }
   ],
   "source": [
    "ser.str.contains('mbia')"
   ]
  },
  {
   "cell_type": "code",
   "execution_count": 23,
   "id": "a9a8cab6",
   "metadata": {},
   "outputs": [
    {
     "data": {
      "text/plain": [
       "0    False\n",
       "1     True\n",
       "2    False\n",
       "3     True\n",
       "4    False\n",
       "5    False\n",
       "6    False\n",
       "7    False\n",
       "8    False\n",
       "dtype: bool"
      ]
     },
     "execution_count": 23,
     "metadata": {},
     "output_type": "execute_result"
    }
   ],
   "source": [
    "ser.str.contains(r'(^f)')"
   ]
  },
  {
   "cell_type": "code",
   "execution_count": 4,
   "id": "ab7192ae",
   "metadata": {},
   "outputs": [
    {
     "name": "stderr",
     "output_type": "stream",
     "text": [
      "C:\\Users\\91905\\anaconda3\\lib\\site-packages\\pandas\\core\\strings\\accessor.py:101: UserWarning: This pattern has match groups. To actually get the groups, use str.extract.\n",
      "  return func(self, *args, **kwargs)\n"
     ]
    },
    {
     "data": {
      "text/plain": [
       "0    False\n",
       "1     True\n",
       "2    False\n",
       "3     True\n",
       "4    False\n",
       "5    False\n",
       "6    False\n",
       "7    False\n",
       "8    False\n",
       "dtype: bool"
      ]
     },
     "execution_count": 4,
     "metadata": {},
     "output_type": "execute_result"
    }
   ],
   "source": [
    "ser.str.contains(r'(^f)')"
   ]
  },
  {
   "cell_type": "code",
   "execution_count": 1,
   "id": "06a4688a",
   "metadata": {},
   "outputs": [
    {
     "name": "stdout",
     "output_type": "stream",
     "text": [
      "0    hello\n",
      "1    world\n",
      "dtype: object\n"
     ]
    }
   ],
   "source": [
    "import pandas as pd\n",
    "import numpy as np\n",
    "d=['hello','world']\n",
    "k=pd.Series(d)\n",
    "print(k)"
   ]
  },
  {
   "cell_type": "code",
   "execution_count": 7,
   "id": "20b18e51",
   "metadata": {},
   "outputs": [
    {
     "data": {
      "text/plain": [
       "0    False\n",
       "1     True\n",
       "dtype: bool"
      ]
     },
     "execution_count": 7,
     "metadata": {},
     "output_type": "execute_result"
    }
   ],
   "source": [
    "k.str.contains('rld')"
   ]
  },
  {
   "cell_type": "code",
   "execution_count": 12,
   "id": "d5834b19",
   "metadata": {},
   "outputs": [
    {
     "name": "stdout",
     "output_type": "stream",
     "text": [
      "0      gopika\n",
      "1    varshini\n",
      "dtype: object\n"
     ]
    }
   ],
   "source": [
    "import pandas as pd\n",
    "list=['gopika','varshini']\n",
    "a=pd.Series(list)\n",
    "print(a)"
   ]
  },
  {
   "cell_type": "code",
   "execution_count": 13,
   "id": "24d13ab9",
   "metadata": {},
   "outputs": [
    {
     "data": {
      "text/plain": [
       "0    False\n",
       "1     True\n",
       "dtype: bool"
      ]
     },
     "execution_count": 13,
     "metadata": {},
     "output_type": "execute_result"
    }
   ],
   "source": [
    "a.str.contains('ini')"
   ]
  },
  {
   "cell_type": "markdown",
   "id": "1fc8b4eb",
   "metadata": {},
   "source": [
    "### extract"
   ]
  },
  {
   "cell_type": "code",
   "execution_count": 8,
   "id": "8bf22c30",
   "metadata": {},
   "outputs": [
    {
     "data": {
      "text/html": [
       "<div>\n",
       "<style scoped>\n",
       "    .dataframe tbody tr th:only-of-type {\n",
       "        vertical-align: middle;\n",
       "    }\n",
       "\n",
       "    .dataframe tbody tr th {\n",
       "        vertical-align: top;\n",
       "    }\n",
       "\n",
       "    .dataframe thead th {\n",
       "        text-align: right;\n",
       "    }\n",
       "</style>\n",
       "<table border=\"1\" class=\"dataframe\">\n",
       "  <thead>\n",
       "    <tr style=\"text-align: right;\">\n",
       "      <th></th>\n",
       "      <th>0</th>\n",
       "    </tr>\n",
       "  </thead>\n",
       "  <tbody>\n",
       "    <tr>\n",
       "      <th>0</th>\n",
       "      <td>NaN</td>\n",
       "    </tr>\n",
       "    <tr>\n",
       "      <th>1</th>\n",
       "      <td>NaN</td>\n",
       "    </tr>\n",
       "    <tr>\n",
       "      <th>2</th>\n",
       "      <td>NaN</td>\n",
       "    </tr>\n",
       "    <tr>\n",
       "      <th>3</th>\n",
       "      <td>NaN</td>\n",
       "    </tr>\n",
       "    <tr>\n",
       "      <th>4</th>\n",
       "      <td>NaN</td>\n",
       "    </tr>\n",
       "    <tr>\n",
       "      <th>5</th>\n",
       "      <td>NaN</td>\n",
       "    </tr>\n",
       "    <tr>\n",
       "      <th>6</th>\n",
       "      <td>NaN</td>\n",
       "    </tr>\n",
       "    <tr>\n",
       "      <th>7</th>\n",
       "      <td>NaN</td>\n",
       "    </tr>\n",
       "    <tr>\n",
       "      <th>8</th>\n",
       "      <td>NaN</td>\n",
       "    </tr>\n",
       "  </tbody>\n",
       "</table>\n",
       "</div>"
      ],
      "text/plain": [
       "     0\n",
       "0  NaN\n",
       "1  NaN\n",
       "2  NaN\n",
       "3  NaN\n",
       "4  NaN\n",
       "5  NaN\n",
       "6  NaN\n",
       "7  NaN\n",
       "8  NaN"
      ]
     },
     "execution_count": 8,
     "metadata": {},
     "output_type": "execute_result"
    }
   ],
   "source": [
    "ser.str.extract(r'(^e)')\n"
   ]
  },
  {
   "cell_type": "code",
   "execution_count": 9,
   "id": "7c6b9daa",
   "metadata": {},
   "outputs": [
    {
     "data": {
      "text/plain": [
       "0    0\n",
       "1    0\n",
       "2    0\n",
       "3    0\n",
       "4    0\n",
       "5    0\n",
       "6    0\n",
       "7    0\n",
       "8    0\n",
       "dtype: int64"
      ]
     },
     "execution_count": 9,
     "metadata": {},
     "output_type": "execute_result"
    }
   ],
   "source": [
    "ser.str.count(r'(^e)')"
   ]
  },
  {
   "cell_type": "markdown",
   "id": "a5086026",
   "metadata": {},
   "source": [
    "### count  \n",
    "\n",
    "Count occurrences of pattern in each string of the Series/Index\n"
   ]
  },
  {
   "cell_type": "code",
   "execution_count": 5,
   "id": "0d0d70e9",
   "metadata": {},
   "outputs": [
    {
     "name": "stdout",
     "output_type": "stream",
     "text": [
      "0    puerto rico\n",
      "1        finland\n",
      "2       colombia\n",
      "3        florida\n",
      "4          japan\n",
      "5       portland\n",
      "6          india\n",
      "7         mumbai\n",
      "8        moulali\n",
      "dtype: object\n"
     ]
    },
    {
     "data": {
      "text/plain": [
       "0    0\n",
       "1    0\n",
       "2    0\n",
       "3    0\n",
       "4    0\n",
       "5    0\n",
       "6    0\n",
       "7    0\n",
       "8    0\n",
       "dtype: int64"
      ]
     },
     "execution_count": 5,
     "metadata": {},
     "output_type": "execute_result"
    }
   ],
   "source": [
    "import pandas as pd\n",
    "list = ['puerto rico','finland','colombia','florida','japan','portland','india','mumbai','moulali']\n",
    "ser = pd.Series(list)\n",
    "print(ser)\n",
    "ser.str.count(r'(^e)')"
   ]
  },
  {
   "cell_type": "markdown",
   "id": "5971b5d9",
   "metadata": {},
   "source": [
    "### extract"
   ]
  },
  {
   "cell_type": "code",
   "execution_count": 21,
   "id": "c5cba941",
   "metadata": {},
   "outputs": [
    {
     "data": {
      "text/html": [
       "<div>\n",
       "<style scoped>\n",
       "    .dataframe tbody tr th:only-of-type {\n",
       "        vertical-align: middle;\n",
       "    }\n",
       "\n",
       "    .dataframe tbody tr th {\n",
       "        vertical-align: top;\n",
       "    }\n",
       "\n",
       "    .dataframe thead th {\n",
       "        text-align: right;\n",
       "    }\n",
       "</style>\n",
       "<table border=\"1\" class=\"dataframe\">\n",
       "  <thead>\n",
       "    <tr style=\"text-align: right;\">\n",
       "      <th></th>\n",
       "      <th>0</th>\n",
       "    </tr>\n",
       "  </thead>\n",
       "  <tbody>\n",
       "    <tr>\n",
       "      <th>0</th>\n",
       "      <td>NaN</td>\n",
       "    </tr>\n",
       "    <tr>\n",
       "      <th>1</th>\n",
       "      <td>NaN</td>\n",
       "    </tr>\n",
       "    <tr>\n",
       "      <th>2</th>\n",
       "      <td>NaN</td>\n",
       "    </tr>\n",
       "    <tr>\n",
       "      <th>3</th>\n",
       "      <td>NaN</td>\n",
       "    </tr>\n",
       "    <tr>\n",
       "      <th>4</th>\n",
       "      <td>NaN</td>\n",
       "    </tr>\n",
       "    <tr>\n",
       "      <th>5</th>\n",
       "      <td>NaN</td>\n",
       "    </tr>\n",
       "    <tr>\n",
       "      <th>6</th>\n",
       "      <td>NaN</td>\n",
       "    </tr>\n",
       "    <tr>\n",
       "      <th>7</th>\n",
       "      <td>NaN</td>\n",
       "    </tr>\n",
       "    <tr>\n",
       "      <th>8</th>\n",
       "      <td>NaN</td>\n",
       "    </tr>\n",
       "  </tbody>\n",
       "</table>\n",
       "</div>"
      ],
      "text/plain": [
       "     0\n",
       "0  NaN\n",
       "1  NaN\n",
       "2  NaN\n",
       "3  NaN\n",
       "4  NaN\n",
       "5  NaN\n",
       "6  NaN\n",
       "7  NaN\n",
       "8  NaN"
      ]
     },
     "execution_count": 21,
     "metadata": {},
     "output_type": "execute_result"
    }
   ],
   "source": [
    "ser.str.extract(r'(^e)')"
   ]
  },
  {
   "cell_type": "code",
   "execution_count": 24,
   "id": "4c77bf4b",
   "metadata": {},
   "outputs": [
    {
     "data": {
      "text/plain": [
       "0    0\n",
       "1    0\n",
       "2    0\n",
       "3    0\n",
       "4    0\n",
       "5    0\n",
       "6    0\n",
       "7    0\n",
       "8    0\n",
       "dtype: int64"
      ]
     },
     "execution_count": 24,
     "metadata": {},
     "output_type": "execute_result"
    }
   ],
   "source": [
    "ser.str.count(r'(^e)')"
   ]
  },
  {
   "cell_type": "code",
   "execution_count": 25,
   "id": "ea823259",
   "metadata": {},
   "outputs": [
    {
     "data": {
      "text/html": [
       "<div>\n",
       "<style scoped>\n",
       "    .dataframe tbody tr th:only-of-type {\n",
       "        vertical-align: middle;\n",
       "    }\n",
       "\n",
       "    .dataframe tbody tr th {\n",
       "        vertical-align: top;\n",
       "    }\n",
       "\n",
       "    .dataframe thead th {\n",
       "        text-align: right;\n",
       "    }\n",
       "</style>\n",
       "<table border=\"1\" class=\"dataframe\">\n",
       "  <thead>\n",
       "    <tr style=\"text-align: right;\">\n",
       "      <th></th>\n",
       "      <th>0</th>\n",
       "    </tr>\n",
       "  </thead>\n",
       "  <tbody>\n",
       "    <tr>\n",
       "      <th>0</th>\n",
       "      <td></td>\n",
       "    </tr>\n",
       "    <tr>\n",
       "      <th>1</th>\n",
       "      <td></td>\n",
       "    </tr>\n",
       "    <tr>\n",
       "      <th>2</th>\n",
       "      <td></td>\n",
       "    </tr>\n",
       "    <tr>\n",
       "      <th>3</th>\n",
       "      <td></td>\n",
       "    </tr>\n",
       "    <tr>\n",
       "      <th>4</th>\n",
       "      <td></td>\n",
       "    </tr>\n",
       "    <tr>\n",
       "      <th>5</th>\n",
       "      <td></td>\n",
       "    </tr>\n",
       "    <tr>\n",
       "      <th>6</th>\n",
       "      <td></td>\n",
       "    </tr>\n",
       "    <tr>\n",
       "      <th>7</th>\n",
       "      <td></td>\n",
       "    </tr>\n",
       "    <tr>\n",
       "      <th>8</th>\n",
       "      <td></td>\n",
       "    </tr>\n",
       "  </tbody>\n",
       "</table>\n",
       "</div>"
      ],
      "text/plain": [
       "  0\n",
       "0  \n",
       "1  \n",
       "2  \n",
       "3  \n",
       "4  \n",
       "5  \n",
       "6  \n",
       "7  \n",
       "8  "
      ]
     },
     "execution_count": 25,
     "metadata": {},
     "output_type": "execute_result"
    }
   ],
   "source": [
    "ser.str.extract(r'(^e*)')  "
   ]
  },
  {
   "cell_type": "code",
   "execution_count": 29,
   "id": "d7ca63af",
   "metadata": {},
   "outputs": [
    {
     "data": {
      "text/html": [
       "<div>\n",
       "<style scoped>\n",
       "    .dataframe tbody tr th:only-of-type {\n",
       "        vertical-align: middle;\n",
       "    }\n",
       "\n",
       "    .dataframe tbody tr th {\n",
       "        vertical-align: top;\n",
       "    }\n",
       "\n",
       "    .dataframe thead th {\n",
       "        text-align: right;\n",
       "    }\n",
       "</style>\n",
       "<table border=\"1\" class=\"dataframe\">\n",
       "  <thead>\n",
       "    <tr style=\"text-align: right;\">\n",
       "      <th></th>\n",
       "      <th>0</th>\n",
       "    </tr>\n",
       "  </thead>\n",
       "  <tbody>\n",
       "    <tr>\n",
       "      <th>0</th>\n",
       "      <td>NaN</td>\n",
       "    </tr>\n",
       "    <tr>\n",
       "      <th>1</th>\n",
       "      <td>finland</td>\n",
       "    </tr>\n",
       "    <tr>\n",
       "      <th>2</th>\n",
       "      <td>NaN</td>\n",
       "    </tr>\n",
       "    <tr>\n",
       "      <th>3</th>\n",
       "      <td>florida</td>\n",
       "    </tr>\n",
       "    <tr>\n",
       "      <th>4</th>\n",
       "      <td>NaN</td>\n",
       "    </tr>\n",
       "    <tr>\n",
       "      <th>5</th>\n",
       "      <td>NaN</td>\n",
       "    </tr>\n",
       "    <tr>\n",
       "      <th>6</th>\n",
       "      <td>NaN</td>\n",
       "    </tr>\n",
       "    <tr>\n",
       "      <th>7</th>\n",
       "      <td>NaN</td>\n",
       "    </tr>\n",
       "    <tr>\n",
       "      <th>8</th>\n",
       "      <td>NaN</td>\n",
       "    </tr>\n",
       "  </tbody>\n",
       "</table>\n",
       "</div>"
      ],
      "text/plain": [
       "         0\n",
       "0      NaN\n",
       "1  finland\n",
       "2      NaN\n",
       "3  florida\n",
       "4      NaN\n",
       "5      NaN\n",
       "6      NaN\n",
       "7      NaN\n",
       "8      NaN"
      ]
     },
     "execution_count": 29,
     "metadata": {},
     "output_type": "execute_result"
    }
   ],
   "source": [
    "ser.str.extract(r'(^f.*)')"
   ]
  },
  {
   "cell_type": "code",
   "execution_count": 28,
   "id": "83055f55",
   "metadata": {},
   "outputs": [
    {
     "data": {
      "text/plain": [
       "0    False\n",
       "1    False\n",
       "2    False\n",
       "3    False\n",
       "4    False\n",
       "5    False\n",
       "6    False\n",
       "7    False\n",
       "8    False\n",
       "dtype: bool"
      ]
     },
     "execution_count": 28,
     "metadata": {},
     "output_type": "execute_result"
    }
   ],
   "source": [
    "ser.str.match(r'(^e)')"
   ]
  },
  {
   "cell_type": "code",
   "execution_count": 27,
   "id": "c2c1003c",
   "metadata": {},
   "outputs": [
    {
     "data": {
      "text/plain": [
       "0    False\n",
       "1     True\n",
       "2    False\n",
       "3     True\n",
       "4    False\n",
       "5    False\n",
       "6    False\n",
       "7    False\n",
       "8    False\n",
       "dtype: bool"
      ]
     },
     "execution_count": 27,
     "metadata": {},
     "output_type": "execute_result"
    }
   ],
   "source": [
    "ser.str.contains(r'(^f)')"
   ]
  },
  {
   "cell_type": "code",
   "execution_count": 29,
   "id": "7bd95377",
   "metadata": {},
   "outputs": [
    {
     "data": {
      "text/html": [
       "<div>\n",
       "<style scoped>\n",
       "    .dataframe tbody tr th:only-of-type {\n",
       "        vertical-align: middle;\n",
       "    }\n",
       "\n",
       "    .dataframe tbody tr th {\n",
       "        vertical-align: top;\n",
       "    }\n",
       "\n",
       "    .dataframe thead th {\n",
       "        text-align: right;\n",
       "    }\n",
       "</style>\n",
       "<table border=\"1\" class=\"dataframe\">\n",
       "  <thead>\n",
       "    <tr style=\"text-align: right;\">\n",
       "      <th></th>\n",
       "      <th>0</th>\n",
       "    </tr>\n",
       "  </thead>\n",
       "  <tbody>\n",
       "    <tr>\n",
       "      <th>0</th>\n",
       "      <td>NaN</td>\n",
       "    </tr>\n",
       "    <tr>\n",
       "      <th>1</th>\n",
       "      <td>finland</td>\n",
       "    </tr>\n",
       "    <tr>\n",
       "      <th>2</th>\n",
       "      <td>NaN</td>\n",
       "    </tr>\n",
       "    <tr>\n",
       "      <th>3</th>\n",
       "      <td>florida</td>\n",
       "    </tr>\n",
       "    <tr>\n",
       "      <th>4</th>\n",
       "      <td>NaN</td>\n",
       "    </tr>\n",
       "    <tr>\n",
       "      <th>5</th>\n",
       "      <td>NaN</td>\n",
       "    </tr>\n",
       "    <tr>\n",
       "      <th>6</th>\n",
       "      <td>NaN</td>\n",
       "    </tr>\n",
       "    <tr>\n",
       "      <th>7</th>\n",
       "      <td>NaN</td>\n",
       "    </tr>\n",
       "    <tr>\n",
       "      <th>8</th>\n",
       "      <td>NaN</td>\n",
       "    </tr>\n",
       "  </tbody>\n",
       "</table>\n",
       "</div>"
      ],
      "text/plain": [
       "         0\n",
       "0      NaN\n",
       "1  finland\n",
       "2      NaN\n",
       "3  florida\n",
       "4      NaN\n",
       "5      NaN\n",
       "6      NaN\n",
       "7      NaN\n",
       "8      NaN"
      ]
     },
     "execution_count": 29,
     "metadata": {},
     "output_type": "execute_result"
    }
   ],
   "source": [
    "ser.str.extract(r'(^f.*)')"
   ]
  },
  {
   "cell_type": "code",
   "execution_count": 26,
   "id": "f0f8e053",
   "metadata": {},
   "outputs": [
    {
     "data": {
      "text/plain": [
       "0    False\n",
       "1    False\n",
       "2    False\n",
       "3    False\n",
       "4    False\n",
       "5    False\n",
       "6    False\n",
       "7    False\n",
       "8    False\n",
       "dtype: bool"
      ]
     },
     "execution_count": 26,
     "metadata": {},
     "output_type": "execute_result"
    }
   ],
   "source": [
    "ser.str.contains(r'($f)')\n"
   ]
  },
  {
   "cell_type": "code",
   "execution_count": 25,
   "id": "1b4d8e84",
   "metadata": {},
   "outputs": [
    {
     "data": {
      "text/plain": [
       "0    False\n",
       "1    False\n",
       "2    False\n",
       "3    False\n",
       "4    False\n",
       "5    False\n",
       "6    False\n",
       "7    False\n",
       "8    False\n",
       "dtype: bool"
      ]
     },
     "execution_count": 25,
     "metadata": {},
     "output_type": "execute_result"
    }
   ],
   "source": [
    "ser.str.contains(r'^(f,m)')"
   ]
  },
  {
   "cell_type": "code",
   "execution_count": 24,
   "id": "e54d5e56",
   "metadata": {},
   "outputs": [
    {
     "data": {
      "text/plain": [
       "0    False\n",
       "1    False\n",
       "2    False\n",
       "3    False\n",
       "4    False\n",
       "5    False\n",
       "6    False\n",
       "7    False\n",
       "8    False\n",
       "dtype: bool"
      ]
     },
     "execution_count": 24,
     "metadata": {},
     "output_type": "execute_result"
    }
   ],
   "source": [
    "ser.str.contains(r'(f$)')"
   ]
  },
  {
   "cell_type": "code",
   "execution_count": 23,
   "id": "d12fd218",
   "metadata": {},
   "outputs": [
    {
     "data": {
      "text/plain": [
       "0    False\n",
       "1    False\n",
       "2    False\n",
       "3    False\n",
       "4    False\n",
       "5    False\n",
       "6    False\n",
       "7    False\n",
       "8    False\n",
       "dtype: bool"
      ]
     },
     "execution_count": 23,
     "metadata": {},
     "output_type": "execute_result"
    }
   ],
   "source": [
    "ser.str.contains(r'^(f.m)')"
   ]
  },
  {
   "cell_type": "code",
   "execution_count": 22,
   "id": "613612a1",
   "metadata": {},
   "outputs": [
    {
     "data": {
      "text/plain": [
       "0    [@uerto rico]\n",
       "1    [, finland, ]\n",
       "2       [colombia]\n",
       "3    [, florida, ]\n",
       "4          [ja@an]\n",
       "5       [@ortland]\n",
       "6          [india]\n",
       "7         [mumbai]\n",
       "8        [moulali]\n",
       "dtype: object"
      ]
     },
     "execution_count": 22,
     "metadata": {},
     "output_type": "execute_result"
    }
   ],
   "source": [
    "ser.str.split(r'(^f.*)')"
   ]
  },
  {
   "cell_type": "code",
   "execution_count": 21,
   "id": "5497a8ad",
   "metadata": {},
   "outputs": [
    {
     "data": {
      "text/plain": [
       "0    False\n",
       "1    False\n",
       "2    False\n",
       "3    False\n",
       "4    False\n",
       "5    False\n",
       "6    False\n",
       "7    False\n",
       "8    False\n",
       "dtype: bool"
      ]
     },
     "execution_count": 21,
     "metadata": {},
     "output_type": "execute_result"
    }
   ],
   "source": [
    "ser.str.match(r'^(f,F)')"
   ]
  },
  {
   "cell_type": "code",
   "execution_count": 20,
   "id": "20aae8a9",
   "metadata": {},
   "outputs": [
    {
     "data": {
      "text/plain": [
       "0    []\n",
       "1    []\n",
       "2    []\n",
       "3    []\n",
       "4    []\n",
       "5    []\n",
       "6    []\n",
       "7    []\n",
       "8    []\n",
       "dtype: object"
      ]
     },
     "execution_count": 20,
     "metadata": {},
     "output_type": "execute_result"
    }
   ],
   "source": [
    "ser.str.findall(r'(^M).*') "
   ]
  },
  {
   "cell_type": "code",
   "execution_count": 19,
   "id": "07c684ce",
   "metadata": {},
   "outputs": [
    {
     "data": {
      "text/plain": [
       "0    [, , , , , , , , , , , ]\n",
       "1            [, , , , , , , ]\n",
       "2          [, , , , , , , , ]\n",
       "3            [, , , , , , , ]\n",
       "4                [, , , , , ]\n",
       "5          [, , , , , , , , ]\n",
       "6                [, , , , , ]\n",
       "7              [, , , , , , ]\n",
       "8            [, , , , , , , ]\n",
       "dtype: object"
      ]
     },
     "execution_count": 19,
     "metadata": {},
     "output_type": "execute_result"
    }
   ],
   "source": [
    "ser.str.findall(r'(^M)*')"
   ]
  },
  {
   "cell_type": "code",
   "execution_count": 18,
   "id": "89f2e098",
   "metadata": {},
   "outputs": [
    {
     "data": {
      "text/plain": [
       "0    False\n",
       "1     True\n",
       "2     True\n",
       "3     True\n",
       "4    False\n",
       "5     True\n",
       "6     True\n",
       "7    False\n",
       "8    False\n",
       "dtype: bool"
      ]
     },
     "execution_count": 18,
     "metadata": {},
     "output_type": "execute_result"
    }
   ],
   "source": [
    "ser.str.contains(r'([a,d]$.*)')"
   ]
  },
  {
   "cell_type": "code",
   "execution_count": 17,
   "id": "c3319f63",
   "metadata": {},
   "outputs": [
    {
     "data": {
      "text/plain": [
       "0    False\n",
       "1     True\n",
       "2    False\n",
       "3     True\n",
       "4    False\n",
       "5    False\n",
       "6    False\n",
       "7     True\n",
       "8     True\n",
       "dtype: bool"
      ]
     },
     "execution_count": 17,
     "metadata": {},
     "output_type": "execute_result"
    }
   ],
   "source": [
    "ser.str.contains(r'(^[f,m,s].*)')\n"
   ]
  },
  {
   "cell_type": "code",
   "execution_count": 16,
   "id": "f3984073",
   "metadata": {},
   "outputs": [
    {
     "data": {
      "text/plain": [
       "0    False\n",
       "1     True\n",
       "2    False\n",
       "3     True\n",
       "4    False\n",
       "5    False\n",
       "6    False\n",
       "7    False\n",
       "8    False\n",
       "dtype: bool"
      ]
     },
     "execution_count": 16,
     "metadata": {},
     "output_type": "execute_result"
    }
   ],
   "source": [
    "ser.str.contains(r'(^f.*)')"
   ]
  },
  {
   "cell_type": "code",
   "execution_count": 135,
   "id": "261a6e60",
   "metadata": {},
   "outputs": [
    {
     "name": "stdout",
     "output_type": "stream",
     "text": [
      "0    puerto rico\n",
      "1        finland\n",
      "2       colombia\n",
      "3        florida\n",
      "4          japan\n",
      "5       portland\n",
      "6          india\n",
      "7         mumbai\n",
      "8        moulali\n",
      "dtype: object\n"
     ]
    },
    {
     "name": "stderr",
     "output_type": "stream",
     "text": [
      "C:\\Users\\91905\\anaconda3\\lib\\site-packages\\pandas\\core\\strings\\accessor.py:101: UserWarning: This pattern has match groups. To actually get the groups, use str.extract.\n",
      "  return func(self, *args, **kwargs)\n"
     ]
    },
    {
     "data": {
      "text/plain": [
       "0    False\n",
       "1    False\n",
       "2    False\n",
       "3    False\n",
       "4    False\n",
       "5    False\n",
       "6    False\n",
       "7    False\n",
       "8    False\n",
       "dtype: bool"
      ]
     },
     "execution_count": 135,
     "metadata": {},
     "output_type": "execute_result"
    }
   ],
   "source": [
    "import pandas as pd\n",
    "list = ['puerto rico','finland','colombia','florida','japan','portland','india','mumbai','moulali']\n",
    "ser = pd.Series(list)\n",
    "print(ser)\n",
    "ser.str.contains('r([a]$.*)')"
   ]
  },
  {
   "cell_type": "code",
   "execution_count": 14,
   "id": "299bb2fd",
   "metadata": {},
   "outputs": [
    {
     "name": "stdout",
     "output_type": "stream",
     "text": [
      "None\n"
     ]
    }
   ],
   "source": [
    "gopi=ser.replace('p','@',regex=True,inplace=True)\n",
    "print(gopi)"
   ]
  },
  {
   "cell_type": "code",
   "execution_count": 13,
   "id": "43fda43b",
   "metadata": {},
   "outputs": [
    {
     "name": "stdout",
     "output_type": "stream",
     "text": [
      "0    @uerto rico\n",
      "1        finland\n",
      "2       colombia\n",
      "3        florida\n",
      "4          ja@an\n",
      "5       @ortland\n",
      "6          india\n",
      "7         mumbai\n",
      "8        moulali\n",
      "dtype: object\n"
     ]
    }
   ],
   "source": [
    "gopi=ser.replace('p','@',regex=True,inplace=False)\n",
    "print(gopi)\n"
   ]
  },
  {
   "cell_type": "code",
   "execution_count": 12,
   "id": "02844fd1",
   "metadata": {},
   "outputs": [
    {
     "name": "stdout",
     "output_type": "stream",
     "text": [
      "0    puerto rico\n",
      "1        finland\n",
      "2       colombia\n",
      "3        florida\n",
      "4          japan\n",
      "5       portland\n",
      "6          india\n",
      "7         mumbai\n",
      "8        moulali\n",
      "dtype: object\n"
     ]
    }
   ],
   "source": [
    "gopi=ser.replace('p','@',regex=False,inplace=False)\n",
    "print(gopi)"
   ]
  },
  {
   "cell_type": "code",
   "execution_count": 11,
   "id": "bf2181a7",
   "metadata": {},
   "outputs": [
    {
     "data": {
      "text/plain": [
       "0    [puerto rico]\n",
       "1        [finland]\n",
       "2       [colombia]\n",
       "3        [florida]\n",
       "4          [japan]\n",
       "5       [portland]\n",
       "6          [india]\n",
       "7         [mumbai]\n",
       "8        [moulali]\n",
       "dtype: object"
      ]
     },
     "execution_count": 11,
     "metadata": {},
     "output_type": "execute_result"
    }
   ],
   "source": [
    "ser.str.split(r'(^F)')\n"
   ]
  },
  {
   "cell_type": "code",
   "execution_count": 10,
   "id": "796230e4",
   "metadata": {},
   "outputs": [
    {
     "data": {
      "text/plain": [
       "0    [puerto rico]\n",
       "1        [finland]\n",
       "2       [colombia]\n",
       "3        [florida]\n",
       "4          [japan]\n",
       "5       [portland]\n",
       "6          [india]\n",
       "7         [mumbai]\n",
       "8        [moulali]\n",
       "dtype: object"
      ]
     },
     "execution_count": 10,
     "metadata": {},
     "output_type": "execute_result"
    }
   ],
   "source": [
    "ser.str.split(r'(^F.*)')"
   ]
  },
  {
   "cell_type": "markdown",
   "id": "2449f7d1",
   "metadata": {},
   "source": [
    "# 12-5-22"
   ]
  },
  {
   "cell_type": "markdown",
   "id": "1fead64d",
   "metadata": {},
   "source": [
    "# dataframe"
   ]
  },
  {
   "cell_type": "code",
   "execution_count": 14,
   "id": "0d8414e4",
   "metadata": {},
   "outputs": [
    {
     "data": {
      "text/html": [
       "<div>\n",
       "<style scoped>\n",
       "    .dataframe tbody tr th:only-of-type {\n",
       "        vertical-align: middle;\n",
       "    }\n",
       "\n",
       "    .dataframe tbody tr th {\n",
       "        vertical-align: top;\n",
       "    }\n",
       "\n",
       "    .dataframe thead th {\n",
       "        text-align: right;\n",
       "    }\n",
       "</style>\n",
       "<table border=\"1\" class=\"dataframe\">\n",
       "  <thead>\n",
       "    <tr style=\"text-align: right;\">\n",
       "      <th></th>\n",
       "      <th>Name</th>\n",
       "      <th>Age</th>\n",
       "    </tr>\n",
       "  </thead>\n",
       "  <tbody>\n",
       "    <tr>\n",
       "      <th>0</th>\n",
       "      <td>tom</td>\n",
       "      <td>10</td>\n",
       "    </tr>\n",
       "    <tr>\n",
       "      <th>1</th>\n",
       "      <td>nick</td>\n",
       "      <td>15</td>\n",
       "    </tr>\n",
       "    <tr>\n",
       "      <th>2</th>\n",
       "      <td>juli</td>\n",
       "      <td>14</td>\n",
       "    </tr>\n",
       "  </tbody>\n",
       "</table>\n",
       "</div>"
      ],
      "text/plain": [
       "   Name  Age\n",
       "0   tom   10\n",
       "1  nick   15\n",
       "2  juli   14"
      ]
     },
     "execution_count": 14,
     "metadata": {},
     "output_type": "execute_result"
    }
   ],
   "source": [
    "import pandas as pd\n",
    "data = [['tom', 10], ['nick', 15], ['juli', 14]]\n",
    "df = pd.DataFrame(data, columns = ['Name', 'Age'])\n",
    "df"
   ]
  },
  {
   "cell_type": "code",
   "execution_count": 5,
   "id": "1c39106e",
   "metadata": {},
   "outputs": [
    {
     "data": {
      "text/html": [
       "<div>\n",
       "<style scoped>\n",
       "    .dataframe tbody tr th:only-of-type {\n",
       "        vertical-align: middle;\n",
       "    }\n",
       "\n",
       "    .dataframe tbody tr th {\n",
       "        vertical-align: top;\n",
       "    }\n",
       "\n",
       "    .dataframe thead th {\n",
       "        text-align: right;\n",
       "    }\n",
       "</style>\n",
       "<table border=\"1\" class=\"dataframe\">\n",
       "  <thead>\n",
       "    <tr style=\"text-align: right;\">\n",
       "      <th></th>\n",
       "      <th>employee</th>\n",
       "      <th>group</th>\n",
       "      <th>hiredate</th>\n",
       "    </tr>\n",
       "  </thead>\n",
       "  <tbody>\n",
       "    <tr>\n",
       "      <th>0</th>\n",
       "      <td>bob</td>\n",
       "      <td>accounting</td>\n",
       "      <td>2008</td>\n",
       "    </tr>\n",
       "    <tr>\n",
       "      <th>1</th>\n",
       "      <td>jake</td>\n",
       "      <td>engineering</td>\n",
       "      <td>2012</td>\n",
       "    </tr>\n",
       "    <tr>\n",
       "      <th>2</th>\n",
       "      <td>lisa</td>\n",
       "      <td>engineering</td>\n",
       "      <td>2014</td>\n",
       "    </tr>\n",
       "    <tr>\n",
       "      <th>3</th>\n",
       "      <td>sue</td>\n",
       "      <td>hr</td>\n",
       "      <td>2003</td>\n",
       "    </tr>\n",
       "  </tbody>\n",
       "</table>\n",
       "</div>"
      ],
      "text/plain": [
       "  employee        group  hiredate\n",
       "0      bob   accounting      2008\n",
       "1     jake  engineering      2012\n",
       "2     lisa  engineering      2014\n",
       "3      sue           hr      2003"
      ]
     },
     "execution_count": 5,
     "metadata": {},
     "output_type": "execute_result"
    }
   ],
   "source": [
    "import pandas as pd\n",
    "data = [['bob','accounting', 2008],\n",
    "        ['jake','engineering',2012],\n",
    "        ['lisa', 'engineering',2014],\n",
    "        ['sue','hr',2003]]\n",
    "df1 = pd.DataFrame(data, columns = ['employee', 'group','hiredate'])\n",
    "df1"
   ]
  },
  {
   "cell_type": "code",
   "execution_count": 10,
   "id": "1824a495",
   "metadata": {},
   "outputs": [
    {
     "data": {
      "text/html": [
       "<div>\n",
       "<style scoped>\n",
       "    .dataframe tbody tr th:only-of-type {\n",
       "        vertical-align: middle;\n",
       "    }\n",
       "\n",
       "    .dataframe tbody tr th {\n",
       "        vertical-align: top;\n",
       "    }\n",
       "\n",
       "    .dataframe thead th {\n",
       "        text-align: right;\n",
       "    }\n",
       "</style>\n",
       "<table border=\"1\" class=\"dataframe\">\n",
       "  <thead>\n",
       "    <tr style=\"text-align: right;\">\n",
       "      <th></th>\n",
       "      <th>group</th>\n",
       "      <th>superior</th>\n",
       "    </tr>\n",
       "  </thead>\n",
       "  <tbody>\n",
       "    <tr>\n",
       "      <th>0</th>\n",
       "      <td>accounting</td>\n",
       "      <td>carle</td>\n",
       "    </tr>\n",
       "    <tr>\n",
       "      <th>1</th>\n",
       "      <td>engineering</td>\n",
       "      <td>guide</td>\n",
       "    </tr>\n",
       "    <tr>\n",
       "      <th>2</th>\n",
       "      <td>hr</td>\n",
       "      <td>steve</td>\n",
       "    </tr>\n",
       "  </tbody>\n",
       "</table>\n",
       "</div>"
      ],
      "text/plain": [
       "         group superior\n",
       "0   accounting    carle\n",
       "1  engineering    guide\n",
       "2           hr    steve"
      ]
     },
     "execution_count": 10,
     "metadata": {},
     "output_type": "execute_result"
    }
   ],
   "source": [
    "import pandas as pd\n",
    "data = [['accounting','carle'],\n",
    "        ['engineering','guide'],\n",
    "        ['hr', 'steve']]\n",
    "df2= pd.DataFrame(data, columns = ['group','superior'])\n",
    "df2"
   ]
  },
  {
   "cell_type": "code",
   "execution_count": 13,
   "id": "b5c33736",
   "metadata": {},
   "outputs": [
    {
     "data": {
      "text/html": [
       "<div>\n",
       "<style scoped>\n",
       "    .dataframe tbody tr th:only-of-type {\n",
       "        vertical-align: middle;\n",
       "    }\n",
       "\n",
       "    .dataframe tbody tr th {\n",
       "        vertical-align: top;\n",
       "    }\n",
       "\n",
       "    .dataframe thead th {\n",
       "        text-align: right;\n",
       "    }\n",
       "</style>\n",
       "<table border=\"1\" class=\"dataframe\">\n",
       "  <thead>\n",
       "    <tr style=\"text-align: right;\">\n",
       "      <th></th>\n",
       "      <th>group</th>\n",
       "      <th>skills</th>\n",
       "    </tr>\n",
       "  </thead>\n",
       "  <tbody>\n",
       "    <tr>\n",
       "      <th>0</th>\n",
       "      <td>accounting</td>\n",
       "      <td>math</td>\n",
       "    </tr>\n",
       "    <tr>\n",
       "      <th>1</th>\n",
       "      <td>accounting</td>\n",
       "      <td>spreadsheets</td>\n",
       "    </tr>\n",
       "    <tr>\n",
       "      <th>2</th>\n",
       "      <td>engineering</td>\n",
       "      <td>coding</td>\n",
       "    </tr>\n",
       "    <tr>\n",
       "      <th>3</th>\n",
       "      <td>engineering</td>\n",
       "      <td>linux</td>\n",
       "    </tr>\n",
       "    <tr>\n",
       "      <th>4</th>\n",
       "      <td>hr</td>\n",
       "      <td>spreadsheets</td>\n",
       "    </tr>\n",
       "    <tr>\n",
       "      <th>5</th>\n",
       "      <td>hr</td>\n",
       "      <td>hr.shells</td>\n",
       "    </tr>\n",
       "  </tbody>\n",
       "</table>\n",
       "</div>"
      ],
      "text/plain": [
       "         group        skills\n",
       "0   accounting          math\n",
       "1   accounting  spreadsheets\n",
       "2  engineering        coding\n",
       "3  engineering         linux\n",
       "4           hr  spreadsheets\n",
       "5           hr     hr.shells"
      ]
     },
     "execution_count": 13,
     "metadata": {},
     "output_type": "execute_result"
    }
   ],
   "source": [
    "import pandas as pd\n",
    "data = [['accounting','math'],\n",
    "        ['accounting','spreadsheets'],\n",
    "        ['engineering', 'coding'],\n",
    "       ['engineering','linux'],\n",
    "       ['hr','spreadsheets'],\n",
    "       ['hr','hr.shells']]\n",
    "df3= pd.DataFrame(data, columns = ['group','skills'])\n",
    "df3"
   ]
  },
  {
   "cell_type": "markdown",
   "id": "4e9d4c0e",
   "metadata": {},
   "source": [
    "### merge"
   ]
  },
  {
   "cell_type": "markdown",
   "id": "046f5861",
   "metadata": {},
   "source": [
    "here one to one mapping is done"
   ]
  },
  {
   "cell_type": "code",
   "execution_count": 20,
   "id": "63fbca80",
   "metadata": {},
   "outputs": [
    {
     "data": {
      "text/html": [
       "<div>\n",
       "<style scoped>\n",
       "    .dataframe tbody tr th:only-of-type {\n",
       "        vertical-align: middle;\n",
       "    }\n",
       "\n",
       "    .dataframe tbody tr th {\n",
       "        vertical-align: top;\n",
       "    }\n",
       "\n",
       "    .dataframe thead th {\n",
       "        text-align: right;\n",
       "    }\n",
       "</style>\n",
       "<table border=\"1\" class=\"dataframe\">\n",
       "  <thead>\n",
       "    <tr style=\"text-align: right;\">\n",
       "      <th></th>\n",
       "      <th>employee</th>\n",
       "      <th>group</th>\n",
       "      <th>hiredate</th>\n",
       "      <th>superior</th>\n",
       "    </tr>\n",
       "  </thead>\n",
       "  <tbody>\n",
       "    <tr>\n",
       "      <th>0</th>\n",
       "      <td>bob</td>\n",
       "      <td>accounting</td>\n",
       "      <td>2008</td>\n",
       "      <td>carle</td>\n",
       "    </tr>\n",
       "    <tr>\n",
       "      <th>1</th>\n",
       "      <td>jake</td>\n",
       "      <td>engineering</td>\n",
       "      <td>2012</td>\n",
       "      <td>guide</td>\n",
       "    </tr>\n",
       "    <tr>\n",
       "      <th>2</th>\n",
       "      <td>lisa</td>\n",
       "      <td>engineering</td>\n",
       "      <td>2014</td>\n",
       "      <td>guide</td>\n",
       "    </tr>\n",
       "    <tr>\n",
       "      <th>3</th>\n",
       "      <td>sue</td>\n",
       "      <td>hr</td>\n",
       "      <td>2003</td>\n",
       "      <td>steve</td>\n",
       "    </tr>\n",
       "  </tbody>\n",
       "</table>\n",
       "</div>"
      ],
      "text/plain": [
       "  employee        group  hiredate superior\n",
       "0      bob   accounting      2008    carle\n",
       "1     jake  engineering      2012    guide\n",
       "2     lisa  engineering      2014    guide\n",
       "3      sue           hr      2003    steve"
      ]
     },
     "execution_count": 20,
     "metadata": {},
     "output_type": "execute_result"
    }
   ],
   "source": [
    "pd.merge(df1,df2)"
   ]
  },
  {
   "cell_type": "code",
   "execution_count": 22,
   "id": "ea52afff",
   "metadata": {},
   "outputs": [
    {
     "data": {
      "text/html": [
       "<div>\n",
       "<style scoped>\n",
       "    .dataframe tbody tr th:only-of-type {\n",
       "        vertical-align: middle;\n",
       "    }\n",
       "\n",
       "    .dataframe tbody tr th {\n",
       "        vertical-align: top;\n",
       "    }\n",
       "\n",
       "    .dataframe thead th {\n",
       "        text-align: right;\n",
       "    }\n",
       "</style>\n",
       "<table border=\"1\" class=\"dataframe\">\n",
       "  <thead>\n",
       "    <tr style=\"text-align: right;\">\n",
       "      <th></th>\n",
       "      <th>group</th>\n",
       "      <th>superior</th>\n",
       "      <th>skills</th>\n",
       "    </tr>\n",
       "  </thead>\n",
       "  <tbody>\n",
       "    <tr>\n",
       "      <th>0</th>\n",
       "      <td>accounting</td>\n",
       "      <td>carle</td>\n",
       "      <td>math</td>\n",
       "    </tr>\n",
       "    <tr>\n",
       "      <th>1</th>\n",
       "      <td>accounting</td>\n",
       "      <td>carle</td>\n",
       "      <td>spreadsheets</td>\n",
       "    </tr>\n",
       "    <tr>\n",
       "      <th>2</th>\n",
       "      <td>engineering</td>\n",
       "      <td>guide</td>\n",
       "      <td>coding</td>\n",
       "    </tr>\n",
       "    <tr>\n",
       "      <th>3</th>\n",
       "      <td>engineering</td>\n",
       "      <td>guide</td>\n",
       "      <td>linux</td>\n",
       "    </tr>\n",
       "    <tr>\n",
       "      <th>4</th>\n",
       "      <td>hr</td>\n",
       "      <td>steve</td>\n",
       "      <td>spreadsheets</td>\n",
       "    </tr>\n",
       "    <tr>\n",
       "      <th>5</th>\n",
       "      <td>hr</td>\n",
       "      <td>steve</td>\n",
       "      <td>hr.shells</td>\n",
       "    </tr>\n",
       "  </tbody>\n",
       "</table>\n",
       "</div>"
      ],
      "text/plain": [
       "         group superior        skills\n",
       "0   accounting    carle          math\n",
       "1   accounting    carle  spreadsheets\n",
       "2  engineering    guide        coding\n",
       "3  engineering    guide         linux\n",
       "4           hr    steve  spreadsheets\n",
       "5           hr    steve     hr.shells"
      ]
     },
     "execution_count": 22,
     "metadata": {},
     "output_type": "execute_result"
    }
   ],
   "source": [
    "pd.merge(df2,df3)"
   ]
  },
  {
   "cell_type": "code",
   "execution_count": 24,
   "id": "3c3c72c1",
   "metadata": {},
   "outputs": [
    {
     "data": {
      "text/html": [
       "<div>\n",
       "<style scoped>\n",
       "    .dataframe tbody tr th:only-of-type {\n",
       "        vertical-align: middle;\n",
       "    }\n",
       "\n",
       "    .dataframe tbody tr th {\n",
       "        vertical-align: top;\n",
       "    }\n",
       "\n",
       "    .dataframe thead th {\n",
       "        text-align: right;\n",
       "    }\n",
       "</style>\n",
       "<table border=\"1\" class=\"dataframe\">\n",
       "  <thead>\n",
       "    <tr style=\"text-align: right;\">\n",
       "      <th></th>\n",
       "      <th>employee</th>\n",
       "      <th>group</th>\n",
       "      <th>hiredate</th>\n",
       "      <th>skills</th>\n",
       "    </tr>\n",
       "  </thead>\n",
       "  <tbody>\n",
       "    <tr>\n",
       "      <th>0</th>\n",
       "      <td>bob</td>\n",
       "      <td>accounting</td>\n",
       "      <td>2008</td>\n",
       "      <td>math</td>\n",
       "    </tr>\n",
       "    <tr>\n",
       "      <th>1</th>\n",
       "      <td>bob</td>\n",
       "      <td>accounting</td>\n",
       "      <td>2008</td>\n",
       "      <td>spreadsheets</td>\n",
       "    </tr>\n",
       "    <tr>\n",
       "      <th>2</th>\n",
       "      <td>jake</td>\n",
       "      <td>engineering</td>\n",
       "      <td>2012</td>\n",
       "      <td>coding</td>\n",
       "    </tr>\n",
       "    <tr>\n",
       "      <th>3</th>\n",
       "      <td>jake</td>\n",
       "      <td>engineering</td>\n",
       "      <td>2012</td>\n",
       "      <td>linux</td>\n",
       "    </tr>\n",
       "    <tr>\n",
       "      <th>4</th>\n",
       "      <td>lisa</td>\n",
       "      <td>engineering</td>\n",
       "      <td>2014</td>\n",
       "      <td>coding</td>\n",
       "    </tr>\n",
       "    <tr>\n",
       "      <th>5</th>\n",
       "      <td>lisa</td>\n",
       "      <td>engineering</td>\n",
       "      <td>2014</td>\n",
       "      <td>linux</td>\n",
       "    </tr>\n",
       "    <tr>\n",
       "      <th>6</th>\n",
       "      <td>sue</td>\n",
       "      <td>hr</td>\n",
       "      <td>2003</td>\n",
       "      <td>spreadsheets</td>\n",
       "    </tr>\n",
       "    <tr>\n",
       "      <th>7</th>\n",
       "      <td>sue</td>\n",
       "      <td>hr</td>\n",
       "      <td>2003</td>\n",
       "      <td>hr.shells</td>\n",
       "    </tr>\n",
       "  </tbody>\n",
       "</table>\n",
       "</div>"
      ],
      "text/plain": [
       "  employee        group  hiredate        skills\n",
       "0      bob   accounting      2008          math\n",
       "1      bob   accounting      2008  spreadsheets\n",
       "2     jake  engineering      2012        coding\n",
       "3     jake  engineering      2012         linux\n",
       "4     lisa  engineering      2014        coding\n",
       "5     lisa  engineering      2014         linux\n",
       "6      sue           hr      2003  spreadsheets\n",
       "7      sue           hr      2003     hr.shells"
      ]
     },
     "execution_count": 24,
     "metadata": {},
     "output_type": "execute_result"
    }
   ],
   "source": [
    "pd.merge(df1,df3)          "
   ]
  },
  {
   "cell_type": "markdown",
   "id": "35118d3a",
   "metadata": {},
   "source": [
    "### info()"
   ]
  },
  {
   "cell_type": "markdown",
   "id": "5737ebc2",
   "metadata": {},
   "source": [
    "gives info about given data"
   ]
  },
  {
   "cell_type": "code",
   "execution_count": 29,
   "id": "810f82e3",
   "metadata": {
    "scrolled": true
   },
   "outputs": [
    {
     "name": "stdout",
     "output_type": "stream",
     "text": [
      "<class 'pandas.core.frame.DataFrame'>\n",
      "RangeIndex: 4 entries, 0 to 3\n",
      "Data columns (total 3 columns):\n",
      " #   Column    Non-Null Count  Dtype \n",
      "---  ------    --------------  ----- \n",
      " 0   employee  4 non-null      object\n",
      " 1   group     4 non-null      object\n",
      " 2   hiredate  4 non-null      int64 \n",
      "dtypes: int64(1), object(2)\n",
      "memory usage: 224.0+ bytes\n"
     ]
    }
   ],
   "source": [
    "df1.info()"
   ]
  },
  {
   "cell_type": "code",
   "execution_count": 34,
   "id": "c3f26e53",
   "metadata": {},
   "outputs": [
    {
     "data": {
      "text/plain": [
       "<bound method DataFrame.info of          group superior\n",
       "0   accounting    carle\n",
       "1  engineering    guide\n",
       "2           hr    steve>"
      ]
     },
     "execution_count": 34,
     "metadata": {},
     "output_type": "execute_result"
    }
   ],
   "source": [
    "df2.info"
   ]
  },
  {
   "cell_type": "code",
   "execution_count": 33,
   "id": "2df37ea5",
   "metadata": {},
   "outputs": [
    {
     "data": {
      "text/plain": [
       "<bound method DataFrame.info of          group        skills\n",
       "0   accounting          math\n",
       "1   accounting  spreadsheets\n",
       "2  engineering        coding\n",
       "3  engineering         linux\n",
       "4           hr  spreadsheets\n",
       "5           hr     hr.shells>"
      ]
     },
     "execution_count": 33,
     "metadata": {},
     "output_type": "execute_result"
    }
   ],
   "source": [
    "df3.info"
   ]
  },
  {
   "cell_type": "markdown",
   "id": "eecf7144",
   "metadata": {},
   "source": [
    "### join()"
   ]
  },
  {
   "cell_type": "markdown",
   "id": "43a87939",
   "metadata": {},
   "source": [
    "we use .join() function this function is used for combining the columns of two potentially differently-indexed DataFrames into a single result DataFrame."
   ]
  },
  {
   "cell_type": "code",
   "execution_count": 41,
   "id": "df94b471",
   "metadata": {},
   "outputs": [
    {
     "data": {
      "text/html": [
       "<div>\n",
       "<style scoped>\n",
       "    .dataframe tbody tr th:only-of-type {\n",
       "        vertical-align: middle;\n",
       "    }\n",
       "\n",
       "    .dataframe tbody tr th {\n",
       "        vertical-align: top;\n",
       "    }\n",
       "\n",
       "    .dataframe thead th {\n",
       "        text-align: right;\n",
       "    }\n",
       "</style>\n",
       "<table border=\"1\" class=\"dataframe\">\n",
       "  <thead>\n",
       "    <tr style=\"text-align: right;\">\n",
       "      <th></th>\n",
       "      <th>Name</th>\n",
       "      <th>Age</th>\n",
       "      <th>employee</th>\n",
       "      <th>group</th>\n",
       "      <th>hiredate</th>\n",
       "    </tr>\n",
       "  </thead>\n",
       "  <tbody>\n",
       "    <tr>\n",
       "      <th>0</th>\n",
       "      <td>tom</td>\n",
       "      <td>10</td>\n",
       "      <td>bob</td>\n",
       "      <td>accounting</td>\n",
       "      <td>2008</td>\n",
       "    </tr>\n",
       "    <tr>\n",
       "      <th>1</th>\n",
       "      <td>nick</td>\n",
       "      <td>15</td>\n",
       "      <td>jake</td>\n",
       "      <td>engineering</td>\n",
       "      <td>2012</td>\n",
       "    </tr>\n",
       "    <tr>\n",
       "      <th>2</th>\n",
       "      <td>juli</td>\n",
       "      <td>14</td>\n",
       "      <td>lisa</td>\n",
       "      <td>engineering</td>\n",
       "      <td>2014</td>\n",
       "    </tr>\n",
       "  </tbody>\n",
       "</table>\n",
       "</div>"
      ],
      "text/plain": [
       "   Name  Age employee        group  hiredate\n",
       "0   tom   10      bob   accounting      2008\n",
       "1  nick   15     jake  engineering      2012\n",
       "2  juli   14     lisa  engineering      2014"
      ]
     },
     "execution_count": 41,
     "metadata": {},
     "output_type": "execute_result"
    }
   ],
   "source": [
    "data=df.join(df1)\n",
    "data"
   ]
  },
  {
   "cell_type": "code",
   "execution_count": 44,
   "id": "f6a8c9de",
   "metadata": {},
   "outputs": [
    {
     "data": {
      "text/html": [
       "<div>\n",
       "<style scoped>\n",
       "    .dataframe tbody tr th:only-of-type {\n",
       "        vertical-align: middle;\n",
       "    }\n",
       "\n",
       "    .dataframe tbody tr th {\n",
       "        vertical-align: top;\n",
       "    }\n",
       "\n",
       "    .dataframe thead th {\n",
       "        text-align: right;\n",
       "    }\n",
       "</style>\n",
       "<table border=\"1\" class=\"dataframe\">\n",
       "  <thead>\n",
       "    <tr style=\"text-align: right;\">\n",
       "      <th></th>\n",
       "      <th>Name</th>\n",
       "      <th>Age</th>\n",
       "      <th>group</th>\n",
       "      <th>superior</th>\n",
       "    </tr>\n",
       "  </thead>\n",
       "  <tbody>\n",
       "    <tr>\n",
       "      <th>0</th>\n",
       "      <td>tom</td>\n",
       "      <td>10</td>\n",
       "      <td>accounting</td>\n",
       "      <td>carle</td>\n",
       "    </tr>\n",
       "    <tr>\n",
       "      <th>1</th>\n",
       "      <td>nick</td>\n",
       "      <td>15</td>\n",
       "      <td>engineering</td>\n",
       "      <td>guide</td>\n",
       "    </tr>\n",
       "    <tr>\n",
       "      <th>2</th>\n",
       "      <td>juli</td>\n",
       "      <td>14</td>\n",
       "      <td>hr</td>\n",
       "      <td>steve</td>\n",
       "    </tr>\n",
       "  </tbody>\n",
       "</table>\n",
       "</div>"
      ],
      "text/plain": [
       "   Name  Age        group superior\n",
       "0   tom   10   accounting    carle\n",
       "1  nick   15  engineering    guide\n",
       "2  juli   14           hr    steve"
      ]
     },
     "execution_count": 44,
     "metadata": {},
     "output_type": "execute_result"
    }
   ],
   "source": [
    "data = df.join(df2)\n",
    "data"
   ]
  },
  {
   "cell_type": "code",
   "execution_count": 46,
   "id": "2363d076",
   "metadata": {},
   "outputs": [
    {
     "data": {
      "text/html": [
       "<div>\n",
       "<style scoped>\n",
       "    .dataframe tbody tr th:only-of-type {\n",
       "        vertical-align: middle;\n",
       "    }\n",
       "\n",
       "    .dataframe tbody tr th {\n",
       "        vertical-align: top;\n",
       "    }\n",
       "\n",
       "    .dataframe thead th {\n",
       "        text-align: right;\n",
       "    }\n",
       "</style>\n",
       "<table border=\"1\" class=\"dataframe\">\n",
       "  <thead>\n",
       "    <tr style=\"text-align: right;\">\n",
       "      <th></th>\n",
       "      <th>Name</th>\n",
       "      <th>Age</th>\n",
       "      <th>group</th>\n",
       "      <th>skills</th>\n",
       "    </tr>\n",
       "  </thead>\n",
       "  <tbody>\n",
       "    <tr>\n",
       "      <th>0</th>\n",
       "      <td>tom</td>\n",
       "      <td>10</td>\n",
       "      <td>accounting</td>\n",
       "      <td>math</td>\n",
       "    </tr>\n",
       "    <tr>\n",
       "      <th>1</th>\n",
       "      <td>nick</td>\n",
       "      <td>15</td>\n",
       "      <td>accounting</td>\n",
       "      <td>spreadsheets</td>\n",
       "    </tr>\n",
       "    <tr>\n",
       "      <th>2</th>\n",
       "      <td>juli</td>\n",
       "      <td>14</td>\n",
       "      <td>engineering</td>\n",
       "      <td>coding</td>\n",
       "    </tr>\n",
       "  </tbody>\n",
       "</table>\n",
       "</div>"
      ],
      "text/plain": [
       "   Name  Age        group        skills\n",
       "0   tom   10   accounting          math\n",
       "1  nick   15   accounting  spreadsheets\n",
       "2  juli   14  engineering        coding"
      ]
     },
     "execution_count": 46,
     "metadata": {},
     "output_type": "execute_result"
    }
   ],
   "source": [
    "data= df.join(df3)\n",
    "data"
   ]
  },
  {
   "cell_type": "markdown",
   "id": "1997a873",
   "metadata": {},
   "source": [
    "### join(outer())"
   ]
  },
  {
   "cell_type": "code",
   "execution_count": 59,
   "id": "9fd7b101",
   "metadata": {},
   "outputs": [
    {
     "data": {
      "text/html": [
       "<div>\n",
       "<style scoped>\n",
       "    .dataframe tbody tr th:only-of-type {\n",
       "        vertical-align: middle;\n",
       "    }\n",
       "\n",
       "    .dataframe tbody tr th {\n",
       "        vertical-align: top;\n",
       "    }\n",
       "\n",
       "    .dataframe thead th {\n",
       "        text-align: right;\n",
       "    }\n",
       "</style>\n",
       "<table border=\"1\" class=\"dataframe\">\n",
       "  <thead>\n",
       "    <tr style=\"text-align: right;\">\n",
       "      <th></th>\n",
       "      <th>Name</th>\n",
       "      <th>Age</th>\n",
       "      <th>employee</th>\n",
       "      <th>group</th>\n",
       "      <th>hiredate</th>\n",
       "    </tr>\n",
       "  </thead>\n",
       "  <tbody>\n",
       "    <tr>\n",
       "      <th>0</th>\n",
       "      <td>tom</td>\n",
       "      <td>10.0</td>\n",
       "      <td>bob</td>\n",
       "      <td>accounting</td>\n",
       "      <td>2008</td>\n",
       "    </tr>\n",
       "    <tr>\n",
       "      <th>1</th>\n",
       "      <td>nick</td>\n",
       "      <td>15.0</td>\n",
       "      <td>jake</td>\n",
       "      <td>engineering</td>\n",
       "      <td>2012</td>\n",
       "    </tr>\n",
       "    <tr>\n",
       "      <th>2</th>\n",
       "      <td>juli</td>\n",
       "      <td>14.0</td>\n",
       "      <td>lisa</td>\n",
       "      <td>engineering</td>\n",
       "      <td>2014</td>\n",
       "    </tr>\n",
       "    <tr>\n",
       "      <th>3</th>\n",
       "      <td>NaN</td>\n",
       "      <td>NaN</td>\n",
       "      <td>sue</td>\n",
       "      <td>hr</td>\n",
       "      <td>2003</td>\n",
       "    </tr>\n",
       "  </tbody>\n",
       "</table>\n",
       "</div>"
      ],
      "text/plain": [
       "   Name   Age employee        group  hiredate\n",
       "0   tom  10.0      bob   accounting      2008\n",
       "1  nick  15.0     jake  engineering      2012\n",
       "2  juli  14.0     lisa  engineering      2014\n",
       "3   NaN   NaN      sue           hr      2003"
      ]
     },
     "execution_count": 59,
     "metadata": {},
     "output_type": "execute_result"
    }
   ],
   "source": [
    "data =df.join(df1, how='outer')\n",
    "data"
   ]
  },
  {
   "cell_type": "markdown",
   "id": "e58ab895",
   "metadata": {},
   "source": [
    "### merge()"
   ]
  },
  {
   "cell_type": "code",
   "execution_count": 73,
   "id": "1252cfdb",
   "metadata": {},
   "outputs": [
    {
     "data": {
      "text/html": [
       "<div>\n",
       "<style scoped>\n",
       "    .dataframe tbody tr th:only-of-type {\n",
       "        vertical-align: middle;\n",
       "    }\n",
       "\n",
       "    .dataframe tbody tr th {\n",
       "        vertical-align: top;\n",
       "    }\n",
       "\n",
       "    .dataframe thead th {\n",
       "        text-align: right;\n",
       "    }\n",
       "</style>\n",
       "<table border=\"1\" class=\"dataframe\">\n",
       "  <thead>\n",
       "    <tr style=\"text-align: right;\">\n",
       "      <th></th>\n",
       "      <th>employee</th>\n",
       "      <th>group</th>\n",
       "      <th>hiredate</th>\n",
       "      <th>superior</th>\n",
       "    </tr>\n",
       "  </thead>\n",
       "  <tbody>\n",
       "    <tr>\n",
       "      <th>0</th>\n",
       "      <td>bob</td>\n",
       "      <td>accounting</td>\n",
       "      <td>2008</td>\n",
       "      <td>carle</td>\n",
       "    </tr>\n",
       "    <tr>\n",
       "      <th>1</th>\n",
       "      <td>jake</td>\n",
       "      <td>engineering</td>\n",
       "      <td>2012</td>\n",
       "      <td>guide</td>\n",
       "    </tr>\n",
       "    <tr>\n",
       "      <th>2</th>\n",
       "      <td>lisa</td>\n",
       "      <td>engineering</td>\n",
       "      <td>2014</td>\n",
       "      <td>guide</td>\n",
       "    </tr>\n",
       "    <tr>\n",
       "      <th>3</th>\n",
       "      <td>sue</td>\n",
       "      <td>hr</td>\n",
       "      <td>2003</td>\n",
       "      <td>steve</td>\n",
       "    </tr>\n",
       "  </tbody>\n",
       "</table>\n",
       "</div>"
      ],
      "text/plain": [
       "  employee        group  hiredate superior\n",
       "0      bob   accounting      2008    carle\n",
       "1     jake  engineering      2012    guide\n",
       "2     lisa  engineering      2014    guide\n",
       "3      sue           hr      2003    steve"
      ]
     },
     "execution_count": 73,
     "metadata": {},
     "output_type": "execute_result"
    }
   ],
   "source": [
    "res=pd.merge(df1,df2,on='group')\n",
    "res"
   ]
  },
  {
   "cell_type": "markdown",
   "id": "c58e6746",
   "metadata": {},
   "source": [
    "###  append()"
   ]
  },
  {
   "cell_type": "code",
   "execution_count": 65,
   "id": "ee7bc315",
   "metadata": {},
   "outputs": [
    {
     "name": "stdout",
     "output_type": "stream",
     "text": [
      "  employee        group  hiredate\n",
      "0      bob   accounting      2008\n",
      "1     jake  engineering      2012\n",
      "2     lisa  engineering      2014\n",
      "3      sue           hr      2003\n",
      "0      bob   accounting      2008\n",
      "1     jake  engineering      2012\n",
      "2     lisa  engineering      2014\n",
      "3      sue           hr      2003\n"
     ]
    }
   ],
   "source": [
    "b=df1.append(df1)\n",
    "print(b)"
   ]
  },
  {
   "cell_type": "code",
   "execution_count": 81,
   "id": "0becb99e",
   "metadata": {},
   "outputs": [
    {
     "name": "stdout",
     "output_type": "stream",
     "text": [
      "  employee        group  hiredate superior\n",
      "0      bob   accounting    2008.0      NaN\n",
      "1     jake  engineering    2012.0      NaN\n",
      "2     lisa  engineering    2014.0      NaN\n",
      "3      sue           hr    2003.0      NaN\n",
      "0      NaN   accounting       NaN    carle\n",
      "1      NaN  engineering       NaN    guide\n",
      "2      NaN           hr       NaN    steve\n"
     ]
    }
   ],
   "source": [
    "b1=df1.append(df2)\n",
    "print(b1)"
   ]
  },
  {
   "cell_type": "code",
   "execution_count": 80,
   "id": "7a3fa5ce",
   "metadata": {},
   "outputs": [
    {
     "name": "stdout",
     "output_type": "stream",
     "text": [
      "         group        skills employee  hiredate\n",
      "0   accounting          math      NaN       NaN\n",
      "1   accounting  spreadsheets      NaN       NaN\n",
      "2  engineering        coding      NaN       NaN\n",
      "3  engineering         linux      NaN       NaN\n",
      "4           hr  spreadsheets      NaN       NaN\n",
      "5           hr     hr.shells      NaN       NaN\n",
      "0   accounting           NaN      bob    2008.0\n",
      "1  engineering           NaN     jake    2012.0\n",
      "2  engineering           NaN     lisa    2014.0\n",
      "3           hr           NaN      sue    2003.0\n"
     ]
    }
   ],
   "source": [
    "b3=df3.append(df1)\n",
    "print(b3)"
   ]
  },
  {
   "cell_type": "markdown",
   "id": "24aaa33f",
   "metadata": {},
   "source": [
    "### merge()"
   ]
  },
  {
   "cell_type": "code",
   "execution_count": 78,
   "id": "3d81e6b1",
   "metadata": {},
   "outputs": [
    {
     "name": "stdout",
     "output_type": "stream",
     "text": [
      "  employee        group  hiredate superior\n",
      "0      bob   accounting      2008    carle\n",
      "1     jake  engineering      2012    guide\n",
      "2     lisa  engineering      2014    guide\n",
      "3      sue           hr      2003    steve\n"
     ]
    }
   ],
   "source": [
    "a1=pd.merge(df1,df2)\n",
    "print(a1)"
   ]
  },
  {
   "cell_type": "code",
   "execution_count": 77,
   "id": "bf6869b3",
   "metadata": {},
   "outputs": [
    {
     "name": "stdout",
     "output_type": "stream",
     "text": [
      "  employee        group  hiredate superior\n",
      "0      bob   accounting      2008    carle\n",
      "1     jake  engineering      2012    guide\n",
      "2     lisa  engineering      2014    guide\n",
      "3      sue           hr      2003    steve\n"
     ]
    }
   ],
   "source": [
    "a2=pd.merge(df1,df2)\n",
    "print(a2)"
   ]
  },
  {
   "cell_type": "code",
   "execution_count": 76,
   "id": "e2bbfcdf",
   "metadata": {},
   "outputs": [
    {
     "data": {
      "text/html": [
       "<div>\n",
       "<style scoped>\n",
       "    .dataframe tbody tr th:only-of-type {\n",
       "        vertical-align: middle;\n",
       "    }\n",
       "\n",
       "    .dataframe tbody tr th {\n",
       "        vertical-align: top;\n",
       "    }\n",
       "\n",
       "    .dataframe thead th {\n",
       "        text-align: right;\n",
       "    }\n",
       "</style>\n",
       "<table border=\"1\" class=\"dataframe\">\n",
       "  <thead>\n",
       "    <tr style=\"text-align: right;\">\n",
       "      <th></th>\n",
       "      <th>employee</th>\n",
       "      <th>group</th>\n",
       "      <th>hiredate</th>\n",
       "      <th>skills</th>\n",
       "    </tr>\n",
       "  </thead>\n",
       "  <tbody>\n",
       "    <tr>\n",
       "      <th>0</th>\n",
       "      <td>bob</td>\n",
       "      <td>accounting</td>\n",
       "      <td>2008</td>\n",
       "      <td>math</td>\n",
       "    </tr>\n",
       "    <tr>\n",
       "      <th>1</th>\n",
       "      <td>bob</td>\n",
       "      <td>accounting</td>\n",
       "      <td>2008</td>\n",
       "      <td>spreadsheets</td>\n",
       "    </tr>\n",
       "    <tr>\n",
       "      <th>2</th>\n",
       "      <td>jake</td>\n",
       "      <td>engineering</td>\n",
       "      <td>2012</td>\n",
       "      <td>coding</td>\n",
       "    </tr>\n",
       "    <tr>\n",
       "      <th>3</th>\n",
       "      <td>jake</td>\n",
       "      <td>engineering</td>\n",
       "      <td>2012</td>\n",
       "      <td>linux</td>\n",
       "    </tr>\n",
       "    <tr>\n",
       "      <th>4</th>\n",
       "      <td>lisa</td>\n",
       "      <td>engineering</td>\n",
       "      <td>2014</td>\n",
       "      <td>coding</td>\n",
       "    </tr>\n",
       "    <tr>\n",
       "      <th>5</th>\n",
       "      <td>lisa</td>\n",
       "      <td>engineering</td>\n",
       "      <td>2014</td>\n",
       "      <td>linux</td>\n",
       "    </tr>\n",
       "    <tr>\n",
       "      <th>6</th>\n",
       "      <td>sue</td>\n",
       "      <td>hr</td>\n",
       "      <td>2003</td>\n",
       "      <td>spreadsheets</td>\n",
       "    </tr>\n",
       "    <tr>\n",
       "      <th>7</th>\n",
       "      <td>sue</td>\n",
       "      <td>hr</td>\n",
       "      <td>2003</td>\n",
       "      <td>hr.shells</td>\n",
       "    </tr>\n",
       "  </tbody>\n",
       "</table>\n",
       "</div>"
      ],
      "text/plain": [
       "  employee        group  hiredate        skills\n",
       "0      bob   accounting      2008          math\n",
       "1      bob   accounting      2008  spreadsheets\n",
       "2     jake  engineering      2012        coding\n",
       "3     jake  engineering      2012         linux\n",
       "4     lisa  engineering      2014        coding\n",
       "5     lisa  engineering      2014         linux\n",
       "6      sue           hr      2003  spreadsheets\n",
       "7      sue           hr      2003     hr.shells"
      ]
     },
     "execution_count": 76,
     "metadata": {},
     "output_type": "execute_result"
    }
   ],
   "source": [
    "a3=pd.merge(df1,df3)\n",
    "a3"
   ]
  },
  {
   "cell_type": "markdown",
   "id": "5565fd58",
   "metadata": {},
   "source": [
    "### left_index and right_index"
   ]
  },
  {
   "cell_type": "code",
   "execution_count": 91,
   "id": "b8d7b699",
   "metadata": {},
   "outputs": [
    {
     "data": {
      "text/html": [
       "<div>\n",
       "<style scoped>\n",
       "    .dataframe tbody tr th:only-of-type {\n",
       "        vertical-align: middle;\n",
       "    }\n",
       "\n",
       "    .dataframe tbody tr th {\n",
       "        vertical-align: top;\n",
       "    }\n",
       "\n",
       "    .dataframe thead th {\n",
       "        text-align: right;\n",
       "    }\n",
       "</style>\n",
       "<table border=\"1\" class=\"dataframe\">\n",
       "  <thead>\n",
       "    <tr style=\"text-align: right;\">\n",
       "      <th></th>\n",
       "      <th>employee</th>\n",
       "      <th>group_x</th>\n",
       "      <th>hiredate</th>\n",
       "      <th>group_y</th>\n",
       "      <th>superior</th>\n",
       "    </tr>\n",
       "  </thead>\n",
       "  <tbody>\n",
       "    <tr>\n",
       "      <th>0</th>\n",
       "      <td>bob</td>\n",
       "      <td>accounting</td>\n",
       "      <td>2008</td>\n",
       "      <td>accounting</td>\n",
       "      <td>carle</td>\n",
       "    </tr>\n",
       "    <tr>\n",
       "      <th>1</th>\n",
       "      <td>jake</td>\n",
       "      <td>engineering</td>\n",
       "      <td>2012</td>\n",
       "      <td>engineering</td>\n",
       "      <td>guide</td>\n",
       "    </tr>\n",
       "    <tr>\n",
       "      <th>2</th>\n",
       "      <td>lisa</td>\n",
       "      <td>engineering</td>\n",
       "      <td>2014</td>\n",
       "      <td>hr</td>\n",
       "      <td>steve</td>\n",
       "    </tr>\n",
       "  </tbody>\n",
       "</table>\n",
       "</div>"
      ],
      "text/plain": [
       "  employee      group_x  hiredate      group_y superior\n",
       "0      bob   accounting      2008   accounting    carle\n",
       "1     jake  engineering      2012  engineering    guide\n",
       "2     lisa  engineering      2014           hr    steve"
      ]
     },
     "execution_count": 91,
     "metadata": {},
     "output_type": "execute_result"
    }
   ],
   "source": [
    "c1=pd.merge(df1,df2,left_index=True,right_index=True)\n",
    "c1"
   ]
  },
  {
   "cell_type": "code",
   "execution_count": 117,
   "id": "d5e1825c",
   "metadata": {},
   "outputs": [
    {
     "data": {
      "text/html": [
       "<div>\n",
       "<style scoped>\n",
       "    .dataframe tbody tr th:only-of-type {\n",
       "        vertical-align: middle;\n",
       "    }\n",
       "\n",
       "    .dataframe tbody tr th {\n",
       "        vertical-align: top;\n",
       "    }\n",
       "\n",
       "    .dataframe thead th {\n",
       "        text-align: right;\n",
       "    }\n",
       "</style>\n",
       "<table border=\"1\" class=\"dataframe\">\n",
       "  <thead>\n",
       "    <tr style=\"text-align: right;\">\n",
       "      <th></th>\n",
       "      <th>group_x</th>\n",
       "      <th>superior</th>\n",
       "      <th>group_y</th>\n",
       "      <th>skills</th>\n",
       "    </tr>\n",
       "  </thead>\n",
       "  <tbody>\n",
       "    <tr>\n",
       "      <th>0</th>\n",
       "      <td>accounting</td>\n",
       "      <td>carle</td>\n",
       "      <td>accounting</td>\n",
       "      <td>math</td>\n",
       "    </tr>\n",
       "    <tr>\n",
       "      <th>1</th>\n",
       "      <td>engineering</td>\n",
       "      <td>guide</td>\n",
       "      <td>accounting</td>\n",
       "      <td>spreadsheets</td>\n",
       "    </tr>\n",
       "    <tr>\n",
       "      <th>2</th>\n",
       "      <td>hr</td>\n",
       "      <td>steve</td>\n",
       "      <td>engineering</td>\n",
       "      <td>coding</td>\n",
       "    </tr>\n",
       "  </tbody>\n",
       "</table>\n",
       "</div>"
      ],
      "text/plain": [
       "       group_x superior      group_y        skills\n",
       "0   accounting    carle   accounting          math\n",
       "1  engineering    guide   accounting  spreadsheets\n",
       "2           hr    steve  engineering        coding"
      ]
     },
     "execution_count": 117,
     "metadata": {},
     "output_type": "execute_result"
    }
   ],
   "source": [
    "c6=pd.merge(df2,df3,left_index=True,right_index=True)\n",
    "c6"
   ]
  },
  {
   "cell_type": "code",
   "execution_count": 118,
   "id": "62488425",
   "metadata": {},
   "outputs": [
    {
     "data": {
      "text/html": [
       "<div>\n",
       "<style scoped>\n",
       "    .dataframe tbody tr th:only-of-type {\n",
       "        vertical-align: middle;\n",
       "    }\n",
       "\n",
       "    .dataframe tbody tr th {\n",
       "        vertical-align: top;\n",
       "    }\n",
       "\n",
       "    .dataframe thead th {\n",
       "        text-align: right;\n",
       "    }\n",
       "</style>\n",
       "<table border=\"1\" class=\"dataframe\">\n",
       "  <thead>\n",
       "    <tr style=\"text-align: right;\">\n",
       "      <th></th>\n",
       "      <th>employee</th>\n",
       "      <th>group_x</th>\n",
       "      <th>hiredate</th>\n",
       "      <th>group_y</th>\n",
       "      <th>skills</th>\n",
       "    </tr>\n",
       "  </thead>\n",
       "  <tbody>\n",
       "    <tr>\n",
       "      <th>0</th>\n",
       "      <td>bob</td>\n",
       "      <td>accounting</td>\n",
       "      <td>2008</td>\n",
       "      <td>accounting</td>\n",
       "      <td>math</td>\n",
       "    </tr>\n",
       "    <tr>\n",
       "      <th>1</th>\n",
       "      <td>jake</td>\n",
       "      <td>engineering</td>\n",
       "      <td>2012</td>\n",
       "      <td>accounting</td>\n",
       "      <td>spreadsheets</td>\n",
       "    </tr>\n",
       "    <tr>\n",
       "      <th>2</th>\n",
       "      <td>lisa</td>\n",
       "      <td>engineering</td>\n",
       "      <td>2014</td>\n",
       "      <td>engineering</td>\n",
       "      <td>coding</td>\n",
       "    </tr>\n",
       "    <tr>\n",
       "      <th>3</th>\n",
       "      <td>sue</td>\n",
       "      <td>hr</td>\n",
       "      <td>2003</td>\n",
       "      <td>engineering</td>\n",
       "      <td>linux</td>\n",
       "    </tr>\n",
       "  </tbody>\n",
       "</table>\n",
       "</div>"
      ],
      "text/plain": [
       "  employee      group_x  hiredate      group_y        skills\n",
       "0      bob   accounting      2008   accounting          math\n",
       "1     jake  engineering      2012   accounting  spreadsheets\n",
       "2     lisa  engineering      2014  engineering        coding\n",
       "3      sue           hr      2003  engineering         linux"
      ]
     },
     "execution_count": 118,
     "metadata": {},
     "output_type": "execute_result"
    }
   ],
   "source": [
    "c7=pd.merge(df1,df3,left_index=True,right_index=True)\n",
    "c7"
   ]
  },
  {
   "cell_type": "code",
   "execution_count": 123,
   "id": "f96fdae5",
   "metadata": {},
   "outputs": [
    {
     "data": {
      "text/html": [
       "<div>\n",
       "<style scoped>\n",
       "    .dataframe tbody tr th:only-of-type {\n",
       "        vertical-align: middle;\n",
       "    }\n",
       "\n",
       "    .dataframe tbody tr th {\n",
       "        vertical-align: top;\n",
       "    }\n",
       "\n",
       "    .dataframe thead th {\n",
       "        text-align: right;\n",
       "    }\n",
       "</style>\n",
       "<table border=\"1\" class=\"dataframe\">\n",
       "  <thead>\n",
       "    <tr style=\"text-align: right;\">\n",
       "      <th></th>\n",
       "      <th>group</th>\n",
       "      <th>superior</th>\n",
       "      <th>skills</th>\n",
       "    </tr>\n",
       "  </thead>\n",
       "  <tbody>\n",
       "    <tr>\n",
       "      <th>0</th>\n",
       "      <td>accounting</td>\n",
       "      <td>carle</td>\n",
       "      <td>math</td>\n",
       "    </tr>\n",
       "    <tr>\n",
       "      <th>1</th>\n",
       "      <td>accounting</td>\n",
       "      <td>carle</td>\n",
       "      <td>spreadsheets</td>\n",
       "    </tr>\n",
       "    <tr>\n",
       "      <th>2</th>\n",
       "      <td>engineering</td>\n",
       "      <td>guide</td>\n",
       "      <td>coding</td>\n",
       "    </tr>\n",
       "    <tr>\n",
       "      <th>3</th>\n",
       "      <td>engineering</td>\n",
       "      <td>guide</td>\n",
       "      <td>linux</td>\n",
       "    </tr>\n",
       "    <tr>\n",
       "      <th>4</th>\n",
       "      <td>hr</td>\n",
       "      <td>steve</td>\n",
       "      <td>spreadsheets</td>\n",
       "    </tr>\n",
       "    <tr>\n",
       "      <th>5</th>\n",
       "      <td>hr</td>\n",
       "      <td>steve</td>\n",
       "      <td>hr.shells</td>\n",
       "    </tr>\n",
       "  </tbody>\n",
       "</table>\n",
       "</div>"
      ],
      "text/plain": [
       "         group superior        skills\n",
       "0   accounting    carle          math\n",
       "1   accounting    carle  spreadsheets\n",
       "2  engineering    guide        coding\n",
       "3  engineering    guide         linux\n",
       "4           hr    steve  spreadsheets\n",
       "5           hr    steve     hr.shells"
      ]
     },
     "execution_count": 123,
     "metadata": {},
     "output_type": "execute_result"
    }
   ],
   "source": [
    "c6=pd.merge(df2,df3,left_index=False,right_index=False)\n",
    "c6"
   ]
  },
  {
   "cell_type": "markdown",
   "id": "eab97a54",
   "metadata": {},
   "source": [
    "### merge(on and how)"
   ]
  },
  {
   "cell_type": "code",
   "execution_count": 95,
   "id": "c9c98a0c",
   "metadata": {},
   "outputs": [
    {
     "data": {
      "text/html": [
       "<div>\n",
       "<style scoped>\n",
       "    .dataframe tbody tr th:only-of-type {\n",
       "        vertical-align: middle;\n",
       "    }\n",
       "\n",
       "    .dataframe tbody tr th {\n",
       "        vertical-align: top;\n",
       "    }\n",
       "\n",
       "    .dataframe thead th {\n",
       "        text-align: right;\n",
       "    }\n",
       "</style>\n",
       "<table border=\"1\" class=\"dataframe\">\n",
       "  <thead>\n",
       "    <tr style=\"text-align: right;\">\n",
       "      <th></th>\n",
       "      <th>employee</th>\n",
       "      <th>group</th>\n",
       "      <th>hiredate</th>\n",
       "      <th>superior</th>\n",
       "    </tr>\n",
       "  </thead>\n",
       "  <tbody>\n",
       "    <tr>\n",
       "      <th>0</th>\n",
       "      <td>bob</td>\n",
       "      <td>accounting</td>\n",
       "      <td>2008</td>\n",
       "      <td>carle</td>\n",
       "    </tr>\n",
       "    <tr>\n",
       "      <th>1</th>\n",
       "      <td>jake</td>\n",
       "      <td>engineering</td>\n",
       "      <td>2012</td>\n",
       "      <td>guide</td>\n",
       "    </tr>\n",
       "    <tr>\n",
       "      <th>2</th>\n",
       "      <td>lisa</td>\n",
       "      <td>engineering</td>\n",
       "      <td>2014</td>\n",
       "      <td>guide</td>\n",
       "    </tr>\n",
       "    <tr>\n",
       "      <th>3</th>\n",
       "      <td>sue</td>\n",
       "      <td>hr</td>\n",
       "      <td>2003</td>\n",
       "      <td>steve</td>\n",
       "    </tr>\n",
       "  </tbody>\n",
       "</table>\n",
       "</div>"
      ],
      "text/plain": [
       "  employee        group  hiredate superior\n",
       "0      bob   accounting      2008    carle\n",
       "1     jake  engineering      2012    guide\n",
       "2     lisa  engineering      2014    guide\n",
       "3      sue           hr      2003    steve"
      ]
     },
     "execution_count": 95,
     "metadata": {},
     "output_type": "execute_result"
    }
   ],
   "source": [
    "c2=pd.merge(df1,df2,on='group',how='inner')\n",
    "c2"
   ]
  },
  {
   "cell_type": "markdown",
   "id": "c4e454e8",
   "metadata": {},
   "source": [
    "### merge(inner)"
   ]
  },
  {
   "cell_type": "markdown",
   "id": "d5c2660e",
   "metadata": {},
   "source": [
    "common intersection will be outputed"
   ]
  },
  {
   "cell_type": "code",
   "execution_count": 104,
   "id": "6c0a3b09",
   "metadata": {},
   "outputs": [
    {
     "data": {
      "text/html": [
       "<div>\n",
       "<style scoped>\n",
       "    .dataframe tbody tr th:only-of-type {\n",
       "        vertical-align: middle;\n",
       "    }\n",
       "\n",
       "    .dataframe tbody tr th {\n",
       "        vertical-align: top;\n",
       "    }\n",
       "\n",
       "    .dataframe thead th {\n",
       "        text-align: right;\n",
       "    }\n",
       "</style>\n",
       "<table border=\"1\" class=\"dataframe\">\n",
       "  <thead>\n",
       "    <tr style=\"text-align: right;\">\n",
       "      <th></th>\n",
       "      <th>employee</th>\n",
       "      <th>group</th>\n",
       "      <th>hiredate</th>\n",
       "      <th>superior</th>\n",
       "    </tr>\n",
       "  </thead>\n",
       "  <tbody>\n",
       "    <tr>\n",
       "      <th>0</th>\n",
       "      <td>bob</td>\n",
       "      <td>accounting</td>\n",
       "      <td>2008</td>\n",
       "      <td>carle</td>\n",
       "    </tr>\n",
       "    <tr>\n",
       "      <th>1</th>\n",
       "      <td>jake</td>\n",
       "      <td>engineering</td>\n",
       "      <td>2012</td>\n",
       "      <td>guide</td>\n",
       "    </tr>\n",
       "    <tr>\n",
       "      <th>2</th>\n",
       "      <td>lisa</td>\n",
       "      <td>engineering</td>\n",
       "      <td>2014</td>\n",
       "      <td>guide</td>\n",
       "    </tr>\n",
       "    <tr>\n",
       "      <th>3</th>\n",
       "      <td>sue</td>\n",
       "      <td>hr</td>\n",
       "      <td>2003</td>\n",
       "      <td>steve</td>\n",
       "    </tr>\n",
       "  </tbody>\n",
       "</table>\n",
       "</div>"
      ],
      "text/plain": [
       "  employee        group  hiredate superior\n",
       "0      bob   accounting      2008    carle\n",
       "1     jake  engineering      2012    guide\n",
       "2     lisa  engineering      2014    guide\n",
       "3      sue           hr      2003    steve"
      ]
     },
     "execution_count": 104,
     "metadata": {},
     "output_type": "execute_result"
    }
   ],
   "source": [
    "c3=pd.merge(df1,df2,how='inner')\n",
    "c3    "
   ]
  },
  {
   "cell_type": "markdown",
   "id": "f563fe28",
   "metadata": {},
   "source": [
    "### merge(outer)"
   ]
  },
  {
   "cell_type": "markdown",
   "id": "acbc3da1",
   "metadata": {},
   "source": [
    "all will be outputed"
   ]
  },
  {
   "cell_type": "code",
   "execution_count": 98,
   "id": "b8a94c44",
   "metadata": {},
   "outputs": [
    {
     "data": {
      "text/html": [
       "<div>\n",
       "<style scoped>\n",
       "    .dataframe tbody tr th:only-of-type {\n",
       "        vertical-align: middle;\n",
       "    }\n",
       "\n",
       "    .dataframe tbody tr th {\n",
       "        vertical-align: top;\n",
       "    }\n",
       "\n",
       "    .dataframe thead th {\n",
       "        text-align: right;\n",
       "    }\n",
       "</style>\n",
       "<table border=\"1\" class=\"dataframe\">\n",
       "  <thead>\n",
       "    <tr style=\"text-align: right;\">\n",
       "      <th></th>\n",
       "      <th>employee</th>\n",
       "      <th>group</th>\n",
       "      <th>hiredate</th>\n",
       "      <th>superior</th>\n",
       "    </tr>\n",
       "  </thead>\n",
       "  <tbody>\n",
       "    <tr>\n",
       "      <th>0</th>\n",
       "      <td>bob</td>\n",
       "      <td>accounting</td>\n",
       "      <td>2008</td>\n",
       "      <td>carle</td>\n",
       "    </tr>\n",
       "    <tr>\n",
       "      <th>1</th>\n",
       "      <td>jake</td>\n",
       "      <td>engineering</td>\n",
       "      <td>2012</td>\n",
       "      <td>guide</td>\n",
       "    </tr>\n",
       "    <tr>\n",
       "      <th>2</th>\n",
       "      <td>lisa</td>\n",
       "      <td>engineering</td>\n",
       "      <td>2014</td>\n",
       "      <td>guide</td>\n",
       "    </tr>\n",
       "    <tr>\n",
       "      <th>3</th>\n",
       "      <td>sue</td>\n",
       "      <td>hr</td>\n",
       "      <td>2003</td>\n",
       "      <td>steve</td>\n",
       "    </tr>\n",
       "  </tbody>\n",
       "</table>\n",
       "</div>"
      ],
      "text/plain": [
       "  employee        group  hiredate superior\n",
       "0      bob   accounting      2008    carle\n",
       "1     jake  engineering      2012    guide\n",
       "2     lisa  engineering      2014    guide\n",
       "3      sue           hr      2003    steve"
      ]
     },
     "execution_count": 98,
     "metadata": {},
     "output_type": "execute_result"
    }
   ],
   "source": [
    "c3=pd.merge(df1,df2,how='outer')\n",
    "c3"
   ]
  },
  {
   "cell_type": "markdown",
   "id": "8b649149",
   "metadata": {},
   "source": [
    "### merge(cross)"
   ]
  },
  {
   "cell_type": "code",
   "execution_count": 106,
   "id": "75539caa",
   "metadata": {},
   "outputs": [
    {
     "data": {
      "text/html": [
       "<div>\n",
       "<style scoped>\n",
       "    .dataframe tbody tr th:only-of-type {\n",
       "        vertical-align: middle;\n",
       "    }\n",
       "\n",
       "    .dataframe tbody tr th {\n",
       "        vertical-align: top;\n",
       "    }\n",
       "\n",
       "    .dataframe thead th {\n",
       "        text-align: right;\n",
       "    }\n",
       "</style>\n",
       "<table border=\"1\" class=\"dataframe\">\n",
       "  <thead>\n",
       "    <tr style=\"text-align: right;\">\n",
       "      <th></th>\n",
       "      <th>employee</th>\n",
       "      <th>group_x</th>\n",
       "      <th>hiredate</th>\n",
       "      <th>group_y</th>\n",
       "      <th>superior</th>\n",
       "    </tr>\n",
       "  </thead>\n",
       "  <tbody>\n",
       "    <tr>\n",
       "      <th>0</th>\n",
       "      <td>bob</td>\n",
       "      <td>accounting</td>\n",
       "      <td>2008</td>\n",
       "      <td>accounting</td>\n",
       "      <td>carle</td>\n",
       "    </tr>\n",
       "    <tr>\n",
       "      <th>1</th>\n",
       "      <td>bob</td>\n",
       "      <td>accounting</td>\n",
       "      <td>2008</td>\n",
       "      <td>engineering</td>\n",
       "      <td>guide</td>\n",
       "    </tr>\n",
       "    <tr>\n",
       "      <th>2</th>\n",
       "      <td>bob</td>\n",
       "      <td>accounting</td>\n",
       "      <td>2008</td>\n",
       "      <td>hr</td>\n",
       "      <td>steve</td>\n",
       "    </tr>\n",
       "    <tr>\n",
       "      <th>3</th>\n",
       "      <td>jake</td>\n",
       "      <td>engineering</td>\n",
       "      <td>2012</td>\n",
       "      <td>accounting</td>\n",
       "      <td>carle</td>\n",
       "    </tr>\n",
       "    <tr>\n",
       "      <th>4</th>\n",
       "      <td>jake</td>\n",
       "      <td>engineering</td>\n",
       "      <td>2012</td>\n",
       "      <td>engineering</td>\n",
       "      <td>guide</td>\n",
       "    </tr>\n",
       "    <tr>\n",
       "      <th>5</th>\n",
       "      <td>jake</td>\n",
       "      <td>engineering</td>\n",
       "      <td>2012</td>\n",
       "      <td>hr</td>\n",
       "      <td>steve</td>\n",
       "    </tr>\n",
       "    <tr>\n",
       "      <th>6</th>\n",
       "      <td>lisa</td>\n",
       "      <td>engineering</td>\n",
       "      <td>2014</td>\n",
       "      <td>accounting</td>\n",
       "      <td>carle</td>\n",
       "    </tr>\n",
       "    <tr>\n",
       "      <th>7</th>\n",
       "      <td>lisa</td>\n",
       "      <td>engineering</td>\n",
       "      <td>2014</td>\n",
       "      <td>engineering</td>\n",
       "      <td>guide</td>\n",
       "    </tr>\n",
       "    <tr>\n",
       "      <th>8</th>\n",
       "      <td>lisa</td>\n",
       "      <td>engineering</td>\n",
       "      <td>2014</td>\n",
       "      <td>hr</td>\n",
       "      <td>steve</td>\n",
       "    </tr>\n",
       "    <tr>\n",
       "      <th>9</th>\n",
       "      <td>sue</td>\n",
       "      <td>hr</td>\n",
       "      <td>2003</td>\n",
       "      <td>accounting</td>\n",
       "      <td>carle</td>\n",
       "    </tr>\n",
       "    <tr>\n",
       "      <th>10</th>\n",
       "      <td>sue</td>\n",
       "      <td>hr</td>\n",
       "      <td>2003</td>\n",
       "      <td>engineering</td>\n",
       "      <td>guide</td>\n",
       "    </tr>\n",
       "    <tr>\n",
       "      <th>11</th>\n",
       "      <td>sue</td>\n",
       "      <td>hr</td>\n",
       "      <td>2003</td>\n",
       "      <td>hr</td>\n",
       "      <td>steve</td>\n",
       "    </tr>\n",
       "  </tbody>\n",
       "</table>\n",
       "</div>"
      ],
      "text/plain": [
       "   employee      group_x  hiredate      group_y superior\n",
       "0       bob   accounting      2008   accounting    carle\n",
       "1       bob   accounting      2008  engineering    guide\n",
       "2       bob   accounting      2008           hr    steve\n",
       "3      jake  engineering      2012   accounting    carle\n",
       "4      jake  engineering      2012  engineering    guide\n",
       "5      jake  engineering      2012           hr    steve\n",
       "6      lisa  engineering      2014   accounting    carle\n",
       "7      lisa  engineering      2014  engineering    guide\n",
       "8      lisa  engineering      2014           hr    steve\n",
       "9       sue           hr      2003   accounting    carle\n",
       "10      sue           hr      2003  engineering    guide\n",
       "11      sue           hr      2003           hr    steve"
      ]
     },
     "execution_count": 106,
     "metadata": {},
     "output_type": "execute_result"
    }
   ],
   "source": [
    "c4=pd.merge(df1,df2,how='cross')\n",
    "c4   "
   ]
  },
  {
   "cell_type": "code",
   "execution_count": 107,
   "id": "bdc94e43",
   "metadata": {},
   "outputs": [
    {
     "data": {
      "text/html": [
       "<div>\n",
       "<style scoped>\n",
       "    .dataframe tbody tr th:only-of-type {\n",
       "        vertical-align: middle;\n",
       "    }\n",
       "\n",
       "    .dataframe tbody tr th {\n",
       "        vertical-align: top;\n",
       "    }\n",
       "\n",
       "    .dataframe thead th {\n",
       "        text-align: right;\n",
       "    }\n",
       "</style>\n",
       "<table border=\"1\" class=\"dataframe\">\n",
       "  <thead>\n",
       "    <tr style=\"text-align: right;\">\n",
       "      <th></th>\n",
       "      <th>group_x</th>\n",
       "      <th>superior</th>\n",
       "      <th>group_y</th>\n",
       "      <th>skills</th>\n",
       "    </tr>\n",
       "  </thead>\n",
       "  <tbody>\n",
       "    <tr>\n",
       "      <th>0</th>\n",
       "      <td>accounting</td>\n",
       "      <td>carle</td>\n",
       "      <td>accounting</td>\n",
       "      <td>math</td>\n",
       "    </tr>\n",
       "    <tr>\n",
       "      <th>1</th>\n",
       "      <td>accounting</td>\n",
       "      <td>carle</td>\n",
       "      <td>accounting</td>\n",
       "      <td>spreadsheets</td>\n",
       "    </tr>\n",
       "    <tr>\n",
       "      <th>2</th>\n",
       "      <td>accounting</td>\n",
       "      <td>carle</td>\n",
       "      <td>engineering</td>\n",
       "      <td>coding</td>\n",
       "    </tr>\n",
       "    <tr>\n",
       "      <th>3</th>\n",
       "      <td>accounting</td>\n",
       "      <td>carle</td>\n",
       "      <td>engineering</td>\n",
       "      <td>linux</td>\n",
       "    </tr>\n",
       "    <tr>\n",
       "      <th>4</th>\n",
       "      <td>accounting</td>\n",
       "      <td>carle</td>\n",
       "      <td>hr</td>\n",
       "      <td>spreadsheets</td>\n",
       "    </tr>\n",
       "    <tr>\n",
       "      <th>5</th>\n",
       "      <td>accounting</td>\n",
       "      <td>carle</td>\n",
       "      <td>hr</td>\n",
       "      <td>hr.shells</td>\n",
       "    </tr>\n",
       "    <tr>\n",
       "      <th>6</th>\n",
       "      <td>engineering</td>\n",
       "      <td>guide</td>\n",
       "      <td>accounting</td>\n",
       "      <td>math</td>\n",
       "    </tr>\n",
       "    <tr>\n",
       "      <th>7</th>\n",
       "      <td>engineering</td>\n",
       "      <td>guide</td>\n",
       "      <td>accounting</td>\n",
       "      <td>spreadsheets</td>\n",
       "    </tr>\n",
       "    <tr>\n",
       "      <th>8</th>\n",
       "      <td>engineering</td>\n",
       "      <td>guide</td>\n",
       "      <td>engineering</td>\n",
       "      <td>coding</td>\n",
       "    </tr>\n",
       "    <tr>\n",
       "      <th>9</th>\n",
       "      <td>engineering</td>\n",
       "      <td>guide</td>\n",
       "      <td>engineering</td>\n",
       "      <td>linux</td>\n",
       "    </tr>\n",
       "    <tr>\n",
       "      <th>10</th>\n",
       "      <td>engineering</td>\n",
       "      <td>guide</td>\n",
       "      <td>hr</td>\n",
       "      <td>spreadsheets</td>\n",
       "    </tr>\n",
       "    <tr>\n",
       "      <th>11</th>\n",
       "      <td>engineering</td>\n",
       "      <td>guide</td>\n",
       "      <td>hr</td>\n",
       "      <td>hr.shells</td>\n",
       "    </tr>\n",
       "    <tr>\n",
       "      <th>12</th>\n",
       "      <td>hr</td>\n",
       "      <td>steve</td>\n",
       "      <td>accounting</td>\n",
       "      <td>math</td>\n",
       "    </tr>\n",
       "    <tr>\n",
       "      <th>13</th>\n",
       "      <td>hr</td>\n",
       "      <td>steve</td>\n",
       "      <td>accounting</td>\n",
       "      <td>spreadsheets</td>\n",
       "    </tr>\n",
       "    <tr>\n",
       "      <th>14</th>\n",
       "      <td>hr</td>\n",
       "      <td>steve</td>\n",
       "      <td>engineering</td>\n",
       "      <td>coding</td>\n",
       "    </tr>\n",
       "    <tr>\n",
       "      <th>15</th>\n",
       "      <td>hr</td>\n",
       "      <td>steve</td>\n",
       "      <td>engineering</td>\n",
       "      <td>linux</td>\n",
       "    </tr>\n",
       "    <tr>\n",
       "      <th>16</th>\n",
       "      <td>hr</td>\n",
       "      <td>steve</td>\n",
       "      <td>hr</td>\n",
       "      <td>spreadsheets</td>\n",
       "    </tr>\n",
       "    <tr>\n",
       "      <th>17</th>\n",
       "      <td>hr</td>\n",
       "      <td>steve</td>\n",
       "      <td>hr</td>\n",
       "      <td>hr.shells</td>\n",
       "    </tr>\n",
       "  </tbody>\n",
       "</table>\n",
       "</div>"
      ],
      "text/plain": [
       "        group_x superior      group_y        skills\n",
       "0    accounting    carle   accounting          math\n",
       "1    accounting    carle   accounting  spreadsheets\n",
       "2    accounting    carle  engineering        coding\n",
       "3    accounting    carle  engineering         linux\n",
       "4    accounting    carle           hr  spreadsheets\n",
       "5    accounting    carle           hr     hr.shells\n",
       "6   engineering    guide   accounting          math\n",
       "7   engineering    guide   accounting  spreadsheets\n",
       "8   engineering    guide  engineering        coding\n",
       "9   engineering    guide  engineering         linux\n",
       "10  engineering    guide           hr  spreadsheets\n",
       "11  engineering    guide           hr     hr.shells\n",
       "12           hr    steve   accounting          math\n",
       "13           hr    steve   accounting  spreadsheets\n",
       "14           hr    steve  engineering        coding\n",
       "15           hr    steve  engineering         linux\n",
       "16           hr    steve           hr  spreadsheets\n",
       "17           hr    steve           hr     hr.shells"
      ]
     },
     "execution_count": 107,
     "metadata": {},
     "output_type": "execute_result"
    }
   ],
   "source": [
    "c5=pd.merge(df2,df3,how='cross')\n",
    "c5   "
   ]
  },
  {
   "cell_type": "code",
   "execution_count": null,
   "id": "af25d878",
   "metadata": {},
   "outputs": [],
   "source": [
    "sort,copy,right and left index"
   ]
  },
  {
   "cell_type": "markdown",
   "id": "610514ee",
   "metadata": {},
   "source": [
    "### sort()"
   ]
  },
  {
   "cell_type": "code",
   "execution_count": 109,
   "id": "075aada8",
   "metadata": {},
   "outputs": [
    {
     "name": "stdout",
     "output_type": "stream",
     "text": [
      "  employee        group  hiredate superior\n",
      "0      bob   accounting      2008    carle\n",
      "1     jake  engineering      2012    guide\n",
      "2     lisa  engineering      2014    guide\n",
      "3      sue           hr      2003    steve\n"
     ]
    }
   ],
   "source": [
    "s=pd.merge(df1,df2,sort='True')\n",
    "print(s)"
   ]
  },
  {
   "cell_type": "code",
   "execution_count": 110,
   "id": "ab75522f",
   "metadata": {},
   "outputs": [
    {
     "name": "stdout",
     "output_type": "stream",
     "text": [
      "         group superior        skills\n",
      "0   accounting    carle          math\n",
      "1   accounting    carle  spreadsheets\n",
      "2  engineering    guide        coding\n",
      "3  engineering    guide         linux\n",
      "4           hr    steve  spreadsheets\n",
      "5           hr    steve     hr.shells\n"
     ]
    }
   ],
   "source": [
    "s1=pd.merge(df2,df3,sort='True')\n",
    "print(s1)"
   ]
  },
  {
   "cell_type": "code",
   "execution_count": 113,
   "id": "ac860746",
   "metadata": {},
   "outputs": [
    {
     "name": "stdout",
     "output_type": "stream",
     "text": [
      "  employee        group  hiredate superior\n",
      "0      bob   accounting      2008    carle\n",
      "1     jake  engineering      2012    guide\n",
      "2     lisa  engineering      2014    guide\n",
      "3      sue           hr      2003    steve\n"
     ]
    }
   ],
   "source": [
    "s2=pd.merge(df1,df2,sort='False')\n",
    "print(s2)"
   ]
  },
  {
   "cell_type": "markdown",
   "id": "0b148181",
   "metadata": {},
   "source": [
    "### merge(copy)"
   ]
  },
  {
   "cell_type": "code",
   "execution_count": 129,
   "id": "228bf6b9",
   "metadata": {},
   "outputs": [
    {
     "data": {
      "text/html": [
       "<div>\n",
       "<style scoped>\n",
       "    .dataframe tbody tr th:only-of-type {\n",
       "        vertical-align: middle;\n",
       "    }\n",
       "\n",
       "    .dataframe tbody tr th {\n",
       "        vertical-align: top;\n",
       "    }\n",
       "\n",
       "    .dataframe thead th {\n",
       "        text-align: right;\n",
       "    }\n",
       "</style>\n",
       "<table border=\"1\" class=\"dataframe\">\n",
       "  <thead>\n",
       "    <tr style=\"text-align: right;\">\n",
       "      <th></th>\n",
       "      <th>employee</th>\n",
       "      <th>group</th>\n",
       "      <th>hiredate</th>\n",
       "      <th>superior</th>\n",
       "    </tr>\n",
       "  </thead>\n",
       "  <tbody>\n",
       "    <tr>\n",
       "      <th>0</th>\n",
       "      <td>bob</td>\n",
       "      <td>accounting</td>\n",
       "      <td>2008</td>\n",
       "      <td>carle</td>\n",
       "    </tr>\n",
       "    <tr>\n",
       "      <th>1</th>\n",
       "      <td>jake</td>\n",
       "      <td>engineering</td>\n",
       "      <td>2012</td>\n",
       "      <td>guide</td>\n",
       "    </tr>\n",
       "    <tr>\n",
       "      <th>2</th>\n",
       "      <td>lisa</td>\n",
       "      <td>engineering</td>\n",
       "      <td>2014</td>\n",
       "      <td>guide</td>\n",
       "    </tr>\n",
       "    <tr>\n",
       "      <th>3</th>\n",
       "      <td>sue</td>\n",
       "      <td>hr</td>\n",
       "      <td>2003</td>\n",
       "      <td>steve</td>\n",
       "    </tr>\n",
       "  </tbody>\n",
       "</table>\n",
       "</div>"
      ],
      "text/plain": [
       "  employee        group  hiredate superior\n",
       "0      bob   accounting      2008    carle\n",
       "1     jake  engineering      2012    guide\n",
       "2     lisa  engineering      2014    guide\n",
       "3      sue           hr      2003    steve"
      ]
     },
     "execution_count": 129,
     "metadata": {},
     "output_type": "execute_result"
    }
   ],
   "source": [
    "s3=pd.merge(df1,df2,copy='True')\n",
    "s3"
   ]
  },
  {
   "cell_type": "code",
   "execution_count": 130,
   "id": "47fcf28e",
   "metadata": {},
   "outputs": [
    {
     "data": {
      "text/html": [
       "<div>\n",
       "<style scoped>\n",
       "    .dataframe tbody tr th:only-of-type {\n",
       "        vertical-align: middle;\n",
       "    }\n",
       "\n",
       "    .dataframe tbody tr th {\n",
       "        vertical-align: top;\n",
       "    }\n",
       "\n",
       "    .dataframe thead th {\n",
       "        text-align: right;\n",
       "    }\n",
       "</style>\n",
       "<table border=\"1\" class=\"dataframe\">\n",
       "  <thead>\n",
       "    <tr style=\"text-align: right;\">\n",
       "      <th></th>\n",
       "      <th>group</th>\n",
       "      <th>skills</th>\n",
       "      <th>superior</th>\n",
       "    </tr>\n",
       "  </thead>\n",
       "  <tbody>\n",
       "    <tr>\n",
       "      <th>0</th>\n",
       "      <td>accounting</td>\n",
       "      <td>math</td>\n",
       "      <td>carle</td>\n",
       "    </tr>\n",
       "    <tr>\n",
       "      <th>1</th>\n",
       "      <td>accounting</td>\n",
       "      <td>spreadsheets</td>\n",
       "      <td>carle</td>\n",
       "    </tr>\n",
       "    <tr>\n",
       "      <th>2</th>\n",
       "      <td>engineering</td>\n",
       "      <td>coding</td>\n",
       "      <td>guide</td>\n",
       "    </tr>\n",
       "    <tr>\n",
       "      <th>3</th>\n",
       "      <td>engineering</td>\n",
       "      <td>linux</td>\n",
       "      <td>guide</td>\n",
       "    </tr>\n",
       "    <tr>\n",
       "      <th>4</th>\n",
       "      <td>hr</td>\n",
       "      <td>spreadsheets</td>\n",
       "      <td>steve</td>\n",
       "    </tr>\n",
       "    <tr>\n",
       "      <th>5</th>\n",
       "      <td>hr</td>\n",
       "      <td>hr.shells</td>\n",
       "      <td>steve</td>\n",
       "    </tr>\n",
       "  </tbody>\n",
       "</table>\n",
       "</div>"
      ],
      "text/plain": [
       "         group        skills superior\n",
       "0   accounting          math    carle\n",
       "1   accounting  spreadsheets    carle\n",
       "2  engineering        coding    guide\n",
       "3  engineering         linux    guide\n",
       "4           hr  spreadsheets    steve\n",
       "5           hr     hr.shells    steve"
      ]
     },
     "execution_count": 130,
     "metadata": {},
     "output_type": "execute_result"
    }
   ],
   "source": [
    "s4=pd.merge(df3,df2,copy='False')\n",
    "s4"
   ]
  },
  {
   "cell_type": "code",
   "execution_count": 131,
   "id": "2f33a024",
   "metadata": {},
   "outputs": [
    {
     "data": {
      "text/html": [
       "<div>\n",
       "<style scoped>\n",
       "    .dataframe tbody tr th:only-of-type {\n",
       "        vertical-align: middle;\n",
       "    }\n",
       "\n",
       "    .dataframe tbody tr th {\n",
       "        vertical-align: top;\n",
       "    }\n",
       "\n",
       "    .dataframe thead th {\n",
       "        text-align: right;\n",
       "    }\n",
       "</style>\n",
       "<table border=\"1\" class=\"dataframe\">\n",
       "  <thead>\n",
       "    <tr style=\"text-align: right;\">\n",
       "      <th></th>\n",
       "      <th>group</th>\n",
       "      <th>superior</th>\n",
       "      <th>employee</th>\n",
       "      <th>hiredate</th>\n",
       "    </tr>\n",
       "  </thead>\n",
       "  <tbody>\n",
       "    <tr>\n",
       "      <th>0</th>\n",
       "      <td>accounting</td>\n",
       "      <td>carle</td>\n",
       "      <td>bob</td>\n",
       "      <td>2008</td>\n",
       "    </tr>\n",
       "    <tr>\n",
       "      <th>1</th>\n",
       "      <td>engineering</td>\n",
       "      <td>guide</td>\n",
       "      <td>jake</td>\n",
       "      <td>2012</td>\n",
       "    </tr>\n",
       "    <tr>\n",
       "      <th>2</th>\n",
       "      <td>engineering</td>\n",
       "      <td>guide</td>\n",
       "      <td>lisa</td>\n",
       "      <td>2014</td>\n",
       "    </tr>\n",
       "    <tr>\n",
       "      <th>3</th>\n",
       "      <td>hr</td>\n",
       "      <td>steve</td>\n",
       "      <td>sue</td>\n",
       "      <td>2003</td>\n",
       "    </tr>\n",
       "  </tbody>\n",
       "</table>\n",
       "</div>"
      ],
      "text/plain": [
       "         group superior employee  hiredate\n",
       "0   accounting    carle      bob      2008\n",
       "1  engineering    guide     jake      2012\n",
       "2  engineering    guide     lisa      2014\n",
       "3           hr    steve      sue      2003"
      ]
     },
     "execution_count": 131,
     "metadata": {},
     "output_type": "execute_result"
    }
   ],
   "source": [
    "s5=pd.merge(df2,df1,copy='True')\n",
    "s5"
   ]
  },
  {
   "cell_type": "markdown",
   "id": "a28ac1e8",
   "metadata": {},
   "source": [
    "# 28-05-22"
   ]
  },
  {
   "cell_type": "markdown",
   "id": "52c16670",
   "metadata": {},
   "source": [
    "### frequencies"
   ]
  },
  {
   "cell_type": "markdown",
   "id": "d3b44886",
   "metadata": {},
   "source": [
    "these are composed of a base frequencies"
   ]
  },
  {
   "cell_type": "code",
   "execution_count": 2,
   "id": "f9c1fc84",
   "metadata": {},
   "outputs": [
    {
     "data": {
      "text/plain": [
       "DatetimeIndex(['2000-01-01 00:00:00', '2000-01-01 04:00:00',\n",
       "               '2000-01-01 08:00:00', '2000-01-01 12:00:00',\n",
       "               '2000-01-01 16:00:00', '2000-01-01 20:00:00',\n",
       "               '2000-01-02 00:00:00', '2000-01-02 04:00:00',\n",
       "               '2000-01-02 08:00:00', '2000-01-02 12:00:00',\n",
       "               '2000-01-02 16:00:00', '2000-01-02 20:00:00',\n",
       "               '2000-01-03 00:00:00', '2000-01-03 04:00:00',\n",
       "               '2000-01-03 08:00:00', '2000-01-03 12:00:00',\n",
       "               '2000-01-03 16:00:00', '2000-01-03 20:00:00'],\n",
       "              dtype='datetime64[ns]', freq='4H')"
      ]
     },
     "execution_count": 2,
     "metadata": {},
     "output_type": "execute_result"
    }
   ],
   "source": [
    "import pandas as pd\n",
    "pd.date_range('2000-01-01','2000-01-03 23:59',freq='4h')"
   ]
  },
  {
   "cell_type": "code",
   "execution_count": 3,
   "id": "29e68f8b",
   "metadata": {},
   "outputs": [
    {
     "data": {
      "text/plain": [
       "DatetimeIndex(['2000-01-01 00:00:00', '2000-01-01 06:30:00',\n",
       "               '2000-01-01 13:00:00', '2000-01-01 19:30:00',\n",
       "               '2000-01-02 02:00:00', '2000-01-02 08:30:00',\n",
       "               '2000-01-02 15:00:00', '2000-01-02 21:30:00',\n",
       "               '2000-01-03 04:00:00', '2000-01-03 10:30:00'],\n",
       "              dtype='datetime64[ns]', freq='390T')"
      ]
     },
     "execution_count": 3,
     "metadata": {},
     "output_type": "execute_result"
    }
   ],
   "source": [
    "pd.date_range('2000-01-01',periods=10,freq='6h30min')"
   ]
  },
  {
   "cell_type": "code",
   "execution_count": 7,
   "id": "ba32d6fd",
   "metadata": {},
   "outputs": [
    {
     "data": {
      "text/plain": [
       "[Timestamp('2012-01-21 00:00:00', freq='WOM-3SAT'),\n",
       " Timestamp('2012-02-18 00:00:00', freq='WOM-3SAT'),\n",
       " Timestamp('2012-03-17 00:00:00', freq='WOM-3SAT'),\n",
       " Timestamp('2012-04-21 00:00:00', freq='WOM-3SAT'),\n",
       " Timestamp('2012-05-19 00:00:00', freq='WOM-3SAT'),\n",
       " Timestamp('2012-06-16 00:00:00', freq='WOM-3SAT'),\n",
       " Timestamp('2012-07-21 00:00:00', freq='WOM-3SAT'),\n",
       " Timestamp('2012-08-18 00:00:00', freq='WOM-3SAT')]"
      ]
     },
     "execution_count": 7,
     "metadata": {},
     "output_type": "execute_result"
    }
   ],
   "source": [
    "rng=pd.date_range('2012-01-01','2012-09-01',freq='WOM-3SAT')        #wom-week of month\n",
    "list(rng)"
   ]
  },
  {
   "cell_type": "markdown",
   "id": "34346821",
   "metadata": {},
   "source": [
    "###shifting of data"
   ]
  },
  {
   "cell_type": "markdown",
   "id": "0287f520",
   "metadata": {},
   "source": [
    "moving data forward and backword"
   ]
  },
  {
   "cell_type": "code",
   "execution_count": 9,
   "id": "0843570e",
   "metadata": {},
   "outputs": [
    {
     "name": "stdout",
     "output_type": "stream",
     "text": [
      "2000-01-31   -0.792479\n",
      "2000-02-29   -1.049472\n",
      "2000-03-31   -0.007936\n",
      "2000-04-30   -0.926207\n",
      "Freq: M, dtype: float64\n",
      "2000-01-31         NaN\n",
      "2000-02-29         NaN\n",
      "2000-03-31   -0.792479\n",
      "2000-04-30   -1.049472\n",
      "Freq: M, dtype: float64\n",
      "2000-01-31   -0.007936\n",
      "2000-02-29   -0.926207\n",
      "2000-03-31         NaN\n",
      "2000-04-30         NaN\n",
      "Freq: M, dtype: float64\n"
     ]
    }
   ],
   "source": [
    "import numpy as np\n",
    "import pandas as pd\n",
    "ts=pd.Series(np.random.randn(4),index=pd.date_range('1/1/2000',periods=4,freq='M'))\n",
    "print(ts)\n",
    "print(ts.shift(2))\n",
    "print(ts.shift(-2))"
   ]
  },
  {
   "cell_type": "code",
   "execution_count": 10,
   "id": "10a37cb0",
   "metadata": {},
   "outputs": [
    {
     "data": {
      "text/plain": [
       "2000-03-31   -0.792479\n",
       "2000-04-30   -1.049472\n",
       "2000-05-31   -0.007936\n",
       "2000-06-30   -0.926207\n",
       "Freq: M, dtype: float64"
      ]
     },
     "execution_count": 10,
     "metadata": {},
     "output_type": "execute_result"
    }
   ],
   "source": [
    "ts.shift(2,freq='M')"
   ]
  },
  {
   "cell_type": "code",
   "execution_count": 11,
   "id": "35515d2d",
   "metadata": {},
   "outputs": [
    {
     "data": {
      "text/plain": [
       "2000-01-31   -0.792479\n",
       "2000-02-29   -1.049472\n",
       "2000-03-31   -0.007936\n",
       "2000-04-30   -0.926207\n",
       "Freq: M, dtype: float64"
      ]
     },
     "execution_count": 11,
     "metadata": {},
     "output_type": "execute_result"
    }
   ],
   "source": [
    "ts"
   ]
  },
  {
   "cell_type": "code",
   "execution_count": 12,
   "id": "00eed143",
   "metadata": {},
   "outputs": [
    {
     "data": {
      "text/plain": [
       "2000-02-02   -0.792479\n",
       "2000-03-02   -1.049472\n",
       "2000-04-02   -0.007936\n",
       "2000-05-02   -0.926207\n",
       "dtype: float64"
      ]
     },
     "execution_count": 12,
     "metadata": {},
     "output_type": "execute_result"
    }
   ],
   "source": [
    "ts.shift(2,freq='D')"
   ]
  },
  {
   "cell_type": "code",
   "execution_count": 13,
   "id": "df028c38",
   "metadata": {},
   "outputs": [
    {
     "data": {
      "text/plain": [
       "2000-02-03   -0.792479\n",
       "2000-03-03   -1.049472\n",
       "2000-04-03   -0.007936\n",
       "2000-05-03   -0.926207\n",
       "dtype: float64"
      ]
     },
     "execution_count": 13,
     "metadata": {},
     "output_type": "execute_result"
    }
   ],
   "source": [
    "ts.shift(3,freq='D')"
   ]
  },
  {
   "cell_type": "code",
   "execution_count": 14,
   "id": "574f9ab0",
   "metadata": {},
   "outputs": [
    {
     "data": {
      "text/plain": [
       "2000-04-30   -0.792479\n",
       "2000-05-31   -1.049472\n",
       "2000-06-30   -0.007936\n",
       "2000-07-31   -0.926207\n",
       "Freq: M, dtype: float64"
      ]
     },
     "execution_count": 14,
     "metadata": {},
     "output_type": "execute_result"
    }
   ],
   "source": [
    "ts.shift(3,freq='M')"
   ]
  },
  {
   "cell_type": "code",
   "execution_count": 15,
   "id": "b0008f43",
   "metadata": {},
   "outputs": [
    {
     "data": {
      "text/plain": [
       "2000-01-31 02:00:00   -0.792479\n",
       "2000-02-29 02:00:00   -1.049472\n",
       "2000-03-31 02:00:00   -0.007936\n",
       "2000-04-30 02:00:00   -0.926207\n",
       "dtype: float64"
      ]
     },
     "execution_count": 15,
     "metadata": {},
     "output_type": "execute_result"
    }
   ],
   "source": [
    "ts.shift(1,freq='120T')"
   ]
  },
  {
   "cell_type": "markdown",
   "id": "3c98f004",
   "metadata": {},
   "source": [
    "### Time zone handeling"
   ]
  },
  {
   "cell_type": "markdown",
   "id": "2226b21a",
   "metadata": {},
   "source": [
    "working with time zones is generally considered one of the most unpleasent parts of time series manipulation.\n",
    "we need to include \"pytz\" library"
   ]
  },
  {
   "cell_type": "code",
   "execution_count": 16,
   "id": "6e6acdcf",
   "metadata": {},
   "outputs": [
    {
     "data": {
      "text/plain": [
       "['Africa/Abidjan', 'Africa/Accra', 'Africa/Addis_Ababa', 'Africa/Algiers', 'Africa/Asmara', 'Africa/Bamako', 'Africa/Bangui', 'Africa/Banjul', 'Africa/Bissau', 'Africa/Blantyre', 'Africa/Brazzaville', 'Africa/Bujumbura', 'Africa/Cairo', 'Africa/Casablanca', 'Africa/Ceuta', 'Africa/Conakry', 'Africa/Dakar', 'Africa/Dar_es_Salaam', 'Africa/Djibouti', 'Africa/Douala', 'Africa/El_Aaiun', 'Africa/Freetown', 'Africa/Gaborone', 'Africa/Harare', 'Africa/Johannesburg', 'Africa/Juba', 'Africa/Kampala', 'Africa/Khartoum', 'Africa/Kigali', 'Africa/Kinshasa', 'Africa/Lagos', 'Africa/Libreville', 'Africa/Lome', 'Africa/Luanda', 'Africa/Lubumbashi', 'Africa/Lusaka', 'Africa/Malabo', 'Africa/Maputo', 'Africa/Maseru', 'Africa/Mbabane', 'Africa/Mogadishu', 'Africa/Monrovia', 'Africa/Nairobi', 'Africa/Ndjamena', 'Africa/Niamey', 'Africa/Nouakchott', 'Africa/Ouagadougou', 'Africa/Porto-Novo', 'Africa/Sao_Tome', 'Africa/Tripoli', 'Africa/Tunis', 'Africa/Windhoek', 'America/Adak', 'America/Anchorage', 'America/Anguilla', 'America/Antigua', 'America/Araguaina', 'America/Argentina/Buenos_Aires', 'America/Argentina/Catamarca', 'America/Argentina/Cordoba', 'America/Argentina/Jujuy', 'America/Argentina/La_Rioja', 'America/Argentina/Mendoza', 'America/Argentina/Rio_Gallegos', 'America/Argentina/Salta', 'America/Argentina/San_Juan', 'America/Argentina/San_Luis', 'America/Argentina/Tucuman', 'America/Argentina/Ushuaia', 'America/Aruba', 'America/Asuncion', 'America/Atikokan', 'America/Bahia', 'America/Bahia_Banderas', 'America/Barbados', 'America/Belem', 'America/Belize', 'America/Blanc-Sablon', 'America/Boa_Vista', 'America/Bogota', 'America/Boise', 'America/Cambridge_Bay', 'America/Campo_Grande', 'America/Cancun', 'America/Caracas', 'America/Cayenne', 'America/Cayman', 'America/Chicago', 'America/Chihuahua', 'America/Costa_Rica', 'America/Creston', 'America/Cuiaba', 'America/Curacao', 'America/Danmarkshavn', 'America/Dawson', 'America/Dawson_Creek', 'America/Denver', 'America/Detroit', 'America/Dominica', 'America/Edmonton', 'America/Eirunepe', 'America/El_Salvador', 'America/Fort_Nelson', 'America/Fortaleza', 'America/Glace_Bay', 'America/Goose_Bay', 'America/Grand_Turk', 'America/Grenada', 'America/Guadeloupe', 'America/Guatemala', 'America/Guayaquil', 'America/Guyana', 'America/Halifax', 'America/Havana', 'America/Hermosillo', 'America/Indiana/Indianapolis', 'America/Indiana/Knox', 'America/Indiana/Marengo', 'America/Indiana/Petersburg', 'America/Indiana/Tell_City', 'America/Indiana/Vevay', 'America/Indiana/Vincennes', 'America/Indiana/Winamac', 'America/Inuvik', 'America/Iqaluit', 'America/Jamaica', 'America/Juneau', 'America/Kentucky/Louisville', 'America/Kentucky/Monticello', 'America/Kralendijk', 'America/La_Paz', 'America/Lima', 'America/Los_Angeles', 'America/Lower_Princes', 'America/Maceio', 'America/Managua', 'America/Manaus', 'America/Marigot', 'America/Martinique', 'America/Matamoros', 'America/Mazatlan', 'America/Menominee', 'America/Merida', 'America/Metlakatla', 'America/Mexico_City', 'America/Miquelon', 'America/Moncton', 'America/Monterrey', 'America/Montevideo', 'America/Montserrat', 'America/Nassau', 'America/New_York', 'America/Nipigon', 'America/Nome', 'America/Noronha', 'America/North_Dakota/Beulah', 'America/North_Dakota/Center', 'America/North_Dakota/New_Salem', 'America/Nuuk', 'America/Ojinaga', 'America/Panama', 'America/Pangnirtung', 'America/Paramaribo', 'America/Phoenix', 'America/Port-au-Prince', 'America/Port_of_Spain', 'America/Porto_Velho', 'America/Puerto_Rico', 'America/Punta_Arenas', 'America/Rainy_River', 'America/Rankin_Inlet', 'America/Recife', 'America/Regina', 'America/Resolute', 'America/Rio_Branco', 'America/Santarem', 'America/Santiago', 'America/Santo_Domingo', 'America/Sao_Paulo', 'America/Scoresbysund', 'America/Sitka', 'America/St_Barthelemy', 'America/St_Johns', 'America/St_Kitts', 'America/St_Lucia', 'America/St_Thomas', 'America/St_Vincent', 'America/Swift_Current', 'America/Tegucigalpa', 'America/Thule', 'America/Thunder_Bay', 'America/Tijuana', 'America/Toronto', 'America/Tortola', 'America/Vancouver', 'America/Whitehorse', 'America/Winnipeg', 'America/Yakutat', 'America/Yellowknife', 'Antarctica/Casey', 'Antarctica/Davis', 'Antarctica/DumontDUrville', 'Antarctica/Macquarie', 'Antarctica/Mawson', 'Antarctica/McMurdo', 'Antarctica/Palmer', 'Antarctica/Rothera', 'Antarctica/Syowa', 'Antarctica/Troll', 'Antarctica/Vostok', 'Arctic/Longyearbyen', 'Asia/Aden', 'Asia/Almaty', 'Asia/Amman', 'Asia/Anadyr', 'Asia/Aqtau', 'Asia/Aqtobe', 'Asia/Ashgabat', 'Asia/Atyrau', 'Asia/Baghdad', 'Asia/Bahrain', 'Asia/Baku', 'Asia/Bangkok', 'Asia/Barnaul', 'Asia/Beirut', 'Asia/Bishkek', 'Asia/Brunei', 'Asia/Chita', 'Asia/Choibalsan', 'Asia/Colombo', 'Asia/Damascus', 'Asia/Dhaka', 'Asia/Dili', 'Asia/Dubai', 'Asia/Dushanbe', 'Asia/Famagusta', 'Asia/Gaza', 'Asia/Hebron', 'Asia/Ho_Chi_Minh', 'Asia/Hong_Kong', 'Asia/Hovd', 'Asia/Irkutsk', 'Asia/Jakarta', 'Asia/Jayapura', 'Asia/Jerusalem', 'Asia/Kabul', 'Asia/Kamchatka', 'Asia/Karachi', 'Asia/Kathmandu', 'Asia/Khandyga', 'Asia/Kolkata', 'Asia/Krasnoyarsk', 'Asia/Kuala_Lumpur', 'Asia/Kuching', 'Asia/Kuwait', 'Asia/Macau', 'Asia/Magadan', 'Asia/Makassar', 'Asia/Manila', 'Asia/Muscat', 'Asia/Nicosia', 'Asia/Novokuznetsk', 'Asia/Novosibirsk', 'Asia/Omsk', 'Asia/Oral', 'Asia/Phnom_Penh', 'Asia/Pontianak', 'Asia/Pyongyang', 'Asia/Qatar', 'Asia/Qostanay', 'Asia/Qyzylorda', 'Asia/Riyadh', 'Asia/Sakhalin', 'Asia/Samarkand', 'Asia/Seoul', 'Asia/Shanghai', 'Asia/Singapore', 'Asia/Srednekolymsk', 'Asia/Taipei', 'Asia/Tashkent', 'Asia/Tbilisi', 'Asia/Tehran', 'Asia/Thimphu', 'Asia/Tokyo', 'Asia/Tomsk', 'Asia/Ulaanbaatar', 'Asia/Urumqi', 'Asia/Ust-Nera', 'Asia/Vientiane', 'Asia/Vladivostok', 'Asia/Yakutsk', 'Asia/Yangon', 'Asia/Yekaterinburg', 'Asia/Yerevan', 'Atlantic/Azores', 'Atlantic/Bermuda', 'Atlantic/Canary', 'Atlantic/Cape_Verde', 'Atlantic/Faroe', 'Atlantic/Madeira', 'Atlantic/Reykjavik', 'Atlantic/South_Georgia', 'Atlantic/St_Helena', 'Atlantic/Stanley', 'Australia/Adelaide', 'Australia/Brisbane', 'Australia/Broken_Hill', 'Australia/Darwin', 'Australia/Eucla', 'Australia/Hobart', 'Australia/Lindeman', 'Australia/Lord_Howe', 'Australia/Melbourne', 'Australia/Perth', 'Australia/Sydney', 'Canada/Atlantic', 'Canada/Central', 'Canada/Eastern', 'Canada/Mountain', 'Canada/Newfoundland', 'Canada/Pacific', 'Europe/Amsterdam', 'Europe/Andorra', 'Europe/Astrakhan', 'Europe/Athens', 'Europe/Belgrade', 'Europe/Berlin', 'Europe/Bratislava', 'Europe/Brussels', 'Europe/Bucharest', 'Europe/Budapest', 'Europe/Busingen', 'Europe/Chisinau', 'Europe/Copenhagen', 'Europe/Dublin', 'Europe/Gibraltar', 'Europe/Guernsey', 'Europe/Helsinki', 'Europe/Isle_of_Man', 'Europe/Istanbul', 'Europe/Jersey', 'Europe/Kaliningrad', 'Europe/Kiev', 'Europe/Kirov', 'Europe/Lisbon', 'Europe/Ljubljana', 'Europe/London', 'Europe/Luxembourg', 'Europe/Madrid', 'Europe/Malta', 'Europe/Mariehamn', 'Europe/Minsk', 'Europe/Monaco', 'Europe/Moscow', 'Europe/Oslo', 'Europe/Paris', 'Europe/Podgorica', 'Europe/Prague', 'Europe/Riga', 'Europe/Rome', 'Europe/Samara', 'Europe/San_Marino', 'Europe/Sarajevo', 'Europe/Saratov', 'Europe/Simferopol', 'Europe/Skopje', 'Europe/Sofia', 'Europe/Stockholm', 'Europe/Tallinn', 'Europe/Tirane', 'Europe/Ulyanovsk', 'Europe/Uzhgorod', 'Europe/Vaduz', 'Europe/Vatican', 'Europe/Vienna', 'Europe/Vilnius', 'Europe/Volgograd', 'Europe/Warsaw', 'Europe/Zagreb', 'Europe/Zaporozhye', 'Europe/Zurich', 'GMT', 'Indian/Antananarivo', 'Indian/Chagos', 'Indian/Christmas', 'Indian/Cocos', 'Indian/Comoro', 'Indian/Kerguelen', 'Indian/Mahe', 'Indian/Maldives', 'Indian/Mauritius', 'Indian/Mayotte', 'Indian/Reunion', 'Pacific/Apia', 'Pacific/Auckland', 'Pacific/Bougainville', 'Pacific/Chatham', 'Pacific/Chuuk', 'Pacific/Easter', 'Pacific/Efate', 'Pacific/Enderbury', 'Pacific/Fakaofo', 'Pacific/Fiji', 'Pacific/Funafuti', 'Pacific/Galapagos', 'Pacific/Gambier', 'Pacific/Guadalcanal', 'Pacific/Guam', 'Pacific/Honolulu', 'Pacific/Kiritimati', 'Pacific/Kosrae', 'Pacific/Kwajalein', 'Pacific/Majuro', 'Pacific/Marquesas', 'Pacific/Midway', 'Pacific/Nauru', 'Pacific/Niue', 'Pacific/Norfolk', 'Pacific/Noumea', 'Pacific/Pago_Pago', 'Pacific/Palau', 'Pacific/Pitcairn', 'Pacific/Pohnpei', 'Pacific/Port_Moresby', 'Pacific/Rarotonga', 'Pacific/Saipan', 'Pacific/Tahiti', 'Pacific/Tarawa', 'Pacific/Tongatapu', 'Pacific/Wake', 'Pacific/Wallis', 'US/Alaska', 'US/Arizona', 'US/Central', 'US/Eastern', 'US/Hawaii', 'US/Mountain', 'US/Pacific', 'UTC']"
      ]
     },
     "execution_count": 16,
     "metadata": {},
     "output_type": "execute_result"
    }
   ],
   "source": [
    "import pandas as pd\n",
    "import pytz\n",
    "pytz.common_timezones"
   ]
  },
  {
   "cell_type": "code",
   "execution_count": 19,
   "id": "406b3960",
   "metadata": {},
   "outputs": [
    {
     "data": {
      "text/plain": [
       "<DstTzInfo 'Asia/Kolkata' LMT+5:53:00 STD>"
      ]
     },
     "execution_count": 19,
     "metadata": {},
     "output_type": "execute_result"
    }
   ],
   "source": [
    "tz=pytz.timezone('Asia/Kolkata')\n",
    "tz"
   ]
  },
  {
   "cell_type": "code",
   "execution_count": 21,
   "id": "58015a5e",
   "metadata": {},
   "outputs": [
    {
     "data": {
      "text/plain": [
       "2022-03-09 09:30:00   -0.821032\n",
       "2022-03-10 09:30:00    0.011226\n",
       "2022-03-11 09:30:00   -1.568689\n",
       "2022-03-12 09:30:00   -0.256715\n",
       "2022-03-13 09:30:00    0.384555\n",
       "2022-03-14 09:30:00    0.818361\n",
       "Freq: D, dtype: float64"
      ]
     },
     "execution_count": 21,
     "metadata": {},
     "output_type": "execute_result"
    }
   ],
   "source": [
    "rng=pd.date_range('3/9/2022 9:30',periods=6,freq='D')\n",
    "ts=pd.Series(np.random.randn(len(rng)),index=rng)\n",
    "ts"
   ]
  },
  {
   "cell_type": "code",
   "execution_count": 22,
   "id": "c410a602",
   "metadata": {},
   "outputs": [
    {
     "name": "stdout",
     "output_type": "stream",
     "text": [
      "None\n"
     ]
    }
   ],
   "source": [
    "print(ts.index.tz)"
   ]
  },
  {
   "cell_type": "code",
   "execution_count": 23,
   "id": "84eb237c",
   "metadata": {},
   "outputs": [
    {
     "data": {
      "text/plain": [
       "DatetimeIndex(['2012-03-09 09:30:00+05:30', '2012-03-10 09:30:00+05:30',\n",
       "               '2012-03-11 09:30:00+05:30', '2012-03-12 09:30:00+05:30',\n",
       "               '2012-03-13 09:30:00+05:30', '2012-03-14 09:30:00+05:30',\n",
       "               '2012-03-15 09:30:00+05:30', '2012-03-16 09:30:00+05:30',\n",
       "               '2012-03-17 09:30:00+05:30', '2012-03-18 09:30:00+05:30'],\n",
       "              dtype='datetime64[ns, Asia/Kolkata]', freq='D')"
      ]
     },
     "execution_count": 23,
     "metadata": {},
     "output_type": "execute_result"
    }
   ],
   "source": [
    "pd.date_range('3/9/2012 9:30',periods=10,freq='D',tz='Asia/Kolkata')"
   ]
  },
  {
   "cell_type": "code",
   "execution_count": 25,
   "id": "74044d2e",
   "metadata": {},
   "outputs": [
    {
     "name": "stdout",
     "output_type": "stream",
     "text": [
      "2022-03-09 09:30:00   -0.821032\n",
      "2022-03-10 09:30:00    0.011226\n",
      "2022-03-11 09:30:00   -1.568689\n",
      "2022-03-12 09:30:00   -0.256715\n",
      "2022-03-13 09:30:00    0.384555\n",
      "2022-03-14 09:30:00    0.818361\n",
      "Freq: D, dtype: float64\n"
     ]
    },
    {
     "data": {
      "text/plain": [
       "DatetimeIndex(['2022-03-09 09:30:00+00:00', '2022-03-10 09:30:00+00:00',\n",
       "               '2022-03-11 09:30:00+00:00', '2022-03-12 09:30:00+00:00',\n",
       "               '2022-03-13 09:30:00+00:00', '2022-03-14 09:30:00+00:00'],\n",
       "              dtype='datetime64[ns, UTC]', freq='D')"
      ]
     },
     "execution_count": 25,
     "metadata": {},
     "output_type": "execute_result"
    }
   ],
   "source": [
    "print(ts)\n",
    "ts_utc=ts.tz_localize(\"UTC\")\n",
    "ts_utc\n",
    "ts_utc.index"
   ]
  },
  {
   "cell_type": "code",
   "execution_count": 26,
   "id": "3c7ed192",
   "metadata": {},
   "outputs": [
    {
     "data": {
      "text/plain": [
       "2022-03-09 04:30:00-05:00   -0.821032\n",
       "2022-03-10 04:30:00-05:00    0.011226\n",
       "2022-03-11 04:30:00-05:00   -1.568689\n",
       "2022-03-12 04:30:00-05:00   -0.256715\n",
       "2022-03-13 05:30:00-04:00    0.384555\n",
       "2022-03-14 05:30:00-04:00    0.818361\n",
       "Freq: D, dtype: float64"
      ]
     },
     "execution_count": 26,
     "metadata": {},
     "output_type": "execute_result"
    }
   ],
   "source": [
    "ts_utc.tz_convert('America/New_York')"
   ]
  },
  {
   "cell_type": "code",
   "execution_count": 29,
   "id": "f8daadb3",
   "metadata": {},
   "outputs": [
    {
     "ename": "TypeError",
     "evalue": "Cannot convert tz-naive timestamps, use tz_localize to localize",
     "output_type": "error",
     "traceback": [
      "\u001b[1;31m---------------------------------------------------------------------------\u001b[0m",
      "\u001b[1;31mTypeError\u001b[0m                                 Traceback (most recent call last)",
      "\u001b[1;32m<ipython-input-29-b4601eebbb6b>\u001b[0m in \u001b[0;36m<module>\u001b[1;34m\u001b[0m\n\u001b[0;32m      1\u001b[0m \u001b[0mts_eastern\u001b[0m\u001b[1;33m=\u001b[0m\u001b[0mts\u001b[0m\u001b[1;33m.\u001b[0m\u001b[0mtz_localize\u001b[0m\u001b[1;33m(\u001b[0m\u001b[1;34m'America/New_York'\u001b[0m\u001b[1;33m)\u001b[0m\u001b[1;33m\u001b[0m\u001b[1;33m\u001b[0m\u001b[0m\n\u001b[1;32m----> 2\u001b[1;33m \u001b[0mts_eastern\u001b[0m\u001b[1;33m=\u001b[0m\u001b[0mts\u001b[0m\u001b[1;33m.\u001b[0m\u001b[0mtz_convert\u001b[0m\u001b[1;33m(\u001b[0m\u001b[1;34m'UTC'\u001b[0m\u001b[1;33m)\u001b[0m\u001b[1;33m\u001b[0m\u001b[1;33m\u001b[0m\u001b[0m\n\u001b[0m\u001b[0;32m      3\u001b[0m \u001b[0mts_eastern\u001b[0m\u001b[1;33m.\u001b[0m\u001b[0mtz_convert\u001b[0m\u001b[1;33m(\u001b[0m\u001b[1;34m'Europe/Berlin'\u001b[0m\u001b[1;33m)\u001b[0m\u001b[1;33m\u001b[0m\u001b[1;33m\u001b[0m\u001b[0m\n",
      "\u001b[1;32m~\\anaconda3\\lib\\site-packages\\pandas\\core\\generic.py\u001b[0m in \u001b[0;36mtz_convert\u001b[1;34m(self, tz, axis, level, copy)\u001b[0m\n\u001b[0;32m   9773\u001b[0m             \u001b[1;32mif\u001b[0m \u001b[0mlevel\u001b[0m \u001b[1;32mnot\u001b[0m \u001b[1;32min\u001b[0m \u001b[1;33m(\u001b[0m\u001b[1;32mNone\u001b[0m\u001b[1;33m,\u001b[0m \u001b[1;36m0\u001b[0m\u001b[1;33m,\u001b[0m \u001b[0max\u001b[0m\u001b[1;33m.\u001b[0m\u001b[0mname\u001b[0m\u001b[1;33m)\u001b[0m\u001b[1;33m:\u001b[0m\u001b[1;33m\u001b[0m\u001b[1;33m\u001b[0m\u001b[0m\n\u001b[0;32m   9774\u001b[0m                 \u001b[1;32mraise\u001b[0m \u001b[0mValueError\u001b[0m\u001b[1;33m(\u001b[0m\u001b[1;34mf\"The level {level} is not valid\"\u001b[0m\u001b[1;33m)\u001b[0m\u001b[1;33m\u001b[0m\u001b[1;33m\u001b[0m\u001b[0m\n\u001b[1;32m-> 9775\u001b[1;33m             \u001b[0max\u001b[0m \u001b[1;33m=\u001b[0m \u001b[0m_tz_convert\u001b[0m\u001b[1;33m(\u001b[0m\u001b[0max\u001b[0m\u001b[1;33m,\u001b[0m \u001b[0mtz\u001b[0m\u001b[1;33m)\u001b[0m\u001b[1;33m\u001b[0m\u001b[1;33m\u001b[0m\u001b[0m\n\u001b[0m\u001b[0;32m   9776\u001b[0m \u001b[1;33m\u001b[0m\u001b[0m\n\u001b[0;32m   9777\u001b[0m         \u001b[0mresult\u001b[0m \u001b[1;33m=\u001b[0m \u001b[0mself\u001b[0m\u001b[1;33m.\u001b[0m\u001b[0mcopy\u001b[0m\u001b[1;33m(\u001b[0m\u001b[0mdeep\u001b[0m\u001b[1;33m=\u001b[0m\u001b[0mcopy\u001b[0m\u001b[1;33m)\u001b[0m\u001b[1;33m\u001b[0m\u001b[1;33m\u001b[0m\u001b[0m\n",
      "\u001b[1;32m~\\anaconda3\\lib\\site-packages\\pandas\\core\\generic.py\u001b[0m in \u001b[0;36m_tz_convert\u001b[1;34m(ax, tz)\u001b[0m\n\u001b[0;32m   9761\u001b[0m                     \u001b[0max\u001b[0m \u001b[1;33m=\u001b[0m \u001b[0mDatetimeIndex\u001b[0m\u001b[1;33m(\u001b[0m\u001b[1;33m[\u001b[0m\u001b[1;33m]\u001b[0m\u001b[1;33m,\u001b[0m \u001b[0mtz\u001b[0m\u001b[1;33m=\u001b[0m\u001b[0mtz\u001b[0m\u001b[1;33m)\u001b[0m\u001b[1;33m\u001b[0m\u001b[1;33m\u001b[0m\u001b[0m\n\u001b[0;32m   9762\u001b[0m             \u001b[1;32melse\u001b[0m\u001b[1;33m:\u001b[0m\u001b[1;33m\u001b[0m\u001b[1;33m\u001b[0m\u001b[0m\n\u001b[1;32m-> 9763\u001b[1;33m                 \u001b[0max\u001b[0m \u001b[1;33m=\u001b[0m \u001b[0max\u001b[0m\u001b[1;33m.\u001b[0m\u001b[0mtz_convert\u001b[0m\u001b[1;33m(\u001b[0m\u001b[0mtz\u001b[0m\u001b[1;33m)\u001b[0m\u001b[1;33m\u001b[0m\u001b[1;33m\u001b[0m\u001b[0m\n\u001b[0m\u001b[0;32m   9764\u001b[0m             \u001b[1;32mreturn\u001b[0m \u001b[0max\u001b[0m\u001b[1;33m\u001b[0m\u001b[1;33m\u001b[0m\u001b[0m\n\u001b[0;32m   9765\u001b[0m \u001b[1;33m\u001b[0m\u001b[0m\n",
      "\u001b[1;32m~\\anaconda3\\lib\\site-packages\\pandas\\core\\indexes\\datetimes.py\u001b[0m in \u001b[0;36mtz_convert\u001b[1;34m(self, tz)\u001b[0m\n\u001b[0;32m    241\u001b[0m     \u001b[1;33m@\u001b[0m\u001b[0mdoc\u001b[0m\u001b[1;33m(\u001b[0m\u001b[0mDatetimeArray\u001b[0m\u001b[1;33m.\u001b[0m\u001b[0mtz_convert\u001b[0m\u001b[1;33m)\u001b[0m\u001b[1;33m\u001b[0m\u001b[1;33m\u001b[0m\u001b[0m\n\u001b[0;32m    242\u001b[0m     \u001b[1;32mdef\u001b[0m \u001b[0mtz_convert\u001b[0m\u001b[1;33m(\u001b[0m\u001b[0mself\u001b[0m\u001b[1;33m,\u001b[0m \u001b[0mtz\u001b[0m\u001b[1;33m)\u001b[0m \u001b[1;33m->\u001b[0m \u001b[1;34m\"DatetimeIndex\"\u001b[0m\u001b[1;33m:\u001b[0m\u001b[1;33m\u001b[0m\u001b[1;33m\u001b[0m\u001b[0m\n\u001b[1;32m--> 243\u001b[1;33m         \u001b[0marr\u001b[0m \u001b[1;33m=\u001b[0m \u001b[0mself\u001b[0m\u001b[1;33m.\u001b[0m\u001b[0m_data\u001b[0m\u001b[1;33m.\u001b[0m\u001b[0mtz_convert\u001b[0m\u001b[1;33m(\u001b[0m\u001b[0mtz\u001b[0m\u001b[1;33m)\u001b[0m\u001b[1;33m\u001b[0m\u001b[1;33m\u001b[0m\u001b[0m\n\u001b[0m\u001b[0;32m    244\u001b[0m         \u001b[1;32mreturn\u001b[0m \u001b[0mtype\u001b[0m\u001b[1;33m(\u001b[0m\u001b[0mself\u001b[0m\u001b[1;33m)\u001b[0m\u001b[1;33m.\u001b[0m\u001b[0m_simple_new\u001b[0m\u001b[1;33m(\u001b[0m\u001b[0marr\u001b[0m\u001b[1;33m,\u001b[0m \u001b[0mname\u001b[0m\u001b[1;33m=\u001b[0m\u001b[0mself\u001b[0m\u001b[1;33m.\u001b[0m\u001b[0mname\u001b[0m\u001b[1;33m)\u001b[0m\u001b[1;33m\u001b[0m\u001b[1;33m\u001b[0m\u001b[0m\n\u001b[0;32m    245\u001b[0m \u001b[1;33m\u001b[0m\u001b[0m\n",
      "\u001b[1;32m~\\anaconda3\\lib\\site-packages\\pandas\\core\\arrays\\datetimes.py\u001b[0m in \u001b[0;36mtz_convert\u001b[1;34m(self, tz)\u001b[0m\n\u001b[0;32m    812\u001b[0m         \u001b[1;32mif\u001b[0m \u001b[0mself\u001b[0m\u001b[1;33m.\u001b[0m\u001b[0mtz\u001b[0m \u001b[1;32mis\u001b[0m \u001b[1;32mNone\u001b[0m\u001b[1;33m:\u001b[0m\u001b[1;33m\u001b[0m\u001b[1;33m\u001b[0m\u001b[0m\n\u001b[0;32m    813\u001b[0m             \u001b[1;31m# tz naive, use tz_localize\u001b[0m\u001b[1;33m\u001b[0m\u001b[1;33m\u001b[0m\u001b[1;33m\u001b[0m\u001b[0m\n\u001b[1;32m--> 814\u001b[1;33m             raise TypeError(\n\u001b[0m\u001b[0;32m    815\u001b[0m                 \u001b[1;34m\"Cannot convert tz-naive timestamps, use tz_localize to localize\"\u001b[0m\u001b[1;33m\u001b[0m\u001b[1;33m\u001b[0m\u001b[0m\n\u001b[0;32m    816\u001b[0m             )\n",
      "\u001b[1;31mTypeError\u001b[0m: Cannot convert tz-naive timestamps, use tz_localize to localize"
     ]
    }
   ],
   "source": [
    "ts_eastern=ts.tz_localize('America/New_York')\n",
    "ts_eastern=ts.tz_convert('UTC')\n",
    "ts_eastern.tz_convert('Europe/Berlin')"
   ]
  },
  {
   "cell_type": "code",
   "execution_count": 28,
   "id": "ac1fb935",
   "metadata": {},
   "outputs": [
    {
     "name": "stdout",
     "output_type": "stream",
     "text": [
      "2011-03-12 04:00:00+00:00\n"
     ]
    },
    {
     "data": {
      "text/plain": [
       "Timestamp('2011-03-11 23:00:00-0500', tz='America/New_York')"
      ]
     },
     "execution_count": 28,
     "metadata": {},
     "output_type": "execute_result"
    }
   ],
   "source": [
    "stamp=pd.Timestamp('2011-03-12 04:00')\n",
    "stamp_utc=stamp.tz_localize('utc')\n",
    "print(stamp_utc)\n",
    "stamp_utc.tz_convert('America/New_York')"
   ]
  },
  {
   "cell_type": "code",
   "execution_count": 30,
   "id": "eeb200a2",
   "metadata": {},
   "outputs": [
    {
     "data": {
      "text/plain": [
       "Timestamp('2011-03-12 09:30:00+0530', tz='Asia/Kolkata')"
      ]
     },
     "execution_count": 30,
     "metadata": {},
     "output_type": "execute_result"
    }
   ],
   "source": [
    "stamp_utc.tz_convert('Asia/Kolkata')"
   ]
  },
  {
   "cell_type": "code",
   "execution_count": 31,
   "id": "e3cec537",
   "metadata": {},
   "outputs": [
    {
     "data": {
      "text/plain": [
       "Timestamp('2011-03-12 04:00:00+0300', tz='Europe/Moscow')"
      ]
     },
     "execution_count": 31,
     "metadata": {},
     "output_type": "execute_result"
    }
   ],
   "source": [
    "a=pd.Timestamp('2011-03-12 04:00',tz='Europe/Moscow')\n",
    "a"
   ]
  },
  {
   "cell_type": "code",
   "execution_count": 32,
   "id": "fdc03639",
   "metadata": {},
   "outputs": [
    {
     "data": {
      "text/plain": [
       "DatetimeIndex(['2012-03-07 09:30:00', '2012-03-08 09:30:00',\n",
       "               '2012-03-09 09:30:00', '2012-03-12 09:30:00',\n",
       "               '2012-03-13 09:30:00', '2012-03-14 09:30:00',\n",
       "               '2012-03-15 09:30:00', '2012-03-16 09:30:00',\n",
       "               '2012-03-19 09:30:00', '2012-03-20 09:30:00'],\n",
       "              dtype='datetime64[ns]', freq='B')"
      ]
     },
     "execution_count": 32,
     "metadata": {},
     "output_type": "execute_result"
    }
   ],
   "source": [
    "rng=pd.date_range('3/7/2012 9:30',periods=10,freq='B')\n",
    "rng"
   ]
  },
  {
   "cell_type": "code",
   "execution_count": 33,
   "id": "6784bf51",
   "metadata": {},
   "outputs": [
    {
     "data": {
      "text/plain": [
       "Period('2007', 'A-DEC')"
      ]
     },
     "execution_count": 33,
     "metadata": {},
     "output_type": "execute_result"
    }
   ],
   "source": [
    "p=pd.Period(2007,freq='A-DEC')\n",
    "p"
   ]
  },
  {
   "cell_type": "code",
   "execution_count": 34,
   "id": "81e45c28",
   "metadata": {},
   "outputs": [
    {
     "name": "stdout",
     "output_type": "stream",
     "text": [
      "2002\n"
     ]
    },
    {
     "data": {
      "text/plain": [
       "Period('2005', 'A-DEC')"
      ]
     },
     "execution_count": 34,
     "metadata": {},
     "output_type": "execute_result"
    }
   ],
   "source": [
    "print(p-5)\n",
    "p-2"
   ]
  },
  {
   "cell_type": "code",
   "execution_count": 35,
   "id": "b1b5fab5",
   "metadata": {},
   "outputs": [
    {
     "data": {
      "text/plain": [
       "PeriodIndex(['2000-01', '2000-02', '2000-03', '2000-04', '2000-05', '2000-06'], dtype='period[M]', freq='M')"
      ]
     },
     "execution_count": 35,
     "metadata": {},
     "output_type": "execute_result"
    }
   ],
   "source": [
    "rng=pd.period_range('2000-01-01','2000-06-03',freq='M')\n",
    "rng"
   ]
  },
  {
   "cell_type": "code",
   "execution_count": 37,
   "id": "ace2f9e6",
   "metadata": {},
   "outputs": [
    {
     "name": "stdout",
     "output_type": "stream",
     "text": [
      "2007\n",
      "2006-07\n",
      "2007-06\n"
     ]
    }
   ],
   "source": [
    "p=pd.Period('2007',freq='A-JUN')\n",
    "print(p)\n",
    "print(p.asfreq('M','start'))\n",
    "print(p.asfreq('M','end'))"
   ]
  },
  {
   "cell_type": "markdown",
   "id": "d33aeafd",
   "metadata": {},
   "source": [
    "### resampling and frequency conversoion"
   ]
  },
  {
   "cell_type": "markdown",
   "id": "b6dab709",
   "metadata": {},
   "source": [
    "### dowmsampling , upsampling"
   ]
  },
  {
   "cell_type": "code",
   "execution_count": null,
   "id": "73f716c3",
   "metadata": {},
   "outputs": [],
   "source": []
  }
 ],
 "metadata": {
  "kernelspec": {
   "display_name": "Python 3",
   "language": "python",
   "name": "python3"
  },
  "language_info": {
   "codemirror_mode": {
    "name": "ipython",
    "version": 3
   },
   "file_extension": ".py",
   "mimetype": "text/x-python",
   "name": "python",
   "nbconvert_exporter": "python",
   "pygments_lexer": "ipython3",
   "version": "3.8.8"
  }
 },
 "nbformat": 4,
 "nbformat_minor": 5
}
