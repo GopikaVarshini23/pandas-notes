{
 "cells": [
  {
   "cell_type": "markdown",
   "id": "f740390d",
   "metadata": {},
   "source": [
    "# python pandas"
   ]
  },
  {
   "cell_type": "markdown",
   "id": "53f52f35",
   "metadata": {},
   "source": [
    "\n",
    "# # how pandas differ from numpy "
   ]
  },
  {
   "cell_type": "markdown",
   "id": "b0b98237",
   "metadata": {},
   "source": [
    "## pandas:"
   ]
  },
  {
   "cell_type": "markdown",
   "id": "e06792c8",
   "metadata": {},
   "source": [
    " pandas is defined as an open source library that provides high performance data manipulation in python .it is built on the numpy package,which means numpy is required for operating the pandas.the name os pandas is derived from the word panel data,which means an econometrics from multidimentional data.it is used for data analysis in python and develeoped by wes mckinney in 2008"
   ]
  },
  {
   "cell_type": "markdown",
   "id": "363af30a",
   "metadata": {},
   "source": [
    "## numpy"
   ]
  },
  {
   "cell_type": "markdown",
   "id": "90c85f15",
   "metadata": {},
   "source": [
    "But compared to numpy it is mostly based on the c language,and it is an extension module of python.it is defined as a python package used for performibng the various numerical computtations and processing of thre multidimentional and sinflr-dimentional array elements .the calciulations using numpy arrays are faster then the norml python array.\n"
   ]
  },
  {
   "cell_type": "markdown",
   "id": "567edad3",
   "metadata": {},
   "source": [
    " the numpy pacakage is created by travis oliphant in 2005 by adding the functionalitis of the ancestors module numeric into another modulr numarray.\n"
   ]
  },
  {
   "cell_type": "markdown",
   "id": "d726a4cb",
   "metadata": {},
   "source": [
    "## difference"
   ]
  },
  {
   "cell_type": "markdown",
   "id": "123e9b9a",
   "metadata": {},
   "source": [
    "1.the pandas module mainely works with the tabular data,where as the numpy module works with the numerical data\n",
    "\n",
    "2.the pandas provides some sets of powerful toools like dataframe and series that mainely used for analyzing the data where as in numpy \n",
    "\n",
    "3.the performance of numpy is better than numpy for 50k rows or less\n",
    "\n",
    "4.the performance of pandas is better than numpy for 500k rows or more\n",
    "\n",
    "5.numpy haa less memory than pandas\n",
    "\n"
   ]
  },
  {
   "cell_type": "markdown",
   "id": "173bcb54",
   "metadata": {},
   "source": [
    "\n",
    "## 1. pandas features"
   ]
  },
  {
   "cell_type": "markdown",
   "id": "89e945a2",
   "metadata": {},
   "source": [
    "### 1.1 handling of data: "
   ]
  },
  {
   "cell_type": "markdown",
   "id": "d117537b",
   "metadata": {},
   "source": [
    "pandas library provides a really fast and efficient way to manage and explore data.it does that by providing us with series and dataframes,which are explore data.it does that by providing us with series and data frames,which help us not only the represent data efficiency but also manulpiate it in various ways.these features of pandas is exectly what makes it such an attractive library for data scientists"
   ]
  },
  {
   "cell_type": "markdown",
   "id": "02fa0efb",
   "metadata": {},
   "source": [
    "### 1.2 alignment and indexing:\n",
    "\n",
    " having adat is useles   if you dont know where it belongs and what it tells us aboout so,labelelling of data is very imp and indexing\n",
    "\n",
    "### 1.3 handeling missing data\n",
    "\n",
    " missing data can be ghandeleld very well in pandas\n",
    "\n",
    "### 1.4 cleaning up data\n",
    "\n",
    "it is very imp that we clean data up\n",
    "\n",
    "### 1.5 input and output tools\n",
    "\n",
    "inputing and outputiing data is very imp,just like we can asscess jason file,note file ,c file  etc...any typr of file\n",
    "\n",
    "### 1.6 multiple file formats supports\n",
    "\n",
    " we can access various file formats\n",
    "\n",
    "### 1.7 merging and jooining of datasets\n",
    "\n",
    "### 1.8 a lot of time series\n",
    "\n",
    "### 1.9 optimized performance\n",
    "\n",
    "### 1.10 python support\n",
    "\n",
    "### 1.11 visualize\n",
    "\n",
    "### 1.12 grouping\n",
    "\n",
    "### 1.13 mask data:  (hiding data)\n",
    "\n",
    "### 1.14 unique data\n",
    "\n",
    "### 1.15 perform mathematical operations of data"
   ]
  },
  {
   "cell_type": "code",
   "execution_count": 1,
   "id": "a0e0ab21",
   "metadata": {},
   "outputs": [],
   "source": [
    "import pandas as pd"
   ]
  },
  {
   "cell_type": "markdown",
   "id": "79120895",
   "metadata": {},
   "source": [
    "# 2.series\n",
    "\n",
    "it is fundamental piece of data structure.it is basicallynothing but one dimentional arrays and seqence of values\n",
    "\n",
    "### 2.1 parameters\n",
    "\n",
    "data:value you want your series to posses\n",
    "     \n",
    "index:index related to the value you use for series\n",
    "     \n",
    "dtype:the specifies the type of value in the series\n",
    "     \n",
    "copy:it copies the data which was input\n"
   ]
  },
  {
   "cell_type": "markdown",
   "id": "f035a3d5",
   "metadata": {},
   "source": [
    "### creation"
   ]
  },
  {
   "cell_type": "code",
   "execution_count": 7,
   "id": "768dc270",
   "metadata": {},
   "outputs": [
    {
     "data": {
      "text/plain": [
       "0    4\n",
       "1    7\n",
       "2   -5\n",
       "3    3\n",
       "dtype: int64"
      ]
     },
     "execution_count": 7,
     "metadata": {},
     "output_type": "execute_result"
    }
   ],
   "source": [
    "import pandas as pd\n",
    "obj=pd.Series([4,7,-5,3])\n",
    "obj"
   ]
  },
  {
   "cell_type": "markdown",
   "id": "38b77af8",
   "metadata": {},
   "source": [
    "## creating series with numpy array of alphabets"
   ]
  },
  {
   "cell_type": "code",
   "execution_count": 3,
   "id": "9afd1886",
   "metadata": {},
   "outputs": [
    {
     "name": "stdout",
     "output_type": "stream",
     "text": [
      "['d' 'a' 't' 'a']\n"
     ]
    },
    {
     "data": {
      "text/plain": [
       "0    d\n",
       "1    a\n",
       "2    t\n",
       "3    a\n",
       "dtype: object"
      ]
     },
     "execution_count": 3,
     "metadata": {},
     "output_type": "execute_result"
    }
   ],
   "source": [
    "import pandas as pd\n",
    "import numpy as np\n",
    "npa=np.array(['d','a','t','a'])\n",
    "print(npa)\n",
    "dat1=pd.Series(npa)\n",
    "dat1"
   ]
  },
  {
   "cell_type": "markdown",
   "id": "9349383c",
   "metadata": {},
   "source": [
    "## creating series with numpy array of numbers"
   ]
  },
  {
   "cell_type": "code",
   "execution_count": 9,
   "id": "5591139a",
   "metadata": {},
   "outputs": [
    {
     "name": "stdout",
     "output_type": "stream",
     "text": [
      "[1 2 3 4]\n"
     ]
    },
    {
     "data": {
      "text/plain": [
       "0    1\n",
       "1    2\n",
       "2    3\n",
       "3    4\n",
       "dtype: int32"
      ]
     },
     "execution_count": 9,
     "metadata": {},
     "output_type": "execute_result"
    }
   ],
   "source": [
    "import numpy as np\n",
    "npa=np.array([1,2,3,4])\n",
    "print(npa)\n",
    "dat1=pd.Series(npa)\n",
    "dat1"
   ]
  },
  {
   "cell_type": "markdown",
   "id": "b76cc8f6",
   "metadata": {},
   "source": [
    "## creating with python dictionary"
   ]
  },
  {
   "cell_type": "code",
   "execution_count": 4,
   "id": "f6f8e30b",
   "metadata": {},
   "outputs": [
    {
     "data": {
      "text/plain": [
       "delhi      12.7\n",
       "mumbai      2.4\n",
       "kolkata     3.6\n",
       "dtype: float64"
      ]
     },
     "execution_count": 4,
     "metadata": {},
     "output_type": "execute_result"
    }
   ],
   "source": [
    "a={'delhi':12.7,'mumbai':2.4,'kolkata':3.6}\n",
    "b=pd.Series(a)\n",
    "b"
   ]
  },
  {
   "cell_type": "markdown",
   "id": "c948f1ed",
   "metadata": {},
   "source": [
    "## how to change the index of pandas series"
   ]
  },
  {
   "cell_type": "code",
   "execution_count": 13,
   "id": "d973b99c",
   "metadata": {},
   "outputs": [
    {
     "data": {
      "text/plain": [
       "a1    5\n",
       "a2    5\n",
       "a3   -3\n",
       "a4    3\n",
       "dtype: int64"
      ]
     },
     "execution_count": 13,
     "metadata": {},
     "output_type": "execute_result"
    }
   ],
   "source": [
    "num=['a1','a2','a3','a4']\n",
    "arr2=pd.Series([5,5,-3,3],index=num)\n",
    "arr2"
   ]
  },
  {
   "cell_type": "markdown",
   "id": "bc3af798",
   "metadata": {},
   "source": [
    "## we can retrieve directly from panda series"
   ]
  },
  {
   "cell_type": "markdown",
   "id": "cc8f569b",
   "metadata": {},
   "source": [
    "##### print(arr2.values)\n",
    "print(arr2.index)"
   ]
  },
  {
   "cell_type": "code",
   "execution_count": 18,
   "id": "0864a184",
   "metadata": {},
   "outputs": [
    {
     "name": "stdout",
     "output_type": "stream",
     "text": [
      "-5\n"
     ]
    },
    {
     "data": {
      "text/plain": [
       "c    3\n",
       "a   -5\n",
       "d    6\n",
       "dtype: int64"
      ]
     },
     "execution_count": 18,
     "metadata": {},
     "output_type": "execute_result"
    }
   ],
   "source": [
    "print(obj2['a'])\n",
    "obj2['d']=6\n",
    "obj2[['c','a','d']]"
   ]
  },
  {
   "cell_type": "code",
   "execution_count": 3,
   "id": "1069079f",
   "metadata": {},
   "outputs": [
    {
     "name": "stdout",
     "output_type": "stream",
     "text": [
      "d    4\n",
      "b    7\n",
      "a   -5\n",
      "c    3\n",
      "dtype: int64\n"
     ]
    },
    {
     "data": {
      "text/plain": [
       "Index(['d', 'b', 'a', 'c'], dtype='object')"
      ]
     },
     "execution_count": 3,
     "metadata": {},
     "output_type": "execute_result"
    }
   ],
   "source": [
    "import pandas as pd\n",
    "obj2=pd.Series([4,7,-5,3],index=['d','b','a','c'])\n",
    "print(obj2)\n",
    "obj2.index"
   ]
  },
  {
   "cell_type": "markdown",
   "id": "759d468b",
   "metadata": {},
   "source": [
    "#### Q1 write a pyhton program to create pandas series obj with elements 1-30.but a no from the user between 1 to 30 and print subset of given series based on the value"
   ]
  },
  {
   "cell_type": "code",
   "execution_count": 53,
   "id": "86852055",
   "metadata": {},
   "outputs": [
    {
     "name": "stdout",
     "output_type": "stream",
     "text": [
      "enter values5\n",
      "0    1\n",
      "1    2\n",
      "2    3\n",
      "3    4\n",
      "4    5\n",
      "5    6\n",
      "dtype: int64\n"
     ]
    }
   ],
   "source": [
    "import pandas as pd\n",
    "l= []\n",
    "for i in range (1,31):\n",
    "       l.append(i)\n",
    "p=pd.Series(l)\n",
    "n=int(input(\"enter values\"))\n",
    "print(p[0:n+1])"
   ]
  },
  {
   "cell_type": "markdown",
   "id": "23ec8d9b",
   "metadata": {},
   "source": [
    "### Write a Pandas program to create a subset of a given series based on value and condition."
   ]
  },
  {
   "cell_type": "code",
   "execution_count": 18,
   "id": "f29ecc0b",
   "metadata": {},
   "outputs": [
    {
     "name": "stdout",
     "output_type": "stream",
     "text": [
      "Original Data Series:\n",
      "0      0\n",
      "1      1\n",
      "2      2\n",
      "3      3\n",
      "4      4\n",
      "5      5\n",
      "6      6\n",
      "7      7\n",
      "8      8\n",
      "9      9\n",
      "10    10\n",
      "dtype: int64\n",
      "\n",
      "Subset of the above Data Series:\n",
      "0    0\n",
      "1    1\n",
      "2    2\n",
      "3    3\n",
      "4    4\n",
      "5    5\n",
      "dtype: int64\n"
     ]
    }
   ],
   "source": [
    "import pandas as pd\n",
    "s = pd.Series([0, 1,2,3,4,5,6,7,8,9,10])\n",
    "print(\"Original Data Series:\")\n",
    "print(s)\n",
    "print(\"\\nSubset of the above Data Series:\")\n",
    "n = 6\n",
    "new_s = s[s < n]\n",
    "print(new_s)"
   ]
  },
  {
   "cell_type": "markdown",
   "id": "f3dae408",
   "metadata": {},
   "source": [
    "#### Q3 write a program in pandas two compare elements of two panads series"
   ]
  },
  {
   "cell_type": "code",
   "execution_count": 24,
   "id": "939a3d7b",
   "metadata": {},
   "outputs": [
    {
     "name": "stdout",
     "output_type": "stream",
     "text": [
      "S1:\n",
      "0     2\n",
      "1     4\n",
      "2     6\n",
      "3     8\n",
      "4    10\n",
      "dtype: int64\n",
      "S2:\n",
      "0     1\n",
      "1     3\n",
      "2     5\n",
      "3     7\n",
      "4    10\n",
      "dtype: int64\n",
      "Compare:\n",
      "Equals:\n",
      "0    False\n",
      "1    False\n",
      "2    False\n",
      "3    False\n",
      "4     True\n",
      "dtype: bool\n",
      "Greater than:\n",
      "0     True\n",
      "1     True\n",
      "2     True\n",
      "3     True\n",
      "4    False\n",
      "dtype: bool\n",
      "Less than:\n",
      "0    False\n",
      "1    False\n",
      "2    False\n",
      "3    False\n",
      "4    False\n",
      "dtype: bool\n"
     ]
    }
   ],
   "source": [
    "import pandas as pd\n",
    "ds1 = pd.Series([2, 4, 6, 8, 10])\n",
    "ds2 = pd.Series([1, 3, 5, 7, 10])\n",
    "print(\"S1:\")\n",
    "print(ds1)\n",
    "print(\"S2:\")\n",
    "print(ds2)\n",
    "print(\"Compare:\")\n",
    "print(\"Equals:\")\n",
    "print(ds1==ds2)\n",
    "print(\"Greater than:\")\n",
    "print(ds1 > ds2)\n",
    "print(\"Less than:\")\n",
    "print(ds1 < ds2)"
   ]
  },
  {
   "cell_type": "markdown",
   "id": "511f9da1",
   "metadata": {},
   "source": [
    "#### Q4 write a program in pandas to convert given series to an array and dictionary"
   ]
  },
  {
   "cell_type": "code",
   "execution_count": 51,
   "id": "c6b647e4",
   "metadata": {},
   "outputs": [
    {
     "name": "stdout",
     "output_type": "stream",
     "text": [
      "Original Data Series:\n",
      "0       100\n",
      "1       200\n",
      "2    python\n",
      "3    300.12\n",
      "4       400\n",
      "dtype: object\n",
      "Series to an array\n",
      "['100' '200' 'python' '300.12' '400']\n"
     ]
    }
   ],
   "source": [
    "import pandas as pd\n",
    "import numpy as np\n",
    "s1 = pd.Series(['100', '200', 'python', '300.12', '400'])\n",
    "print(\"Original Data Series:\")\n",
    "print(s1)\n",
    "print(\"Series to an array\")\n",
    "a = np.array(s1.values.tolist())\n",
    "print (a)"
   ]
  },
  {
   "cell_type": "markdown",
   "id": "88c4675e",
   "metadata": {},
   "source": [
    "#### Q5 write a pandas program to stack the two given vsrticallynand horizontally and use concatenate function"
   ]
  },
  {
   "cell_type": "code",
   "execution_count": 22,
   "id": "f67bf1d0",
   "metadata": {},
   "outputs": [
    {
     "name": "stdout",
     "output_type": "stream",
     "text": [
      "Original Series:\n",
      "0    0\n",
      "1    1\n",
      "2    2\n",
      "3    3\n",
      "4    4\n",
      "5    5\n",
      "6    6\n",
      "7    7\n",
      "8    8\n",
      "9    9\n",
      "dtype: int64\n",
      "0    p\n",
      "1    q\n",
      "2    r\n",
      "3    s\n",
      "4    t\n",
      "5    u\n",
      "6    v\n",
      "7    w\n",
      "8    x\n",
      "9    y\n",
      "dtype: object\n",
      "\n",
      "Stack two given series vertically and horizontally:\n",
      "   0  1\n",
      "0  0  p\n",
      "1  1  q\n",
      "2  2  r\n",
      "3  3  s\n",
      "4  4  t\n",
      "5  5  u\n",
      "6  6  v\n",
      "7  7  w\n",
      "8  8  x\n",
      "9  9  y\n"
     ]
    }
   ],
   "source": [
    "import pandas as pd\n",
    "series1 = pd.Series(range(10))\n",
    "series2 = pd.Series(list('pqrstuvwxy'))\n",
    "print(\"Original Series:\")\n",
    "print(series1)\n",
    "print(series2)\n",
    "series1.append(series2)\n",
    "df = pd.concat([series1, series2], axis=1)\n",
    "print(\"\\nStack two given series vertically and horizontally:\")\n",
    "print(df)"
   ]
  },
  {
   "cell_type": "markdown",
   "id": "4874174c",
   "metadata": {},
   "source": [
    "#### Q6 write a pandas program to sort given series"
   ]
  },
  {
   "cell_type": "code",
   "execution_count": 3,
   "id": "63e36c62",
   "metadata": {},
   "outputs": [
    {
     "name": "stdout",
     "output_type": "stream",
     "text": [
      "0    2\n",
      "1    3\n",
      "2    4\n",
      "3   -6\n",
      "dtype: int64\n"
     ]
    },
    {
     "data": {
      "text/plain": [
       "a1    3\n",
       "a2    4\n",
       "a3   -6\n",
       "a4    7\n",
       "dtype: int64"
      ]
     },
     "execution_count": 3,
     "metadata": {},
     "output_type": "execute_result"
    }
   ],
   "source": [
    "import pandas as pd\n",
    "n1=['a1','a2','a3','a4']\n",
    "a=pd.Series([2,3,4,-6])\n",
    "print(a)\n",
    "a=pd.Series([3,4,-6,7],index=n1)\n",
    "a"
   ]
  },
  {
   "cell_type": "code",
   "execution_count": 6,
   "id": "665d726a",
   "metadata": {},
   "outputs": [
    {
     "name": "stdout",
     "output_type": "stream",
     "text": [
      "enter the values:5\n",
      "0    2\n",
      "1    3\n",
      "2    4\n",
      "3    5\n",
      "4    6\n",
      "dtype: object\n",
      "0    2\n",
      "1    3\n",
      "2    4\n",
      "3    5\n",
      "4    6\n",
      "dtype: object\n"
     ]
    }
   ],
   "source": [
    "import pandas as np\n",
    "import numpy as np\n",
    "n=int(input(\"enter the values:\"))\n",
    "s = pd.Series(['2','3','4','5','6'])\n",
    "print(s)\n",
    "s1 = pd.Series(s).sort_values()\n",
    "print(s1)\n"
   ]
  },
  {
   "cell_type": "markdown",
   "id": "2e4445e3",
   "metadata": {},
   "source": [
    "# dataframes"
   ]
  },
  {
   "cell_type": "markdown",
   "id": "65d0b4db",
   "metadata": {},
   "source": [
    "data sets pands are usally mult dimentional tables,called dataframes,series like a column ,a data frames is a whole table\n",
    "data frame is like a column ,a dataframe is a whole table\n",
    "\n",
    "dataframe is defined as a standard way to store data that has two different indexes, i.e., row index and column index .it consists of the following propertirs:\n",
    "     \n",
    "        the column can  be heterogenious types like int ,boll,and so on.\n",
    "        \n",
    "        it can be seen as directory of series structures here booth the rows and columns and indesxed .it is denoted as \"column\" in case of columns and \"index\" in case of rows\n",
    "        "
   ]
  },
  {
   "cell_type": "markdown",
   "id": "f14aeb2f",
   "metadata": {},
   "source": [
    "## create an empty dataframes"
   ]
  },
  {
   "cell_type": "code",
   "execution_count": 10,
   "id": "bc7e7c4e",
   "metadata": {},
   "outputs": [
    {
     "name": "stdout",
     "output_type": "stream",
     "text": [
      "Empty DataFrame\n",
      "Columns: []\n",
      "Index: []\n"
     ]
    }
   ],
   "source": [
    "#importing pandas library\n",
    "import pandas as pd\n",
    "df=pd.DataFrame()\n",
    "print(df)"
   ]
  },
  {
   "cell_type": "code",
   "execution_count": 9,
   "id": "c743a5d5",
   "metadata": {},
   "outputs": [
    {
     "name": "stdout",
     "output_type": "stream",
     "text": [
      "        0\n",
      "0  python\n",
      "1  pandas\n"
     ]
    }
   ],
   "source": [
    "#list of strings\n",
    "x=['python','pandas']\n",
    "#callind dtaframes constructor on list\n",
    "df=pd.DataFrame(x)\n",
    "print(df)"
   ]
  },
  {
   "cell_type": "code",
   "execution_count": 14,
   "id": "bf739c34",
   "metadata": {},
   "outputs": [
    {
     "name": "stdout",
     "output_type": "stream",
     "text": [
      "    1D Department\n",
      "0  101        cse\n",
      "1  102        ece\n",
      "2  103         it\n"
     ]
    }
   ],
   "source": [
    "# create a dataframe from dict of ndarray/lists\n",
    "import pandas as pd\n",
    "info={'1D':[101,102,103],'Department':['cse','ece','it']}\n",
    "df=pd.DataFrame(info)\n",
    "print(df)"
   ]
  },
  {
   "cell_type": "code",
   "execution_count": 18,
   "id": "b2d7607c",
   "metadata": {},
   "outputs": [
    {
     "name": "stdout",
     "output_type": "stream",
     "text": [
      "   one  two\n",
      "a  1.0    1\n",
      "b  2.0    2\n",
      "c  3.0    3\n",
      "d  4.0    4\n",
      "e  5.0    5\n",
      "f  6.0    6\n",
      "g  NaN    7\n",
      "h  NaN    8\n"
     ]
    }
   ],
   "source": [
    "#importing the pandas library\n",
    "import pandas as pd\n",
    "info={'one':pd.Series([1,2,3,4,5,6],index=['a','b','c','d','e','f']), 'two':pd.Series([1,2,3,4,5,6,7,8], index=['a','b','c','d','e','f','g','h'])}\n",
    "d1=pd.DataFrame(info)\n",
    "print(d1)"
   ]
  },
  {
   "cell_type": "markdown",
   "id": "f246f6b6",
   "metadata": {},
   "source": [
    "### locate row"
   ]
  },
  {
   "cell_type": "markdown",
   "id": "156b6b12",
   "metadata": {},
   "source": [
    "as you can see from the result above, the data frames is like a table rows and a columns. \n",
    "\n",
    "psnad use the loc attribute to return one or mor e specified row's\n",
    "\n",
    "### refer to the row index:\n",
    "print(df.loc[0])\n",
    "\n",
    "### use a list of indexes:\n",
    "print(df.loc[[0,1]])"
   ]
  },
  {
   "cell_type": "markdown",
   "id": "92af6acd",
   "metadata": {},
   "source": [
    "# named indexes"
   ]
  },
  {
   "cell_type": "markdown",
   "id": "905e68a4",
   "metadata": {},
   "source": [
    "with the index argument ,you can name your own indexes."
   ]
  },
  {
   "cell_type": "code",
   "execution_count": 19,
   "id": "6e8e399d",
   "metadata": {},
   "outputs": [
    {
     "name": "stdout",
     "output_type": "stream",
     "text": [
      "      calories  duration\n",
      "day1        23        23\n",
      "day2        56        56\n",
      "day3        78        78\n",
      "day4        99        90\n"
     ]
    }
   ],
   "source": [
    "import pandas as pd\n",
    "data={ \"calories\":[23,56,78,99],\"duration\":[23,56,78,90]}\n",
    "df=pd.DataFrame(data, index=[\"day1\",\"day2\",\"day3\",\"day4\"])\n",
    "print(df)"
   ]
  },
  {
   "cell_type": "markdown",
   "id": "80316bf3",
   "metadata": {},
   "source": [
    "#### how to add new column by passing the series"
   ]
  },
  {
   "cell_type": "code",
   "execution_count": 21,
   "id": "7c0f9ba9",
   "metadata": {},
   "outputs": [
    {
     "name": "stdout",
     "output_type": "stream",
     "text": [
      "add new column by passing series\n",
      "   one  two  three\n",
      "a  1.0    1   20.0\n",
      "b  2.0    2   40.0\n",
      "c  3.0    3   60.0\n",
      "d  4.0    4    NaN\n",
      "e  5.0    5    NaN\n",
      "f  NaN    6    NaN\n",
      "add new column using existing dataframe columns\n",
      "   one  two  three  four\n",
      "a  1.0    1   20.0  21.0\n",
      "b  2.0    2   40.0  42.0\n",
      "c  3.0    3   60.0  63.0\n",
      "d  4.0    4    NaN   NaN\n",
      "e  5.0    5    NaN   NaN\n",
      "f  NaN    6    NaN   NaN\n"
     ]
    }
   ],
   "source": [
    "import pandas as pd\n",
    "info={'one':pd.Series([1,2,3,4,5],index=['a','b','c','d','e']), 'two':pd.Series([1,2,3,4,5,6],index=['a','b','c','d','e','f'])}\n",
    "df=pd.DataFrame(info)\n",
    "#add a new column to an existing data frames object\n",
    "print(\"add new column by passing series\")\n",
    "df['three']=pd.Series([20,40,60],index=['a','b','c'])\n",
    "print(df)\n",
    "print(\"add new column using existing dataframe columns\")\n",
    "df['four']=df['one']+df['three']\n",
    "print(df)"
   ]
  },
  {
   "cell_type": "markdown",
   "id": "f1f51dba",
   "metadata": {},
   "source": [
    "# python data frames"
   ]
  },
  {
   "cell_type": "markdown",
   "id": "9bb99337",
   "metadata": {},
   "source": [
    "a dataframes rrepresents a rectangukar table of the data and countaind=s an ordered collecton of columns ,each values diff value type(numeric,string,boolean,etc..) .the cdata frome hass both  row ans column indes:\n",
    "    ot can through of as dict series all sharing the same index.under the hood ,the dat ais stored as one or more 2D blocks rather than a loist,dict,or some other collection of 1d arrays \n",
    "    \n",
    "    there are many ways to construct ddata frames"
   ]
  },
  {
   "cell_type": "markdown",
   "id": "0cb8a812",
   "metadata": {},
   "source": [
    "## 1.creating pandas data frames"
   ]
  },
  {
   "cell_type": "code",
   "execution_count": 7,
   "id": "9b612fd9",
   "metadata": {},
   "outputs": [
    {
     "data": {
      "text/html": [
       "<div>\n",
       "<style scoped>\n",
       "    .dataframe tbody tr th:only-of-type {\n",
       "        vertical-align: middle;\n",
       "    }\n",
       "\n",
       "    .dataframe tbody tr th {\n",
       "        vertical-align: top;\n",
       "    }\n",
       "\n",
       "    .dataframe thead th {\n",
       "        text-align: right;\n",
       "    }\n",
       "</style>\n",
       "<table border=\"1\" class=\"dataframe\">\n",
       "  <thead>\n",
       "    <tr style=\"text-align: right;\">\n",
       "      <th></th>\n",
       "      <th>x</th>\n",
       "      <th>y</th>\n",
       "      <th>z</th>\n",
       "    </tr>\n",
       "  </thead>\n",
       "  <tbody>\n",
       "    <tr>\n",
       "      <th>0</th>\n",
       "      <td>1</td>\n",
       "      <td>2</td>\n",
       "      <td>200</td>\n",
       "    </tr>\n",
       "    <tr>\n",
       "      <th>1</th>\n",
       "      <td>2</td>\n",
       "      <td>4</td>\n",
       "      <td>200</td>\n",
       "    </tr>\n",
       "    <tr>\n",
       "      <th>2</th>\n",
       "      <td>3</td>\n",
       "      <td>8</td>\n",
       "      <td>200</td>\n",
       "    </tr>\n",
       "  </tbody>\n",
       "</table>\n",
       "</div>"
      ],
      "text/plain": [
       "   x  y    z\n",
       "0  1  2  200\n",
       "1  2  4  200\n",
       "2  3  8  200"
      ]
     },
     "execution_count": 7,
     "metadata": {},
     "output_type": "execute_result"
    }
   ],
   "source": [
    "import numpy as np\n",
    "import pandas as pd\n",
    "d={'x':[1,2,3],'y':np.array([2,4,8]),'z':200}\n",
    "pd.DataFrame(d)"
   ]
  },
  {
   "cell_type": "code",
   "execution_count": 8,
   "id": "01472c7b",
   "metadata": {},
   "outputs": [
    {
     "data": {
      "text/html": [
       "<div>\n",
       "<style scoped>\n",
       "    .dataframe tbody tr th:only-of-type {\n",
       "        vertical-align: middle;\n",
       "    }\n",
       "\n",
       "    .dataframe tbody tr th {\n",
       "        vertical-align: top;\n",
       "    }\n",
       "\n",
       "    .dataframe thead th {\n",
       "        text-align: right;\n",
       "    }\n",
       "</style>\n",
       "<table border=\"1\" class=\"dataframe\">\n",
       "  <thead>\n",
       "    <tr style=\"text-align: right;\">\n",
       "      <th></th>\n",
       "      <th>z</th>\n",
       "      <th>y</th>\n",
       "      <th>x</th>\n",
       "    </tr>\n",
       "  </thead>\n",
       "  <tbody>\n",
       "    <tr>\n",
       "      <th>100</th>\n",
       "      <td>200</td>\n",
       "      <td>2</td>\n",
       "      <td>1</td>\n",
       "    </tr>\n",
       "    <tr>\n",
       "      <th>200</th>\n",
       "      <td>200</td>\n",
       "      <td>4</td>\n",
       "      <td>2</td>\n",
       "    </tr>\n",
       "    <tr>\n",
       "      <th>300</th>\n",
       "      <td>200</td>\n",
       "      <td>8</td>\n",
       "      <td>3</td>\n",
       "    </tr>\n",
       "  </tbody>\n",
       "</table>\n",
       "</div>"
      ],
      "text/plain": [
       "       z  y  x\n",
       "100  200  2  1\n",
       "200  200  4  2\n",
       "300  200  8  3"
      ]
     },
     "execution_count": 8,
     "metadata": {},
     "output_type": "execute_result"
    }
   ],
   "source": [
    "pd.DataFrame(d,index=[100,200,300],columns=['z','y','x'])"
   ]
  },
  {
   "cell_type": "markdown",
   "id": "8b45a74b",
   "metadata": {},
   "source": [
    "## 2.creating pandas dataframe with lists"
   ]
  },
  {
   "cell_type": "code",
   "execution_count": 13,
   "id": "38142065",
   "metadata": {},
   "outputs": [
    {
     "data": {
      "text/html": [
       "<div>\n",
       "<style scoped>\n",
       "    .dataframe tbody tr th:only-of-type {\n",
       "        vertical-align: middle;\n",
       "    }\n",
       "\n",
       "    .dataframe tbody tr th {\n",
       "        vertical-align: top;\n",
       "    }\n",
       "\n",
       "    .dataframe thead th {\n",
       "        text-align: right;\n",
       "    }\n",
       "</style>\n",
       "<table border=\"1\" class=\"dataframe\">\n",
       "  <thead>\n",
       "    <tr style=\"text-align: right;\">\n",
       "      <th></th>\n",
       "      <th>x</th>\n",
       "      <th>y</th>\n",
       "      <th>z</th>\n",
       "    </tr>\n",
       "  </thead>\n",
       "  <tbody>\n",
       "    <tr>\n",
       "      <th>0</th>\n",
       "      <td>1</td>\n",
       "      <td>2</td>\n",
       "      <td>100</td>\n",
       "    </tr>\n",
       "    <tr>\n",
       "      <th>1</th>\n",
       "      <td>2</td>\n",
       "      <td>4</td>\n",
       "      <td>100</td>\n",
       "    </tr>\n",
       "    <tr>\n",
       "      <th>2</th>\n",
       "      <td>3</td>\n",
       "      <td>6</td>\n",
       "      <td>100</td>\n",
       "    </tr>\n",
       "  </tbody>\n",
       "</table>\n",
       "</div>"
      ],
      "text/plain": [
       "   x  y    z\n",
       "0  1  2  100\n",
       "1  2  4  100\n",
       "2  3  6  100"
      ]
     },
     "execution_count": 13,
     "metadata": {},
     "output_type": "execute_result"
    }
   ],
   "source": [
    "import pandas as pd\n",
    "l=[{'x':1,'y':2,'z':100},\n",
    "   {'x':2,'y':4,'z':100},\n",
    "   {'x':3,'y':6,'z':100}]\n",
    "pd.DataFrame(l)"
   ]
  },
  {
   "cell_type": "code",
   "execution_count": 14,
   "id": "08705b48",
   "metadata": {},
   "outputs": [
    {
     "data": {
      "text/html": [
       "<div>\n",
       "<style scoped>\n",
       "    .dataframe tbody tr th:only-of-type {\n",
       "        vertical-align: middle;\n",
       "    }\n",
       "\n",
       "    .dataframe tbody tr th {\n",
       "        vertical-align: top;\n",
       "    }\n",
       "\n",
       "    .dataframe thead th {\n",
       "        text-align: right;\n",
       "    }\n",
       "</style>\n",
       "<table border=\"1\" class=\"dataframe\">\n",
       "  <thead>\n",
       "    <tr style=\"text-align: right;\">\n",
       "      <th></th>\n",
       "      <th>x</th>\n",
       "      <th>y</th>\n",
       "      <th>z</th>\n",
       "    </tr>\n",
       "  </thead>\n",
       "  <tbody>\n",
       "    <tr>\n",
       "      <th>0</th>\n",
       "      <td>1</td>\n",
       "      <td>2</td>\n",
       "      <td>100</td>\n",
       "    </tr>\n",
       "    <tr>\n",
       "      <th>1</th>\n",
       "      <td>2</td>\n",
       "      <td>4</td>\n",
       "      <td>200</td>\n",
       "    </tr>\n",
       "    <tr>\n",
       "      <th>2</th>\n",
       "      <td>3</td>\n",
       "      <td>6</td>\n",
       "      <td>300</td>\n",
       "    </tr>\n",
       "  </tbody>\n",
       "</table>\n",
       "</div>"
      ],
      "text/plain": [
       "   x  y    z\n",
       "0  1  2  100\n",
       "1  2  4  200\n",
       "2  3  6  300"
      ]
     },
     "execution_count": 14,
     "metadata": {},
     "output_type": "execute_result"
    }
   ],
   "source": [
    "import pandas as pd\n",
    "l=[{'x':1,'y':2,'z':100},\n",
    "   {'x':2,'y':4,'z':200},\n",
    "   {'x':3,'y':6,'z':300}]\n",
    "pd.DataFrame(l)"
   ]
  },
  {
   "cell_type": "code",
   "execution_count": 15,
   "id": "009855a6",
   "metadata": {},
   "outputs": [
    {
     "data": {
      "text/plain": [
       "0    {'x': 1, 'y': 2, 'z': 100}\n",
       "1    {'x': 2, 'y': 4, 'z': 200}\n",
       "2    {'x': 3, 'y': 6, 'z': 300}\n",
       "dtype: object"
      ]
     },
     "execution_count": 15,
     "metadata": {},
     "output_type": "execute_result"
    }
   ],
   "source": [
    "import pandas as pd\n",
    "l=[{'x':1,'y':2,'z':100},\n",
    "   {'x':2,'y':4,'z':200},\n",
    "   {'x':3,'y':6,'z':300}]\n",
    "pd.Series(l)"
   ]
  },
  {
   "cell_type": "markdown",
   "id": "471632e5",
   "metadata": {},
   "source": [
    "## 3.creating a pandas DataFrames with numpy array"
   ]
  },
  {
   "cell_type": "code",
   "execution_count": 17,
   "id": "17e32e7e",
   "metadata": {},
   "outputs": [
    {
     "data": {
      "text/html": [
       "<div>\n",
       "<style scoped>\n",
       "    .dataframe tbody tr th:only-of-type {\n",
       "        vertical-align: middle;\n",
       "    }\n",
       "\n",
       "    .dataframe tbody tr th {\n",
       "        vertical-align: top;\n",
       "    }\n",
       "\n",
       "    .dataframe thead th {\n",
       "        text-align: right;\n",
       "    }\n",
       "</style>\n",
       "<table border=\"1\" class=\"dataframe\">\n",
       "  <thead>\n",
       "    <tr style=\"text-align: right;\">\n",
       "      <th></th>\n",
       "      <th>0</th>\n",
       "      <th>1</th>\n",
       "      <th>2</th>\n",
       "    </tr>\n",
       "  </thead>\n",
       "  <tbody>\n",
       "    <tr>\n",
       "      <th>0</th>\n",
       "      <td>1</td>\n",
       "      <td>2</td>\n",
       "      <td>3</td>\n",
       "    </tr>\n",
       "    <tr>\n",
       "      <th>1</th>\n",
       "      <td>4</td>\n",
       "      <td>5</td>\n",
       "      <td>6</td>\n",
       "    </tr>\n",
       "    <tr>\n",
       "      <th>2</th>\n",
       "      <td>7</td>\n",
       "      <td>8</td>\n",
       "      <td>9</td>\n",
       "    </tr>\n",
       "  </tbody>\n",
       "</table>\n",
       "</div>"
      ],
      "text/plain": [
       "   0  1  2\n",
       "0  1  2  3\n",
       "1  4  5  6\n",
       "2  7  8  9"
      ]
     },
     "execution_count": 17,
     "metadata": {},
     "output_type": "execute_result"
    }
   ],
   "source": [
    "import numpy as np\n",
    "import pandas as pd\n",
    "arr=np.array([[1,2,3],[4,5,6],[7,8,9]])\n",
    "df=pd.DataFrame(arr)\n",
    "df"
   ]
  },
  {
   "cell_type": "code",
   "execution_count": 18,
   "id": "c9f6b7db",
   "metadata": {},
   "outputs": [
    {
     "data": {
      "text/html": [
       "<div>\n",
       "<style scoped>\n",
       "    .dataframe tbody tr th:only-of-type {\n",
       "        vertical-align: middle;\n",
       "    }\n",
       "\n",
       "    .dataframe tbody tr th {\n",
       "        vertical-align: top;\n",
       "    }\n",
       "\n",
       "    .dataframe thead th {\n",
       "        text-align: right;\n",
       "    }\n",
       "</style>\n",
       "<table border=\"1\" class=\"dataframe\">\n",
       "  <thead>\n",
       "    <tr style=\"text-align: right;\">\n",
       "      <th></th>\n",
       "      <th>0</th>\n",
       "      <th>1</th>\n",
       "      <th>2</th>\n",
       "    </tr>\n",
       "  </thead>\n",
       "  <tbody>\n",
       "    <tr>\n",
       "      <th>0</th>\n",
       "      <td>1001</td>\n",
       "      <td>2</td>\n",
       "      <td>3</td>\n",
       "    </tr>\n",
       "    <tr>\n",
       "      <th>1</th>\n",
       "      <td>4</td>\n",
       "      <td>5</td>\n",
       "      <td>6</td>\n",
       "    </tr>\n",
       "    <tr>\n",
       "      <th>2</th>\n",
       "      <td>7</td>\n",
       "      <td>8</td>\n",
       "      <td>9</td>\n",
       "    </tr>\n",
       "  </tbody>\n",
       "</table>\n",
       "</div>"
      ],
      "text/plain": [
       "      0  1  2\n",
       "0  1001  2  3\n",
       "1     4  5  6\n",
       "2     7  8  9"
      ]
     },
     "execution_count": 18,
     "metadata": {},
     "output_type": "execute_result"
    }
   ],
   "source": [
    "arr[0,0]=1001\n",
    "df"
   ]
  },
  {
   "cell_type": "code",
   "execution_count": 19,
   "id": "9cc0686f",
   "metadata": {},
   "outputs": [
    {
     "data": {
      "text/html": [
       "<div>\n",
       "<style scoped>\n",
       "    .dataframe tbody tr th:only-of-type {\n",
       "        vertical-align: middle;\n",
       "    }\n",
       "\n",
       "    .dataframe tbody tr th {\n",
       "        vertical-align: top;\n",
       "    }\n",
       "\n",
       "    .dataframe thead th {\n",
       "        text-align: right;\n",
       "    }\n",
       "</style>\n",
       "<table border=\"1\" class=\"dataframe\">\n",
       "  <thead>\n",
       "    <tr style=\"text-align: right;\">\n",
       "      <th></th>\n",
       "      <th>x</th>\n",
       "      <th>y</th>\n",
       "      <th>z</th>\n",
       "    </tr>\n",
       "  </thead>\n",
       "  <tbody>\n",
       "    <tr>\n",
       "      <th>a</th>\n",
       "      <td>1</td>\n",
       "      <td>2</td>\n",
       "      <td>3</td>\n",
       "    </tr>\n",
       "    <tr>\n",
       "      <th>b</th>\n",
       "      <td>4</td>\n",
       "      <td>5</td>\n",
       "      <td>6</td>\n",
       "    </tr>\n",
       "    <tr>\n",
       "      <th>c</th>\n",
       "      <td>7</td>\n",
       "      <td>8</td>\n",
       "      <td>9</td>\n",
       "    </tr>\n",
       "  </tbody>\n",
       "</table>\n",
       "</div>"
      ],
      "text/plain": [
       "   x  y  z\n",
       "a  1  2  3\n",
       "b  4  5  6\n",
       "c  7  8  9"
      ]
     },
     "execution_count": 19,
     "metadata": {},
     "output_type": "execute_result"
    }
   ],
   "source": [
    "import numpy as np\n",
    "import pandas as pd\n",
    "arr=np.array([[1,2,3],[4,5,6],[7,8,9]])\n",
    "df=pd.DataFrame(arr,columns=['x','y','z'],index=['a','b','c'])\n",
    "df"
   ]
  },
  {
   "cell_type": "markdown",
   "id": "e367bb4f",
   "metadata": {},
   "source": [
    "## 4.creating pandas dataframe from files"
   ]
  },
  {
   "cell_type": "markdown",
   "id": "b36b4933",
   "metadata": {},
   "source": [
    "one can save and load dtat and labels fro a pandas dataframes to and from a number of file types,including CSV,Excel,SQL,JSON and more\n",
    "this is very powerful feature\n"
   ]
  },
  {
   "cell_type": "code",
   "execution_count": 24,
   "id": "89a9296f",
   "metadata": {},
   "outputs": [
    {
     "data": {
      "text/html": [
       "<div>\n",
       "<style scoped>\n",
       "    .dataframe tbody tr th:only-of-type {\n",
       "        vertical-align: middle;\n",
       "    }\n",
       "\n",
       "    .dataframe tbody tr th {\n",
       "        vertical-align: top;\n",
       "    }\n",
       "\n",
       "    .dataframe thead th {\n",
       "        text-align: right;\n",
       "    }\n",
       "</style>\n",
       "<table border=\"1\" class=\"dataframe\">\n",
       "  <thead>\n",
       "    <tr style=\"text-align: right;\">\n",
       "      <th></th>\n",
       "      <th>state</th>\n",
       "      <th>year</th>\n",
       "      <th>pop</th>\n",
       "    </tr>\n",
       "  </thead>\n",
       "  <tbody>\n",
       "    <tr>\n",
       "      <th>0</th>\n",
       "      <td>ohio</td>\n",
       "      <td>200</td>\n",
       "      <td>32</td>\n",
       "    </tr>\n",
       "    <tr>\n",
       "      <th>1</th>\n",
       "      <td>ohio</td>\n",
       "      <td>221</td>\n",
       "      <td>23</td>\n",
       "    </tr>\n",
       "    <tr>\n",
       "      <th>2</th>\n",
       "      <td>ohio</td>\n",
       "      <td>242</td>\n",
       "      <td>45</td>\n",
       "    </tr>\n",
       "    <tr>\n",
       "      <th>3</th>\n",
       "      <td>indiaa</td>\n",
       "      <td>234</td>\n",
       "      <td>456</td>\n",
       "    </tr>\n",
       "    <tr>\n",
       "      <th>4</th>\n",
       "      <td>india</td>\n",
       "      <td>5477</td>\n",
       "      <td>56</td>\n",
       "    </tr>\n",
       "    <tr>\n",
       "      <th>5</th>\n",
       "      <td>india</td>\n",
       "      <td>768</td>\n",
       "      <td>67</td>\n",
       "    </tr>\n",
       "  </tbody>\n",
       "</table>\n",
       "</div>"
      ],
      "text/plain": [
       "    state  year  pop\n",
       "0    ohio   200   32\n",
       "1    ohio   221   23\n",
       "2    ohio   242   45\n",
       "3  indiaa   234  456\n",
       "4   india  5477   56\n",
       "5   india   768   67"
      ]
     },
     "execution_count": 24,
     "metadata": {},
     "output_type": "execute_result"
    }
   ],
   "source": [
    "import pandas as pd\n",
    "data={'state':['ohio','ohio','ohio','indiaa','india','india'],\n",
    "      'year':[200,221,242,234,5477,768],\n",
    "     'pop':[32,23,45,456,56,67]}\n",
    "pd.DataFrame(data)"
   ]
  },
  {
   "cell_type": "code",
   "execution_count": 30,
   "id": "0d8702fc",
   "metadata": {},
   "outputs": [],
   "source": [
    "frame2=pd.DataFrame(data,columns=['year','state','pop','year'])"
   ]
  },
  {
   "cell_type": "code",
   "execution_count": 27,
   "id": "98ba104d",
   "metadata": {},
   "outputs": [
    {
     "name": "stdout",
     "output_type": "stream",
     "text": [
      "0      ohio\n",
      "1      ohio\n",
      "2      ohio\n",
      "3    indiaa\n",
      "4     india\n",
      "5     india\n",
      "Name: state, dtype: object\n",
      "   year  year\n",
      "0   200   200\n",
      "1   221   221\n",
      "2   242   242\n",
      "3   234   234\n",
      "4  5477  5477\n",
      "5   768   768\n"
     ]
    }
   ],
   "source": [
    "print(frame2['state'])\n",
    "print(frame2.year)"
   ]
  },
  {
   "cell_type": "code",
   "execution_count": 31,
   "id": "56ddc132",
   "metadata": {},
   "outputs": [
    {
     "name": "stdout",
     "output_type": "stream",
     "text": [
      "0      ohio\n",
      "1      ohio\n",
      "2      ohio\n",
      "3    indiaa\n",
      "4     india\n",
      "5     india\n",
      "Name: state, dtype: object\n"
     ]
    }
   ],
   "source": [
    "print(frame2.state)"
   ]
  },
  {
   "cell_type": "code",
   "execution_count": 37,
   "id": "c057f050",
   "metadata": {},
   "outputs": [
    {
     "name": "stdout",
     "output_type": "stream",
     "text": [
      "       year   state  pop debt\n",
      "one     200    ohio   32  NaN\n",
      "two     221    ohio   23  NaN\n",
      "three   242    ohio   45  NaN\n",
      "four    234  indiaa  456  NaN\n",
      "five   5477   india   56  NaN\n",
      "six     768   india   67  NaN\n"
     ]
    },
    {
     "data": {
      "text/plain": [
       "Index(['year', 'state', 'pop', 'debt'], dtype='object')"
      ]
     },
     "execution_count": 37,
     "metadata": {},
     "output_type": "execute_result"
    }
   ],
   "source": [
    "frame2=pd.DataFrame(data,columns=['year','state','pop','debt'],\n",
    "                   index=['one','two','three','four','five','six'])\n",
    "print(frame2)\n",
    "frame2.columns"
   ]
  },
  {
   "cell_type": "code",
   "execution_count": 38,
   "id": "4edaed41",
   "metadata": {},
   "outputs": [
    {
     "data": {
      "text/plain": [
       "<pandas.core.indexing._LocIndexer at 0x193fc38f220>"
      ]
     },
     "execution_count": 38,
     "metadata": {},
     "output_type": "execute_result"
    }
   ],
   "source": [
    "frame2.loc\n"
   ]
  },
  {
   "cell_type": "code",
   "execution_count": 40,
   "id": "e0801ac3",
   "metadata": {},
   "outputs": [
    {
     "name": "stdout",
     "output_type": "stream",
     "text": [
      "       year   state  pop  debt\n",
      "one     200    ohio   32  16.5\n",
      "two     221    ohio   23  16.5\n",
      "three   242    ohio   45  16.5\n",
      "four    234  indiaa  456  16.5\n",
      "five   5477   india   56  16.5\n",
      "six     768   india   67  16.5\n"
     ]
    },
    {
     "data": {
      "text/html": [
       "<div>\n",
       "<style scoped>\n",
       "    .dataframe tbody tr th:only-of-type {\n",
       "        vertical-align: middle;\n",
       "    }\n",
       "\n",
       "    .dataframe tbody tr th {\n",
       "        vertical-align: top;\n",
       "    }\n",
       "\n",
       "    .dataframe thead th {\n",
       "        text-align: right;\n",
       "    }\n",
       "</style>\n",
       "<table border=\"1\" class=\"dataframe\">\n",
       "  <thead>\n",
       "    <tr style=\"text-align: right;\">\n",
       "      <th></th>\n",
       "      <th>year</th>\n",
       "      <th>state</th>\n",
       "      <th>pop</th>\n",
       "      <th>debt</th>\n",
       "    </tr>\n",
       "  </thead>\n",
       "  <tbody>\n",
       "    <tr>\n",
       "      <th>one</th>\n",
       "      <td>200</td>\n",
       "      <td>ohio</td>\n",
       "      <td>32</td>\n",
       "      <td>0.0</td>\n",
       "    </tr>\n",
       "    <tr>\n",
       "      <th>two</th>\n",
       "      <td>221</td>\n",
       "      <td>ohio</td>\n",
       "      <td>23</td>\n",
       "      <td>1.0</td>\n",
       "    </tr>\n",
       "    <tr>\n",
       "      <th>three</th>\n",
       "      <td>242</td>\n",
       "      <td>ohio</td>\n",
       "      <td>45</td>\n",
       "      <td>2.0</td>\n",
       "    </tr>\n",
       "    <tr>\n",
       "      <th>four</th>\n",
       "      <td>234</td>\n",
       "      <td>indiaa</td>\n",
       "      <td>456</td>\n",
       "      <td>3.0</td>\n",
       "    </tr>\n",
       "    <tr>\n",
       "      <th>five</th>\n",
       "      <td>5477</td>\n",
       "      <td>india</td>\n",
       "      <td>56</td>\n",
       "      <td>4.0</td>\n",
       "    </tr>\n",
       "    <tr>\n",
       "      <th>six</th>\n",
       "      <td>768</td>\n",
       "      <td>india</td>\n",
       "      <td>67</td>\n",
       "      <td>5.0</td>\n",
       "    </tr>\n",
       "  </tbody>\n",
       "</table>\n",
       "</div>"
      ],
      "text/plain": [
       "       year   state  pop  debt\n",
       "one     200    ohio   32   0.0\n",
       "two     221    ohio   23   1.0\n",
       "three   242    ohio   45   2.0\n",
       "four    234  indiaa  456   3.0\n",
       "five   5477   india   56   4.0\n",
       "six     768   india   67   5.0"
      ]
     },
     "execution_count": 40,
     "metadata": {},
     "output_type": "execute_result"
    }
   ],
   "source": [
    "frame2['debt']=16.5\n",
    "print(frame2)\n",
    "frame2['debt']=np.arange(6.)\n",
    "frame2"
   ]
  },
  {
   "cell_type": "code",
   "execution_count": 41,
   "id": "bcf463e9",
   "metadata": {},
   "outputs": [
    {
     "data": {
      "text/html": [
       "<div>\n",
       "<style scoped>\n",
       "    .dataframe tbody tr th:only-of-type {\n",
       "        vertical-align: middle;\n",
       "    }\n",
       "\n",
       "    .dataframe tbody tr th {\n",
       "        vertical-align: top;\n",
       "    }\n",
       "\n",
       "    .dataframe thead th {\n",
       "        text-align: right;\n",
       "    }\n",
       "</style>\n",
       "<table border=\"1\" class=\"dataframe\">\n",
       "  <thead>\n",
       "    <tr style=\"text-align: right;\">\n",
       "      <th></th>\n",
       "      <th>year</th>\n",
       "      <th>state</th>\n",
       "      <th>pop</th>\n",
       "      <th>debt</th>\n",
       "    </tr>\n",
       "  </thead>\n",
       "  <tbody>\n",
       "    <tr>\n",
       "      <th>one</th>\n",
       "      <td>200</td>\n",
       "      <td>ohio</td>\n",
       "      <td>32</td>\n",
       "      <td>NaN</td>\n",
       "    </tr>\n",
       "    <tr>\n",
       "      <th>two</th>\n",
       "      <td>221</td>\n",
       "      <td>ohio</td>\n",
       "      <td>23</td>\n",
       "      <td>-1.2</td>\n",
       "    </tr>\n",
       "    <tr>\n",
       "      <th>three</th>\n",
       "      <td>242</td>\n",
       "      <td>ohio</td>\n",
       "      <td>45</td>\n",
       "      <td>-2.3</td>\n",
       "    </tr>\n",
       "    <tr>\n",
       "      <th>four</th>\n",
       "      <td>234</td>\n",
       "      <td>indiaa</td>\n",
       "      <td>456</td>\n",
       "      <td>4.5</td>\n",
       "    </tr>\n",
       "    <tr>\n",
       "      <th>five</th>\n",
       "      <td>5477</td>\n",
       "      <td>india</td>\n",
       "      <td>56</td>\n",
       "      <td>NaN</td>\n",
       "    </tr>\n",
       "    <tr>\n",
       "      <th>six</th>\n",
       "      <td>768</td>\n",
       "      <td>india</td>\n",
       "      <td>67</td>\n",
       "      <td>NaN</td>\n",
       "    </tr>\n",
       "  </tbody>\n",
       "</table>\n",
       "</div>"
      ],
      "text/plain": [
       "       year   state  pop  debt\n",
       "one     200    ohio   32   NaN\n",
       "two     221    ohio   23  -1.2\n",
       "three   242    ohio   45  -2.3\n",
       "four    234  indiaa  456   4.5\n",
       "five   5477   india   56   NaN\n",
       "six     768   india   67   NaN"
      ]
     },
     "execution_count": 41,
     "metadata": {},
     "output_type": "execute_result"
    }
   ],
   "source": [
    "val=pd.Series([-1.2,-2.3,4.5],index=['two','three','four'])\n",
    "frame2['debt']=val\n",
    "frame2"
   ]
  },
  {
   "cell_type": "code",
   "execution_count": 42,
   "id": "c4720ae1",
   "metadata": {},
   "outputs": [
    {
     "data": {
      "text/html": [
       "<div>\n",
       "<style scoped>\n",
       "    .dataframe tbody tr th:only-of-type {\n",
       "        vertical-align: middle;\n",
       "    }\n",
       "\n",
       "    .dataframe tbody tr th {\n",
       "        vertical-align: top;\n",
       "    }\n",
       "\n",
       "    .dataframe thead th {\n",
       "        text-align: right;\n",
       "    }\n",
       "</style>\n",
       "<table border=\"1\" class=\"dataframe\">\n",
       "  <thead>\n",
       "    <tr style=\"text-align: right;\">\n",
       "      <th></th>\n",
       "      <th>year</th>\n",
       "      <th>state</th>\n",
       "      <th>pop</th>\n",
       "      <th>debt</th>\n",
       "      <th>eastern</th>\n",
       "    </tr>\n",
       "  </thead>\n",
       "  <tbody>\n",
       "    <tr>\n",
       "      <th>one</th>\n",
       "      <td>200</td>\n",
       "      <td>ohio</td>\n",
       "      <td>32</td>\n",
       "      <td>NaN</td>\n",
       "      <td>True</td>\n",
       "    </tr>\n",
       "    <tr>\n",
       "      <th>two</th>\n",
       "      <td>221</td>\n",
       "      <td>ohio</td>\n",
       "      <td>23</td>\n",
       "      <td>-1.2</td>\n",
       "      <td>True</td>\n",
       "    </tr>\n",
       "    <tr>\n",
       "      <th>three</th>\n",
       "      <td>242</td>\n",
       "      <td>ohio</td>\n",
       "      <td>45</td>\n",
       "      <td>-2.3</td>\n",
       "      <td>True</td>\n",
       "    </tr>\n",
       "    <tr>\n",
       "      <th>four</th>\n",
       "      <td>234</td>\n",
       "      <td>indiaa</td>\n",
       "      <td>456</td>\n",
       "      <td>4.5</td>\n",
       "      <td>False</td>\n",
       "    </tr>\n",
       "    <tr>\n",
       "      <th>five</th>\n",
       "      <td>5477</td>\n",
       "      <td>india</td>\n",
       "      <td>56</td>\n",
       "      <td>NaN</td>\n",
       "      <td>False</td>\n",
       "    </tr>\n",
       "    <tr>\n",
       "      <th>six</th>\n",
       "      <td>768</td>\n",
       "      <td>india</td>\n",
       "      <td>67</td>\n",
       "      <td>NaN</td>\n",
       "      <td>False</td>\n",
       "    </tr>\n",
       "  </tbody>\n",
       "</table>\n",
       "</div>"
      ],
      "text/plain": [
       "       year   state  pop  debt  eastern\n",
       "one     200    ohio   32   NaN     True\n",
       "two     221    ohio   23  -1.2     True\n",
       "three   242    ohio   45  -2.3     True\n",
       "four    234  indiaa  456   4.5    False\n",
       "five   5477   india   56   NaN    False\n",
       "six     768   india   67   NaN    False"
      ]
     },
     "execution_count": 42,
     "metadata": {},
     "output_type": "execute_result"
    }
   ],
   "source": [
    "frame2['eastern']=frame2.state=='ohio'\n",
    "frame2"
   ]
  },
  {
   "cell_type": "code",
   "execution_count": 43,
   "id": "1c4d6da6",
   "metadata": {},
   "outputs": [
    {
     "data": {
      "text/plain": [
       "Index(['year', 'state', 'pop', 'debt', 'eastern'], dtype='object')"
      ]
     },
     "execution_count": 43,
     "metadata": {},
     "output_type": "execute_result"
    }
   ],
   "source": [
    "frame2.columns"
   ]
  },
  {
   "cell_type": "code",
   "execution_count": 44,
   "id": "2bbcad6e",
   "metadata": {},
   "outputs": [
    {
     "data": {
      "text/plain": [
       "Index(['year', 'state', 'pop', 'debt'], dtype='object')"
      ]
     },
     "execution_count": 44,
     "metadata": {},
     "output_type": "execute_result"
    }
   ],
   "source": [
    "del frame2['eastern']\n",
    "frame2.columns"
   ]
  },
  {
   "cell_type": "code",
   "execution_count": 45,
   "id": "db6cb8c6",
   "metadata": {},
   "outputs": [],
   "source": [
    "pop={'india':{234:432,5477:233},\n",
    "     'ohio':{200:1.3,221:445}}"
   ]
  },
  {
   "cell_type": "code",
   "execution_count": 46,
   "id": "2aaca18e",
   "metadata": {},
   "outputs": [
    {
     "name": "stdout",
     "output_type": "stream",
     "text": [
      "       year   state  pop  debt\n",
      "one     200    ohio   32   NaN\n",
      "two     221    ohio   23  -1.2\n",
      "three   242    ohio   45  -2.3\n",
      "four    234  indiaa  456   4.5\n",
      "five   5477   india   56   NaN\n",
      "six     768   india   67   NaN\n"
     ]
    }
   ],
   "source": [
    "print(frame2)"
   ]
  },
  {
   "cell_type": "code",
   "execution_count": 48,
   "id": "534f80db",
   "metadata": {},
   "outputs": [
    {
     "data": {
      "text/html": [
       "<div>\n",
       "<style scoped>\n",
       "    .dataframe tbody tr th:only-of-type {\n",
       "        vertical-align: middle;\n",
       "    }\n",
       "\n",
       "    .dataframe tbody tr th {\n",
       "        vertical-align: top;\n",
       "    }\n",
       "\n",
       "    .dataframe thead th {\n",
       "        text-align: right;\n",
       "    }\n",
       "</style>\n",
       "<table border=\"1\" class=\"dataframe\">\n",
       "  <thead>\n",
       "    <tr style=\"text-align: right;\">\n",
       "      <th></th>\n",
       "      <th>one</th>\n",
       "      <th>two</th>\n",
       "      <th>three</th>\n",
       "      <th>four</th>\n",
       "      <th>five</th>\n",
       "      <th>six</th>\n",
       "    </tr>\n",
       "  </thead>\n",
       "  <tbody>\n",
       "    <tr>\n",
       "      <th>year</th>\n",
       "      <td>200</td>\n",
       "      <td>221</td>\n",
       "      <td>242</td>\n",
       "      <td>234</td>\n",
       "      <td>5477</td>\n",
       "      <td>768</td>\n",
       "    </tr>\n",
       "    <tr>\n",
       "      <th>state</th>\n",
       "      <td>ohio</td>\n",
       "      <td>ohio</td>\n",
       "      <td>ohio</td>\n",
       "      <td>indiaa</td>\n",
       "      <td>india</td>\n",
       "      <td>india</td>\n",
       "    </tr>\n",
       "    <tr>\n",
       "      <th>pop</th>\n",
       "      <td>32</td>\n",
       "      <td>23</td>\n",
       "      <td>45</td>\n",
       "      <td>456</td>\n",
       "      <td>56</td>\n",
       "      <td>67</td>\n",
       "    </tr>\n",
       "    <tr>\n",
       "      <th>debt</th>\n",
       "      <td>NaN</td>\n",
       "      <td>-1.2</td>\n",
       "      <td>-2.3</td>\n",
       "      <td>4.5</td>\n",
       "      <td>NaN</td>\n",
       "      <td>NaN</td>\n",
       "    </tr>\n",
       "  </tbody>\n",
       "</table>\n",
       "</div>"
      ],
      "text/plain": [
       "        one   two three    four   five    six\n",
       "year    200   221   242     234   5477    768\n",
       "state  ohio  ohio  ohio  indiaa  india  india\n",
       "pop      32    23    45     456     56     67\n",
       "debt    NaN  -1.2  -2.3     4.5    NaN    NaN"
      ]
     },
     "execution_count": 48,
     "metadata": {},
     "output_type": "execute_result"
    }
   ],
   "source": [
    "frame2.T    ## .T   ---> is callesd transpose"
   ]
  },
  {
   "cell_type": "code",
   "execution_count": 65,
   "id": "8f4bdaf3",
   "metadata": {},
   "outputs": [
    {
     "data": {
      "text/html": [
       "<div>\n",
       "<style scoped>\n",
       "    .dataframe tbody tr th:only-of-type {\n",
       "        vertical-align: middle;\n",
       "    }\n",
       "\n",
       "    .dataframe tbody tr th {\n",
       "        vertical-align: top;\n",
       "    }\n",
       "\n",
       "    .dataframe thead th {\n",
       "        text-align: right;\n",
       "    }\n",
       "</style>\n",
       "<table border=\"1\" class=\"dataframe\">\n",
       "  <thead>\n",
       "    <tr style=\"text-align: right;\">\n",
       "      <th></th>\n",
       "      <th>one</th>\n",
       "      <th>two</th>\n",
       "      <th>three</th>\n",
       "    </tr>\n",
       "  </thead>\n",
       "  <tbody>\n",
       "    <tr>\n",
       "      <th>year</th>\n",
       "      <td>NaN</td>\n",
       "      <td>NaN</td>\n",
       "      <td>NaN</td>\n",
       "    </tr>\n",
       "    <tr>\n",
       "      <th>pop</th>\n",
       "      <td>NaN</td>\n",
       "      <td>NaN</td>\n",
       "      <td>NaN</td>\n",
       "    </tr>\n",
       "    <tr>\n",
       "      <th>state</th>\n",
       "      <td>NaN</td>\n",
       "      <td>NaN</td>\n",
       "      <td>NaN</td>\n",
       "    </tr>\n",
       "  </tbody>\n",
       "</table>\n",
       "</div>"
      ],
      "text/plain": [
       "       one  two three\n",
       "year   NaN  NaN   NaN\n",
       "pop    NaN  NaN   NaN\n",
       "state  NaN  NaN   NaN"
      ]
     },
     "execution_count": 65,
     "metadata": {},
     "output_type": "execute_result"
    }
   ],
   "source": [
    "pd.DataFrame(pop,index=['year','pop','state'],columns=['one','two','three'])"
   ]
  },
  {
   "cell_type": "code",
   "execution_count": 63,
   "id": "5abe487e",
   "metadata": {},
   "outputs": [
    {
     "data": {
      "text/plain": [
       "array([[200, 'ohio', 32, nan],\n",
       "       [221, 'ohio', 23, -1.2],\n",
       "       [242, 'ohio', 45, -2.3],\n",
       "       [234, 'indiaa', 456, 4.5],\n",
       "       [5477, 'india', 56, nan],\n",
       "       [768, 'india', 67, nan]], dtype=object)"
      ]
     },
     "execution_count": 63,
     "metadata": {},
     "output_type": "execute_result"
    }
   ],
   "source": [
    "frame2.values"
   ]
  },
  {
   "cell_type": "markdown",
   "id": "4e307df6",
   "metadata": {},
   "source": [
    "# index objects"
   ]
  },
  {
   "cell_type": "markdown",
   "id": "83a35950",
   "metadata": {},
   "source": [
    "pandas index objects are responsible for hols=ding the axis labels and other and other meta data(like the axis name or names) any arrays or the array or other sequnece of lables you can use when constructing a series or data frames is internally converted to index\n",
    "\n"
   ]
  },
  {
   "cell_type": "markdown",
   "id": "646a6d5f",
   "metadata": {},
   "source": [
    "unlike python sets,a pandas index can contain duplicate labels .selected with duplicates labels will select thre occurences of labels .each index has a number of methods and properties "
   ]
  },
  {
   "cell_type": "markdown",
   "id": "98241643",
   "metadata": {},
   "source": [
    "union,isin,delete=te ,drop,insert,is_monotonic,is_unique,unique"
   ]
  },
  {
   "cell_type": "code",
   "execution_count": 6,
   "id": "b4987487",
   "metadata": {},
   "outputs": [
    {
     "name": "stdout",
     "output_type": "stream",
     "text": [
      "Int64Index([0, 1, 2], dtype='int64')\n",
      "0    1.2\n",
      "1   -2.3\n",
      "2    0.0\n",
      "dtype: float64\n"
     ]
    },
    {
     "data": {
      "text/plain": [
       "True"
      ]
     },
     "execution_count": 6,
     "metadata": {},
     "output_type": "execute_result"
    }
   ],
   "source": [
    "import pandas as pd\n",
    "import numpy as np\n",
    "labels=pd.Index(np.arange(3))\n",
    "print(labels)\n",
    "obj2=pd.Series([1.2,-2.3,0],index=labels)\n",
    "print(obj2)\n",
    "obj2.index is labels"
   ]
  },
  {
   "cell_type": "code",
   "execution_count": 10,
   "id": "21aa76c2",
   "metadata": {},
   "outputs": [
    {
     "name": "stdout",
     "output_type": "stream",
     "text": [
      "Int64Index([12, 32, 12, 76, 76, 89], dtype='int64') /n Int64Index([1, 2, 3, 4], dtype='int64')\n",
      "Int64Index([12, 32, 12, 76, 76, 89, 1, 2, 3, 4], dtype='int64')\n",
      "Int64Index([1, 2, 3, 4, 12, 12, 32, 76, 76, 89], dtype='int64')\n",
      "Int64Index([12, 32, 76, 89], dtype='int64')\n",
      "Int64Index([], dtype='int64')\n"
     ]
    }
   ],
   "source": [
    "import pandas as pd\n",
    "df1=pd.Index([12,32,12,76,76,89])\n",
    "df2=pd.Index([1,2,3,4])\n",
    "print(df1,\"/n\",df2)\n",
    "app=df1.append(df2)\n",
    "print(app)\n",
    "uni=df1.union(df2)\n",
    "print(uni)\n",
    "diff=df1.difference(df2)\n",
    "print(diff)\n",
    "inte=df1.intersection(df2)\n",
    "print(inte)"
   ]
  },
  {
   "cell_type": "code",
   "execution_count": 12,
   "id": "09e99f99",
   "metadata": {},
   "outputs": [
    {
     "name": "stdout",
     "output_type": "stream",
     "text": [
      "Int64Index([12, 32, 12, 76, 76, 89], dtype='int64')\n",
      "Int64Index([1, 2, 3, 4], dtype='int64')\n",
      "Int64Index([12, 32, 76, 89], dtype='int64')\n",
      "Int64Index([1, 2, 3, 4], dtype='int64')\n",
      "False\n",
      "True\n",
      "False\n",
      "True\n"
     ]
    }
   ],
   "source": [
    "print(df1)\n",
    "print(df2)\n",
    "print(df1.unique())\n",
    "print(df2.unique())\n",
    "print(df1.is_unique)\n",
    "print(df2.is_unique)\n",
    "print(df1.is_monotonic)\n",
    "print(df2.is_monotonic)"
   ]
  },
  {
   "cell_type": "code",
   "execution_count": 13,
   "id": "b470c328",
   "metadata": {},
   "outputs": [
    {
     "name": "stdout",
     "output_type": "stream",
     "text": [
      "Int64Index([12, 32, 12, 76, 76, 89], dtype='int64')\n",
      "Int64Index([12, 32, 76, 76, 89], dtype='int64')\n"
     ]
    }
   ],
   "source": [
    "print(df1)\n",
    "df4=df1.delete(2)\n",
    "print(df4)"
   ]
  },
  {
   "cell_type": "markdown",
   "id": "611e77c7",
   "metadata": {},
   "source": [
    "# reindexing"
   ]
  },
  {
   "cell_type": "markdown",
   "id": "23a1d26b",
   "metadata": {},
   "source": [
    "it is an importing method on pandas objects ids reindex\n",
    "\n",
    "method\n",
    "\n",
    "index,method ,fill_value,limit,tolerance level,copy"
   ]
  },
  {
   "cell_type": "code",
   "execution_count": 15,
   "id": "f093169e",
   "metadata": {},
   "outputs": [
    {
     "data": {
      "text/plain": [
       "a    4.0\n",
       "b    6.7\n",
       "c    3.5\n",
       "d   -2.3\n",
       "dtype: float64"
      ]
     },
     "execution_count": 15,
     "metadata": {},
     "output_type": "execute_result"
    }
   ],
   "source": [
    "import pandas as pd\n",
    "obj=pd.Series([4.,6.7,3.5,-2.3],index=['a','b','c','d'])\n",
    "obj"
   ]
  },
  {
   "cell_type": "code",
   "execution_count": 17,
   "id": "9285840f",
   "metadata": {},
   "outputs": [
    {
     "data": {
      "text/plain": [
       "a    4.0\n",
       "b    6.7\n",
       "c    3.5\n",
       "d   -2.3\n",
       "dtype: float64"
      ]
     },
     "execution_count": 17,
     "metadata": {},
     "output_type": "execute_result"
    }
   ],
   "source": [
    "obj2=obj.reindex(['a','b','c','d'])\n",
    "obj2"
   ]
  },
  {
   "cell_type": "code",
   "execution_count": 29,
   "id": "788e4537",
   "metadata": {},
   "outputs": [
    {
     "name": "stdout",
     "output_type": "stream",
     "text": [
      "       col1      col2      col3\n",
      "0  0.476774 -1.526265  0.159276\n",
      "1  0.317109  0.233479  0.971219\n",
      "       col1      col2      col3\n",
      "0 -0.890402  1.381071 -1.216618\n",
      "1 -1.056309 -0.251889  0.469635\n",
      "2 -1.678778 -0.511836 -0.209638\n",
      "3  0.171965 -0.529961 -0.308361\n",
      "4  2.258007  0.022666 -0.135506\n",
      "5 -0.262986  0.695262  1.424198\n",
      "       col1      col2      col3\n",
      "0 -0.890402  1.381071 -1.216618\n",
      "1 -1.056309 -0.251889  0.469635\n"
     ]
    }
   ],
   "source": [
    "import numpy as np\n",
    "import pandas as pd\n",
    "df1=pd.DataFrame(np.random.randn(6,3),columns=['col1','col2','col3'])\n",
    "df2=pd.DataFrame(np.random.randn(2,3),columns=['col1','col2','col3'])\n",
    "print(df2)\n",
    "print(df1)\n",
    "df1=df1.reindex_like(df2)\n",
    "print(df1)"
   ]
  },
  {
   "cell_type": "code",
   "execution_count": 23,
   "id": "cdd31dbc",
   "metadata": {},
   "outputs": [
    {
     "name": "stdout",
     "output_type": "stream",
     "text": [
      "0      blue\n",
      "1    purple\n",
      "2    orange\n",
      "3     green\n",
      "dtype: object\n",
      "0      blue\n",
      "1    purple\n",
      "2    orange\n",
      "3     green\n",
      "4     green\n",
      "5     green\n",
      "dtype: object\n"
     ]
    }
   ],
   "source": [
    "obj3=pd.Series(['blue','purple','orange','green'])\n",
    "print(obj3)\n",
    "obj4=obj3.reindex(range(6),method='ffill')\n",
    "print(obj4)"
   ]
  },
  {
   "cell_type": "markdown",
   "id": "ad6e3bd8",
   "metadata": {},
   "source": [
    "# limits"
   ]
  },
  {
   "cell_type": "code",
   "execution_count": 28,
   "id": "51c2f44f",
   "metadata": {},
   "outputs": [
    {
     "name": "stdout",
     "output_type": "stream",
     "text": [
      "       col1      col2      col3\n",
      "0  0.601172 -0.939795  0.633862\n",
      "1  0.412832  0.435180 -1.423087\n",
      "2       NaN       NaN       NaN\n",
      "3       NaN       NaN       NaN\n",
      "4       NaN       NaN       NaN\n",
      "5       NaN       NaN       NaN\n",
      "       col1      col2      col3\n",
      "0  0.601172 -0.939795  0.633862\n",
      "1  0.412832  0.435180 -1.423087\n",
      "2  0.412832  0.435180 -1.423087\n",
      "3  0.412832  0.435180 -1.423087\n",
      "4  0.412832  0.435180 -1.423087\n",
      "5  0.412832  0.435180 -1.423087\n"
     ]
    }
   ],
   "source": [
    "import numpy as np\n",
    "import pandas as pd\n",
    "df1=pd.DataFrame(np.random.randn(6,3),columns=['col1','col2','col3'])\n",
    "df2=pd.DataFrame(np.random.randn(2,3),columns=['col1','col2','col3'])\n",
    "print(df2.reindex_like(df1))\n",
    "print(df2.reindex_like(df1,method='ffill'))\n"
   ]
  },
  {
   "cell_type": "code",
   "execution_count": null,
   "id": "20f6e69e",
   "metadata": {},
   "outputs": [],
   "source": []
  }
 ],
 "metadata": {
  "kernelspec": {
   "display_name": "Python 3",
   "language": "python",
   "name": "python3"
  },
  "language_info": {
   "codemirror_mode": {
    "name": "ipython",
    "version": 3
   },
   "file_extension": ".py",
   "mimetype": "text/x-python",
   "name": "python",
   "nbconvert_exporter": "python",
   "pygments_lexer": "ipython3",
   "version": "3.8.8"
  }
 },
 "nbformat": 4,
 "nbformat_minor": 5
}
